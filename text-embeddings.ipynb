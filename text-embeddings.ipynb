{
 "cells": [
  {
   "cell_type": "markdown",
   "id": "98092adf",
   "metadata": {
    "papermill": {
     "duration": 0.005409,
     "end_time": "2025-04-22T04:53:33.129985",
     "exception": false,
     "start_time": "2025-04-22T04:53:33.124576",
     "status": "completed"
    },
    "tags": []
   },
   "source": [
    "# Phoneme Embeddings"
   ]
  },
  {
   "cell_type": "code",
   "execution_count": 1,
   "id": "712b1246",
   "metadata": {
    "execution": {
     "iopub.execute_input": "2025-04-22T04:53:33.139906Z",
     "iopub.status.busy": "2025-04-22T04:53:33.139623Z",
     "iopub.status.idle": "2025-04-22T04:53:38.549536Z",
     "shell.execute_reply": "2025-04-22T04:53:38.548565Z"
    },
    "papermill": {
     "duration": 5.416409,
     "end_time": "2025-04-22T04:53:38.550794",
     "exception": false,
     "start_time": "2025-04-22T04:53:33.134385",
     "status": "completed"
    },
    "tags": []
   },
   "outputs": [
    {
     "name": "stdout",
     "output_type": "stream",
     "text": [
      "Collecting phonemizer\r\n",
      "  Downloading phonemizer-3.3.0-py3-none-any.whl.metadata (48 kB)\r\n",
      "\u001b[2K     \u001b[90m━━━━━━━━━━━━━━━━━━━━━━━━━━━━━━━━━━━━━━━━\u001b[0m \u001b[32m48.2/48.2 kB\u001b[0m \u001b[31m2.0 MB/s\u001b[0m eta \u001b[36m0:00:00\u001b[0m\r\n",
      "\u001b[?25hRequirement already satisfied: joblib in /usr/local/lib/python3.11/dist-packages (from phonemizer) (1.4.2)\r\n",
      "Collecting segments (from phonemizer)\r\n",
      "  Downloading segments-2.3.0-py2.py3-none-any.whl.metadata (3.5 kB)\r\n",
      "Requirement already satisfied: attrs>=18.1 in /usr/local/lib/python3.11/dist-packages (from phonemizer) (25.3.0)\r\n",
      "Collecting dlinfo (from phonemizer)\r\n",
      "  Downloading dlinfo-2.0.0-py3-none-any.whl.metadata (1.1 kB)\r\n",
      "Requirement already satisfied: typing-extensions in /usr/local/lib/python3.11/dist-packages (from phonemizer) (4.13.1)\r\n",
      "Requirement already satisfied: regex in /usr/local/lib/python3.11/dist-packages (from segments->phonemizer) (2024.11.6)\r\n",
      "Collecting csvw>=1.5.6 (from segments->phonemizer)\r\n",
      "  Downloading csvw-3.5.1-py2.py3-none-any.whl.metadata (10 kB)\r\n",
      "Collecting isodate (from csvw>=1.5.6->segments->phonemizer)\r\n",
      "  Downloading isodate-0.7.2-py3-none-any.whl.metadata (11 kB)\r\n",
      "Requirement already satisfied: python-dateutil in /usr/local/lib/python3.11/dist-packages (from csvw>=1.5.6->segments->phonemizer) (2.9.0.post0)\r\n",
      "Collecting rfc3986<2 (from csvw>=1.5.6->segments->phonemizer)\r\n",
      "  Downloading rfc3986-1.5.0-py2.py3-none-any.whl.metadata (6.5 kB)\r\n",
      "Requirement already satisfied: uritemplate>=3.0.0 in /usr/local/lib/python3.11/dist-packages (from csvw>=1.5.6->segments->phonemizer) (4.1.1)\r\n",
      "Requirement already satisfied: babel in /usr/local/lib/python3.11/dist-packages (from csvw>=1.5.6->segments->phonemizer) (2.17.0)\r\n",
      "Requirement already satisfied: requests in /usr/local/lib/python3.11/dist-packages (from csvw>=1.5.6->segments->phonemizer) (2.32.3)\r\n",
      "Collecting language-tags (from csvw>=1.5.6->segments->phonemizer)\r\n",
      "  Downloading language_tags-1.2.0-py3-none-any.whl.metadata (2.1 kB)\r\n",
      "Collecting rdflib (from csvw>=1.5.6->segments->phonemizer)\r\n",
      "  Downloading rdflib-7.1.4-py3-none-any.whl.metadata (11 kB)\r\n",
      "Requirement already satisfied: colorama in /usr/local/lib/python3.11/dist-packages (from csvw>=1.5.6->segments->phonemizer) (0.4.6)\r\n",
      "Requirement already satisfied: jsonschema in /usr/local/lib/python3.11/dist-packages (from csvw>=1.5.6->segments->phonemizer) (4.23.0)\r\n",
      "Requirement already satisfied: jsonschema-specifications>=2023.03.6 in /usr/local/lib/python3.11/dist-packages (from jsonschema->csvw>=1.5.6->segments->phonemizer) (2024.10.1)\r\n",
      "Requirement already satisfied: referencing>=0.28.4 in /usr/local/lib/python3.11/dist-packages (from jsonschema->csvw>=1.5.6->segments->phonemizer) (0.36.2)\r\n",
      "Requirement already satisfied: rpds-py>=0.7.1 in /usr/local/lib/python3.11/dist-packages (from jsonschema->csvw>=1.5.6->segments->phonemizer) (0.22.3)\r\n",
      "Requirement already satisfied: six>=1.5 in /usr/local/lib/python3.11/dist-packages (from python-dateutil->csvw>=1.5.6->segments->phonemizer) (1.17.0)\r\n",
      "Requirement already satisfied: pyparsing<4,>=2.1.0 in /usr/local/lib/python3.11/dist-packages (from rdflib->csvw>=1.5.6->segments->phonemizer) (3.2.1)\r\n",
      "Requirement already satisfied: charset-normalizer<4,>=2 in /usr/local/lib/python3.11/dist-packages (from requests->csvw>=1.5.6->segments->phonemizer) (3.4.1)\r\n",
      "Requirement already satisfied: idna<4,>=2.5 in /usr/local/lib/python3.11/dist-packages (from requests->csvw>=1.5.6->segments->phonemizer) (3.10)\r\n",
      "Requirement already satisfied: urllib3<3,>=1.21.1 in /usr/local/lib/python3.11/dist-packages (from requests->csvw>=1.5.6->segments->phonemizer) (2.3.0)\r\n",
      "Requirement already satisfied: certifi>=2017.4.17 in /usr/local/lib/python3.11/dist-packages (from requests->csvw>=1.5.6->segments->phonemizer) (2025.1.31)\r\n",
      "Downloading phonemizer-3.3.0-py3-none-any.whl (103 kB)\r\n",
      "\u001b[2K   \u001b[90m━━━━━━━━━━━━━━━━━━━━━━━━━━━━━━━━━━━━━━━━\u001b[0m \u001b[32m103.8/103.8 kB\u001b[0m \u001b[31m4.7 MB/s\u001b[0m eta \u001b[36m0:00:00\u001b[0m\r\n",
      "\u001b[?25hDownloading dlinfo-2.0.0-py3-none-any.whl (3.7 kB)\r\n",
      "Downloading segments-2.3.0-py2.py3-none-any.whl (15 kB)\r\n",
      "Downloading csvw-3.5.1-py2.py3-none-any.whl (59 kB)\r\n",
      "\u001b[2K   \u001b[90m━━━━━━━━━━━━━━━━━━━━━━━━━━━━━━━━━━━━━━━━\u001b[0m \u001b[32m59.9/59.9 kB\u001b[0m \u001b[31m4.8 MB/s\u001b[0m eta \u001b[36m0:00:00\u001b[0m\r\n",
      "\u001b[?25hDownloading rfc3986-1.5.0-py2.py3-none-any.whl (31 kB)\r\n",
      "Downloading isodate-0.7.2-py3-none-any.whl (22 kB)\r\n",
      "Downloading language_tags-1.2.0-py3-none-any.whl (213 kB)\r\n",
      "\u001b[2K   \u001b[90m━━━━━━━━━━━━━━━━━━━━━━━━━━━━━━━━━━━━━━━━\u001b[0m \u001b[32m213.4/213.4 kB\u001b[0m \u001b[31m8.6 MB/s\u001b[0m eta \u001b[36m0:00:00\u001b[0m\r\n",
      "\u001b[?25hDownloading rdflib-7.1.4-py3-none-any.whl (565 kB)\r\n",
      "\u001b[2K   \u001b[90m━━━━━━━━━━━━━━━━━━━━━━━━━━━━━━━━━━━━━━━━\u001b[0m \u001b[32m565.1/565.1 kB\u001b[0m \u001b[31m23.1 MB/s\u001b[0m eta \u001b[36m0:00:00\u001b[0m\r\n",
      "\u001b[?25hInstalling collected packages: rfc3986, language-tags, rdflib, isodate, dlinfo, csvw, segments, phonemizer\r\n",
      "Successfully installed csvw-3.5.1 dlinfo-2.0.0 isodate-0.7.2 language-tags-1.2.0 phonemizer-3.3.0 rdflib-7.1.4 rfc3986-1.5.0 segments-2.3.0\r\n",
      "Note: you may need to restart the kernel to use updated packages.\n"
     ]
    }
   ],
   "source": [
    "pip install phonemizer"
   ]
  },
  {
   "cell_type": "markdown",
   "id": "73166375",
   "metadata": {
    "papermill": {
     "duration": 0.005028,
     "end_time": "2025-04-22T04:53:38.562745",
     "exception": false,
     "start_time": "2025-04-22T04:53:38.557717",
     "status": "completed"
    },
    "tags": []
   },
   "source": [
    "# Morphology Embeddings"
   ]
  },
  {
   "cell_type": "code",
   "execution_count": 2,
   "id": "b8a2f383",
   "metadata": {
    "_cell_guid": "b1076dfc-b9ad-4769-8c92-a6c4dae69d19",
    "_uuid": "8f2839f25d086af736a60e9eeb907d3b93b6e0e5",
    "execution": {
     "iopub.execute_input": "2025-04-22T04:53:38.574467Z",
     "iopub.status.busy": "2025-04-22T04:53:38.574003Z",
     "iopub.status.idle": "2025-04-22T04:53:41.687960Z",
     "shell.execute_reply": "2025-04-22T04:53:41.686814Z"
    },
    "papermill": {
     "duration": 3.121341,
     "end_time": "2025-04-22T04:53:41.689415",
     "exception": false,
     "start_time": "2025-04-22T04:53:38.568074",
     "status": "completed"
    },
    "tags": []
   },
   "outputs": [
    {
     "name": "stdout",
     "output_type": "stream",
     "text": [
      "Collecting morfessor\r\n",
      "  Downloading Morfessor-2.0.6-py3-none-any.whl.metadata (628 bytes)\r\n",
      "Downloading Morfessor-2.0.6-py3-none-any.whl (35 kB)\r\n",
      "Installing collected packages: morfessor\r\n",
      "Successfully installed morfessor-2.0.6\r\n",
      "Note: you may need to restart the kernel to use updated packages.\n"
     ]
    }
   ],
   "source": [
    "pip install morfessor\n"
   ]
  },
  {
   "cell_type": "markdown",
   "id": "574f97da",
   "metadata": {
    "papermill": {
     "duration": 0.005583,
     "end_time": "2025-04-22T04:53:41.701201",
     "exception": false,
     "start_time": "2025-04-22T04:53:41.695618",
     "status": "completed"
    },
    "tags": []
   },
   "source": [
    "# Environment set"
   ]
  },
  {
   "cell_type": "code",
   "execution_count": 3,
   "id": "a645c3cd",
   "metadata": {
    "execution": {
     "iopub.execute_input": "2025-04-22T04:53:41.713653Z",
     "iopub.status.busy": "2025-04-22T04:53:41.713382Z",
     "iopub.status.idle": "2025-04-22T04:53:54.001280Z",
     "shell.execute_reply": "2025-04-22T04:53:54.000541Z"
    },
    "papermill": {
     "duration": 12.295762,
     "end_time": "2025-04-22T04:53:54.002785",
     "exception": false,
     "start_time": "2025-04-22T04:53:41.707023",
     "status": "completed"
    },
    "tags": []
   },
   "outputs": [
    {
     "name": "stdout",
     "output_type": "stream",
     "text": [
      "Requirement already satisfied: phonemizer in /usr/local/lib/python3.11/dist-packages (3.3.0)\r\n",
      "Requirement already satisfied: morfessor in /usr/local/lib/python3.11/dist-packages (2.0.6)\r\n",
      "Requirement already satisfied: joblib in /usr/local/lib/python3.11/dist-packages (from phonemizer) (1.4.2)\r\n",
      "Requirement already satisfied: segments in /usr/local/lib/python3.11/dist-packages (from phonemizer) (2.3.0)\r\n",
      "Requirement already satisfied: attrs>=18.1 in /usr/local/lib/python3.11/dist-packages (from phonemizer) (25.3.0)\r\n",
      "Requirement already satisfied: dlinfo in /usr/local/lib/python3.11/dist-packages (from phonemizer) (2.0.0)\r\n",
      "Requirement already satisfied: typing-extensions in /usr/local/lib/python3.11/dist-packages (from phonemizer) (4.13.1)\r\n",
      "Requirement already satisfied: regex in /usr/local/lib/python3.11/dist-packages (from segments->phonemizer) (2024.11.6)\r\n",
      "Requirement already satisfied: csvw>=1.5.6 in /usr/local/lib/python3.11/dist-packages (from segments->phonemizer) (3.5.1)\r\n",
      "Requirement already satisfied: isodate in /usr/local/lib/python3.11/dist-packages (from csvw>=1.5.6->segments->phonemizer) (0.7.2)\r\n",
      "Requirement already satisfied: python-dateutil in /usr/local/lib/python3.11/dist-packages (from csvw>=1.5.6->segments->phonemizer) (2.9.0.post0)\r\n",
      "Requirement already satisfied: rfc3986<2 in /usr/local/lib/python3.11/dist-packages (from csvw>=1.5.6->segments->phonemizer) (1.5.0)\r\n",
      "Requirement already satisfied: uritemplate>=3.0.0 in /usr/local/lib/python3.11/dist-packages (from csvw>=1.5.6->segments->phonemizer) (4.1.1)\r\n",
      "Requirement already satisfied: babel in /usr/local/lib/python3.11/dist-packages (from csvw>=1.5.6->segments->phonemizer) (2.17.0)\r\n",
      "Requirement already satisfied: requests in /usr/local/lib/python3.11/dist-packages (from csvw>=1.5.6->segments->phonemizer) (2.32.3)\r\n",
      "Requirement already satisfied: language-tags in /usr/local/lib/python3.11/dist-packages (from csvw>=1.5.6->segments->phonemizer) (1.2.0)\r\n",
      "Requirement already satisfied: rdflib in /usr/local/lib/python3.11/dist-packages (from csvw>=1.5.6->segments->phonemizer) (7.1.4)\r\n",
      "Requirement already satisfied: colorama in /usr/local/lib/python3.11/dist-packages (from csvw>=1.5.6->segments->phonemizer) (0.4.6)\r\n",
      "Requirement already satisfied: jsonschema in /usr/local/lib/python3.11/dist-packages (from csvw>=1.5.6->segments->phonemizer) (4.23.0)\r\n",
      "Requirement already satisfied: jsonschema-specifications>=2023.03.6 in /usr/local/lib/python3.11/dist-packages (from jsonschema->csvw>=1.5.6->segments->phonemizer) (2024.10.1)\r\n",
      "Requirement already satisfied: referencing>=0.28.4 in /usr/local/lib/python3.11/dist-packages (from jsonschema->csvw>=1.5.6->segments->phonemizer) (0.36.2)\r\n",
      "Requirement already satisfied: rpds-py>=0.7.1 in /usr/local/lib/python3.11/dist-packages (from jsonschema->csvw>=1.5.6->segments->phonemizer) (0.22.3)\r\n",
      "Requirement already satisfied: six>=1.5 in /usr/local/lib/python3.11/dist-packages (from python-dateutil->csvw>=1.5.6->segments->phonemizer) (1.17.0)\r\n",
      "Requirement already satisfied: pyparsing<4,>=2.1.0 in /usr/local/lib/python3.11/dist-packages (from rdflib->csvw>=1.5.6->segments->phonemizer) (3.2.1)\r\n",
      "Requirement already satisfied: charset-normalizer<4,>=2 in /usr/local/lib/python3.11/dist-packages (from requests->csvw>=1.5.6->segments->phonemizer) (3.4.1)\r\n",
      "Requirement already satisfied: idna<4,>=2.5 in /usr/local/lib/python3.11/dist-packages (from requests->csvw>=1.5.6->segments->phonemizer) (3.10)\r\n",
      "Requirement already satisfied: urllib3<3,>=1.21.1 in /usr/local/lib/python3.11/dist-packages (from requests->csvw>=1.5.6->segments->phonemizer) (2.3.0)\r\n",
      "Requirement already satisfied: certifi>=2017.4.17 in /usr/local/lib/python3.11/dist-packages (from requests->csvw>=1.5.6->segments->phonemizer) (2025.1.31)\r\n",
      "\r\n",
      "\r\n",
      "\r\n",
      "The following additional packages will be installed:\r\n",
      "  espeak-ng-data libespeak-ng1 libpcaudio0 libsonic0\r\n",
      "The following NEW packages will be installed:\r\n",
      "  espeak-ng espeak-ng-data libespeak-ng1 libpcaudio0 libsonic0\r\n",
      "0 upgraded, 5 newly installed, 0 to remove and 122 not upgraded.\r\n",
      "Need to get 4,526 kB of archives.\r\n",
      "After this operation, 11.9 MB of additional disk space will be used.\r\n",
      "Get:1 http://archive.ubuntu.com/ubuntu jammy/main amd64 libpcaudio0 amd64 1.1-6build2 [8,956 B]\r\n",
      "Get:2 http://archive.ubuntu.com/ubuntu jammy/main amd64 libsonic0 amd64 0.2.0-11build1 [10.3 kB]\r\n",
      "Get:3 http://archive.ubuntu.com/ubuntu jammy-updates/main amd64 espeak-ng-data amd64 1.50+dfsg-10ubuntu0.1 [3,956 kB]\r\n",
      "Get:4 http://archive.ubuntu.com/ubuntu jammy-updates/main amd64 libespeak-ng1 amd64 1.50+dfsg-10ubuntu0.1 [207 kB]\r\n",
      "Get:5 http://archive.ubuntu.com/ubuntu jammy-updates/universe amd64 espeak-ng amd64 1.50+dfsg-10ubuntu0.1 [343 kB]\r\n",
      "Fetched 4,526 kB in 1s (4,422 kB/s)\r\n",
      "Selecting previously unselected package libpcaudio0:amd64.\r\n",
      "(Reading database ... 128691 files and directories currently installed.)\r\n",
      "Preparing to unpack .../libpcaudio0_1.1-6build2_amd64.deb ...\r\n",
      "Unpacking libpcaudio0:amd64 (1.1-6build2) ...\r\n",
      "Selecting previously unselected package libsonic0:amd64.\r\n",
      "Preparing to unpack .../libsonic0_0.2.0-11build1_amd64.deb ...\r\n",
      "Unpacking libsonic0:amd64 (0.2.0-11build1) ...\r\n",
      "Selecting previously unselected package espeak-ng-data:amd64.\r\n",
      "Preparing to unpack .../espeak-ng-data_1.50+dfsg-10ubuntu0.1_amd64.deb ...\r\n",
      "Unpacking espeak-ng-data:amd64 (1.50+dfsg-10ubuntu0.1) ...\r\n",
      "Selecting previously unselected package libespeak-ng1:amd64.\r\n",
      "Preparing to unpack .../libespeak-ng1_1.50+dfsg-10ubuntu0.1_amd64.deb ...\r\n",
      "Unpacking libespeak-ng1:amd64 (1.50+dfsg-10ubuntu0.1) ...\r\n",
      "Selecting previously unselected package espeak-ng.\r\n",
      "Preparing to unpack .../espeak-ng_1.50+dfsg-10ubuntu0.1_amd64.deb ...\r\n",
      "Unpacking espeak-ng (1.50+dfsg-10ubuntu0.1) ...\r\n",
      "Setting up libpcaudio0:amd64 (1.1-6build2) ...\r\n",
      "Setting up libsonic0:amd64 (0.2.0-11build1) ...\r\n",
      "Setting up espeak-ng-data:amd64 (1.50+dfsg-10ubuntu0.1) ...\r\n",
      "Setting up libespeak-ng1:amd64 (1.50+dfsg-10ubuntu0.1) ...\r\n",
      "Setting up espeak-ng (1.50+dfsg-10ubuntu0.1) ...\r\n",
      "Processing triggers for man-db (2.10.2-1) ...\r\n",
      "Processing triggers for libc-bin (2.35-0ubuntu3.8) ...\r\n",
      "/sbin/ldconfig.real: /usr/local/lib/libtcm.so.1 is not a symbolic link\r\n",
      "\r\n",
      "/sbin/ldconfig.real: /usr/local/lib/libumf.so.0 is not a symbolic link\r\n",
      "\r\n",
      "/sbin/ldconfig.real: /usr/local/lib/libtcm_debug.so.1 is not a symbolic link\r\n",
      "\r\n",
      "/sbin/ldconfig.real: /usr/local/lib/libhwloc.so.15 is not a symbolic link\r\n",
      "\r\n",
      "/sbin/ldconfig.real: /usr/local/lib/libur_loader.so.0 is not a symbolic link\r\n",
      "\r\n",
      "/sbin/ldconfig.real: /usr/local/lib/libur_adapter_level_zero.so.0 is not a symbolic link\r\n",
      "\r\n",
      "/sbin/ldconfig.real: /usr/local/lib/libur_adapter_opencl.so.0 is not a symbolic link\r\n",
      "\r\n",
      "/sbin/ldconfig.real: /usr/local/lib/libtbbbind_2_5.so.3 is not a symbolic link\r\n",
      "\r\n",
      "/sbin/ldconfig.real: /usr/local/lib/libtbbbind.so.3 is not a symbolic link\r\n",
      "\r\n",
      "/sbin/ldconfig.real: /usr/local/lib/libtbbbind_2_0.so.3 is not a symbolic link\r\n",
      "\r\n",
      "/sbin/ldconfig.real: /usr/local/lib/libtbb.so.12 is not a symbolic link\r\n",
      "\r\n",
      "/sbin/ldconfig.real: /usr/local/lib/libtbbmalloc_proxy.so.2 is not a symbolic link\r\n",
      "\r\n",
      "/sbin/ldconfig.real: /usr/local/lib/libtbbmalloc.so.2 is not a symbolic link\r\n",
      "\r\n"
     ]
    }
   ],
   "source": [
    "!pip install phonemizer morfessor\n",
    "!apt-get install espeak-ng\n"
   ]
  },
  {
   "cell_type": "markdown",
   "id": "4383b6f7",
   "metadata": {
    "papermill": {
     "duration": 0.007233,
     "end_time": "2025-04-22T04:53:54.018073",
     "exception": false,
     "start_time": "2025-04-22T04:53:54.010840",
     "status": "completed"
    },
    "tags": []
   },
   "source": [
    "# Combined Embedding Layer"
   ]
  },
  {
   "cell_type": "code",
   "execution_count": 4,
   "id": "37c3c715",
   "metadata": {
    "execution": {
     "iopub.execute_input": "2025-04-22T04:53:54.034002Z",
     "iopub.status.busy": "2025-04-22T04:53:54.033753Z",
     "iopub.status.idle": "2025-04-22T04:54:21.115399Z",
     "shell.execute_reply": "2025-04-22T04:54:21.114767Z"
    },
    "papermill": {
     "duration": 27.091581,
     "end_time": "2025-04-22T04:54:21.116925",
     "exception": false,
     "start_time": "2025-04-22T04:53:54.025344",
     "status": "completed"
    },
    "tags": []
   },
   "outputs": [
    {
     "name": "stderr",
     "output_type": "stream",
     "text": [
      "2025-04-22 04:54:08.949365: E external/local_xla/xla/stream_executor/cuda/cuda_fft.cc:477] Unable to register cuFFT factory: Attempting to register factory for plugin cuFFT when one has already been registered\n",
      "WARNING: All log messages before absl::InitializeLog() is called are written to STDERR\n",
      "E0000 00:00:1745297649.132231      19 cuda_dnn.cc:8310] Unable to register cuDNN factory: Attempting to register factory for plugin cuDNN when one has already been registered\n",
      "E0000 00:00:1745297649.185645      19 cuda_blas.cc:1418] Unable to register cuBLAS factory: Attempting to register factory for plugin cuBLAS when one has already been registered\n"
     ]
    }
   ],
   "source": [
    "import torch\n",
    "import torch.nn as nn\n",
    "from transformers import BertModel\n",
    "\n",
    "# Example values (replace with actual numbers from your dataset)\n",
    "num_phonemes = 100  # Adjust based on how many unique phonemes you have\n",
    "num_morphs = 100    # Adjust based on your morph units\n",
    "num_labels = 3      # E.g., 3 classes: Standard Malay, Sabah dialect, Code-switch\n",
    "\n",
    "class CustomBertWithPhonemeMorph(nn.Module):\n",
    "    def __init__(self):\n",
    "        super().__init__()\n",
    "        self.bert = BertModel.from_pretrained(\"bert-base-multilingual-cased\")\n",
    "        self.phoneme_emb = nn.Embedding(num_phonemes, 768)\n",
    "        self.morph_emb = nn.Embedding(num_morphs, 768)\n",
    "        self.dropout = nn.Dropout(0.1)\n",
    "        self.classifier = nn.Linear(768, num_labels)\n",
    "\n",
    "    def forward(self, input_ids, phoneme_ids, morph_ids, attention_mask=None):\n",
    "        # [batch_size, seq_len, emb_dim]\n",
    "        phoneme_vec = self.phoneme_emb(phoneme_ids).mean(dim=2)  # Mean pooling over morph units\n",
    "        morph_vec = self.morph_emb(morph_ids).mean(dim=2)\n",
    "\n",
    "        # BERT output\n",
    "        outputs = self.bert(input_ids, attention_mask=attention_mask)\n",
    "        cls_emb = outputs.last_hidden_state[:, 0, :]  # [CLS] token representation\n",
    "\n",
    "        # Combine embeddings\n",
    "        combined = cls_emb + phoneme_vec[:, 0, :] + morph_vec[:, 0, :]  # Keep batch-first\n",
    "        logits = self.classifier(self.dropout(combined))\n",
    "        return logits\n"
   ]
  },
  {
   "cell_type": "code",
   "execution_count": null,
   "id": "49bbc74c",
   "metadata": {
    "papermill": {
     "duration": 0.007997,
     "end_time": "2025-04-22T04:54:21.133466",
     "exception": false,
     "start_time": "2025-04-22T04:54:21.125469",
     "status": "completed"
    },
    "tags": []
   },
   "outputs": [],
   "source": []
  },
  {
   "cell_type": "markdown",
   "id": "1768927c",
   "metadata": {
    "papermill": {
     "duration": 0.007124,
     "end_time": "2025-04-22T04:54:21.148226",
     "exception": false,
     "start_time": "2025-04-22T04:54:21.141102",
     "status": "completed"
    },
    "tags": []
   },
   "source": [
    "# -----TEST----------"
   ]
  },
  {
   "cell_type": "markdown",
   "id": "51f95f24",
   "metadata": {
    "papermill": {
     "duration": 0.00725,
     "end_time": "2025-04-22T04:54:21.162968",
     "exception": false,
     "start_time": "2025-04-22T04:54:21.155718",
     "status": "completed"
    },
    "tags": []
   },
   "source": [
    "# Step 1: Dummy Test Dataset"
   ]
  },
  {
   "cell_type": "code",
   "execution_count": 5,
   "id": "cd4d4be7",
   "metadata": {
    "execution": {
     "iopub.execute_input": "2025-04-22T04:54:21.179217Z",
     "iopub.status.busy": "2025-04-22T04:54:21.178666Z",
     "iopub.status.idle": "2025-04-22T04:54:21.182841Z",
     "shell.execute_reply": "2025-04-22T04:54:21.182122Z"
    },
    "papermill": {
     "duration": 0.013569,
     "end_time": "2025-04-22T04:54:21.183997",
     "exception": false,
     "start_time": "2025-04-22T04:54:21.170428",
     "status": "completed"
    },
    "tags": []
   },
   "outputs": [],
   "source": [
    "# Simulated text samples\n",
    "texts = [\n",
    "    \"Saya pergi ke pasar\",                          # Standard Malay\n",
    "    \"Aku mau pigi kedai bah\",                       # Sabah dialect\n",
    "    \"Saya want to buy makanan from kedai\"           # Code-switched Malay-English\n",
    "]\n",
    "\n",
    "# Fake labels for classification: 0 = Malay, 1 = Dialect, 2 = Code-Switch\n",
    "labels = [0, 1, 2]\n"
   ]
  },
  {
   "cell_type": "markdown",
   "id": "1a126601",
   "metadata": {
    "papermill": {
     "duration": 0.007285,
     "end_time": "2025-04-22T04:54:21.198665",
     "exception": false,
     "start_time": "2025-04-22T04:54:21.191380",
     "status": "completed"
    },
    "tags": []
   },
   "source": [
    "#  Step 2: Tokenizer"
   ]
  },
  {
   "cell_type": "code",
   "execution_count": 6,
   "id": "228f3551",
   "metadata": {
    "execution": {
     "iopub.execute_input": "2025-04-22T04:54:21.215966Z",
     "iopub.status.busy": "2025-04-22T04:54:21.215397Z",
     "iopub.status.idle": "2025-04-22T04:54:22.175680Z",
     "shell.execute_reply": "2025-04-22T04:54:22.174812Z"
    },
    "papermill": {
     "duration": 0.971199,
     "end_time": "2025-04-22T04:54:22.177237",
     "exception": false,
     "start_time": "2025-04-22T04:54:21.206038",
     "status": "completed"
    },
    "tags": []
   },
   "outputs": [
    {
     "data": {
      "application/vnd.jupyter.widget-view+json": {
       "model_id": "e20c602eeb424edd9629bcc394290d9c",
       "version_major": 2,
       "version_minor": 0
      },
      "text/plain": [
       "tokenizer_config.json:   0%|          | 0.00/49.0 [00:00<?, ?B/s]"
      ]
     },
     "metadata": {},
     "output_type": "display_data"
    },
    {
     "data": {
      "application/vnd.jupyter.widget-view+json": {
       "model_id": "d43c041050b44e2aac3f311a30bc4b51",
       "version_major": 2,
       "version_minor": 0
      },
      "text/plain": [
       "vocab.txt:   0%|          | 0.00/996k [00:00<?, ?B/s]"
      ]
     },
     "metadata": {},
     "output_type": "display_data"
    },
    {
     "data": {
      "application/vnd.jupyter.widget-view+json": {
       "model_id": "60e212f181384480b0f9b41570c7987c",
       "version_major": 2,
       "version_minor": 0
      },
      "text/plain": [
       "tokenizer.json:   0%|          | 0.00/1.96M [00:00<?, ?B/s]"
      ]
     },
     "metadata": {},
     "output_type": "display_data"
    },
    {
     "data": {
      "application/vnd.jupyter.widget-view+json": {
       "model_id": "ee2a80c8c87e4d10ab9c51b11a5d4a6c",
       "version_major": 2,
       "version_minor": 0
      },
      "text/plain": [
       "config.json:   0%|          | 0.00/625 [00:00<?, ?B/s]"
      ]
     },
     "metadata": {},
     "output_type": "display_data"
    }
   ],
   "source": [
    "from transformers import BertTokenizer\n",
    "\n",
    "tokenizer = BertTokenizer.from_pretrained(\"bert-base-multilingual-cased\")\n",
    "inputs = tokenizer(texts, padding=True, truncation=True, return_tensors=\"pt\")\n"
   ]
  },
  {
   "cell_type": "markdown",
   "id": "2c6571d9",
   "metadata": {
    "papermill": {
     "duration": 0.007613,
     "end_time": "2025-04-22T04:54:22.193770",
     "exception": false,
     "start_time": "2025-04-22T04:54:22.186157",
     "status": "completed"
    },
    "tags": []
   },
   "source": [
    "# Step 3: Fake Phoneme & Morph IDs"
   ]
  },
  {
   "cell_type": "code",
   "execution_count": 7,
   "id": "5dd72db0",
   "metadata": {
    "execution": {
     "iopub.execute_input": "2025-04-22T04:54:22.211524Z",
     "iopub.status.busy": "2025-04-22T04:54:22.210743Z",
     "iopub.status.idle": "2025-04-22T04:54:22.220176Z",
     "shell.execute_reply": "2025-04-22T04:54:22.219340Z"
    },
    "papermill": {
     "duration": 0.019574,
     "end_time": "2025-04-22T04:54:22.221295",
     "exception": false,
     "start_time": "2025-04-22T04:54:22.201721",
     "status": "completed"
    },
    "tags": []
   },
   "outputs": [],
   "source": [
    "import torch\n",
    "\n",
    "batch_size, seq_len = inputs['input_ids'].shape\n",
    "\n",
    "# Randomly simulate phoneme and morph IDs (normally derived from actual phoneme/morph analyzers)\n",
    "phoneme_ids = torch.randint(0, 100, (batch_size, seq_len, 5))  # 5 phoneme units per word\n",
    "morph_ids = torch.randint(0, 100, (batch_size, seq_len, 3))    # 3 morphemes per word\n"
   ]
  },
  {
   "cell_type": "markdown",
   "id": "43763518",
   "metadata": {
    "papermill": {
     "duration": 0.053219,
     "end_time": "2025-04-22T04:54:22.282339",
     "exception": false,
     "start_time": "2025-04-22T04:54:22.229120",
     "status": "completed"
    },
    "tags": []
   },
   "source": [
    "# Step 4: Define Models"
   ]
  },
  {
   "cell_type": "code",
   "execution_count": 8,
   "id": "ff9c8f94",
   "metadata": {
    "execution": {
     "iopub.execute_input": "2025-04-22T04:54:22.299900Z",
     "iopub.status.busy": "2025-04-22T04:54:22.299240Z",
     "iopub.status.idle": "2025-04-22T04:54:25.837430Z",
     "shell.execute_reply": "2025-04-22T04:54:25.836853Z"
    },
    "papermill": {
     "duration": 3.548246,
     "end_time": "2025-04-22T04:54:25.838804",
     "exception": false,
     "start_time": "2025-04-22T04:54:22.290558",
     "status": "completed"
    },
    "tags": []
   },
   "outputs": [
    {
     "name": "stderr",
     "output_type": "stream",
     "text": [
      "Xet Storage is enabled for this repo, but the 'hf_xet' package is not installed. Falling back to regular HTTP download. For better performance, install the package with: `pip install huggingface_hub[hf_xet]` or `pip install hf_xet`\n"
     ]
    },
    {
     "data": {
      "application/vnd.jupyter.widget-view+json": {
       "model_id": "d6c98b61ea714f8d8215d86890efbbd8",
       "version_major": 2,
       "version_minor": 0
      },
      "text/plain": [
       "model.safetensors:   0%|          | 0.00/714M [00:00<?, ?B/s]"
      ]
     },
     "metadata": {},
     "output_type": "display_data"
    }
   ],
   "source": [
    "class BaselineModel(nn.Module):\n",
    "    def __init__(self):\n",
    "        super().__init__()\n",
    "        self.bert = BertModel.from_pretrained(\"bert-base-multilingual-cased\")\n",
    "        self.classifier = nn.Linear(768, 3)\n",
    "\n",
    "    def forward(self, input_ids, attention_mask=None):\n",
    "        outputs = self.bert(input_ids, attention_mask=attention_mask)\n",
    "        cls_emb = outputs.last_hidden_state[:, 0, :]\n",
    "        return self.classifier(cls_emb)\n",
    "\n",
    "baseline_model = BaselineModel()\n",
    "custom_model = CustomBertWithPhonemeMorph()  # From earlier cell\n"
   ]
  },
  {
   "cell_type": "markdown",
   "id": "f0809a12",
   "metadata": {
    "papermill": {
     "duration": 0.007701,
     "end_time": "2025-04-22T04:54:25.855083",
     "exception": false,
     "start_time": "2025-04-22T04:54:25.847382",
     "status": "completed"
    },
    "tags": []
   },
   "source": [
    "# Step 5: Forward Pass & Comparison"
   ]
  },
  {
   "cell_type": "code",
   "execution_count": 9,
   "id": "2d50ccd3",
   "metadata": {
    "execution": {
     "iopub.execute_input": "2025-04-22T04:54:25.871937Z",
     "iopub.status.busy": "2025-04-22T04:54:25.871350Z",
     "iopub.status.idle": "2025-04-22T04:54:26.166119Z",
     "shell.execute_reply": "2025-04-22T04:54:26.165473Z"
    },
    "papermill": {
     "duration": 0.304851,
     "end_time": "2025-04-22T04:54:26.167754",
     "exception": false,
     "start_time": "2025-04-22T04:54:25.862903",
     "status": "completed"
    },
    "tags": []
   },
   "outputs": [],
   "source": [
    "# Forward pass with baseline\n",
    "with torch.no_grad():\n",
    "    baseline_logits = baseline_model(inputs['input_ids'], attention_mask=inputs['attention_mask'])\n",
    "\n",
    "# Forward pass with phoneme+morph model\n",
    "with torch.no_grad():\n",
    "    advanced_logits = custom_model(\n",
    "        input_ids=inputs['input_ids'],\n",
    "        attention_mask=inputs['attention_mask'],\n",
    "        phoneme_ids=phoneme_ids,\n",
    "        morph_ids=morph_ids\n",
    "    )\n"
   ]
  },
  {
   "cell_type": "markdown",
   "id": "468ba47e",
   "metadata": {
    "papermill": {
     "duration": 0.008838,
     "end_time": "2025-04-22T04:54:26.185482",
     "exception": false,
     "start_time": "2025-04-22T04:54:26.176644",
     "status": "completed"
    },
    "tags": []
   },
   "source": [
    "# Step 6: Output Predictions"
   ]
  },
  {
   "cell_type": "code",
   "execution_count": 10,
   "id": "acdcb6c0",
   "metadata": {
    "execution": {
     "iopub.execute_input": "2025-04-22T04:54:26.202347Z",
     "iopub.status.busy": "2025-04-22T04:54:26.202111Z",
     "iopub.status.idle": "2025-04-22T04:54:26.207687Z",
     "shell.execute_reply": "2025-04-22T04:54:26.207065Z"
    },
    "papermill": {
     "duration": 0.015185,
     "end_time": "2025-04-22T04:54:26.208697",
     "exception": false,
     "start_time": "2025-04-22T04:54:26.193512",
     "status": "completed"
    },
    "tags": []
   },
   "outputs": [
    {
     "name": "stdout",
     "output_type": "stream",
     "text": [
      "Ground Truth: [0, 1, 2]\n",
      "Baseline Predictions: [0, 0, 0]\n",
      "Phoneme+Morph Predictions: [1, 1, 1]\n"
     ]
    }
   ],
   "source": [
    "import torch.nn.functional as F\n",
    "\n",
    "baseline_preds = torch.argmax(F.softmax(baseline_logits, dim=1), dim=1)\n",
    "advanced_preds = torch.argmax(F.softmax(advanced_logits, dim=1), dim=1)\n",
    "\n",
    "print(\"Ground Truth:\", labels)\n",
    "print(\"Baseline Predictions:\", baseline_preds.tolist())\n",
    "print(\"Phoneme+Morph Predictions:\", advanced_preds.tolist())\n"
   ]
  },
  {
   "cell_type": "code",
   "execution_count": null,
   "id": "5bc1048e",
   "metadata": {
    "papermill": {
     "duration": 0.009055,
     "end_time": "2025-04-22T04:54:26.225824",
     "exception": false,
     "start_time": "2025-04-22T04:54:26.216769",
     "status": "completed"
    },
    "tags": []
   },
   "outputs": [],
   "source": []
  },
  {
   "cell_type": "markdown",
   "id": "1d86c790",
   "metadata": {
    "papermill": {
     "duration": 0.008139,
     "end_time": "2025-04-22T04:54:26.242451",
     "exception": false,
     "start_time": "2025-04-22T04:54:26.234312",
     "status": "completed"
    },
    "tags": []
   },
   "source": [
    "# Test 2"
   ]
  },
  {
   "cell_type": "code",
   "execution_count": 11,
   "id": "6e218e8c",
   "metadata": {
    "execution": {
     "iopub.execute_input": "2025-04-22T04:54:26.258730Z",
     "iopub.status.busy": "2025-04-22T04:54:26.258474Z",
     "iopub.status.idle": "2025-04-22T04:54:26.262180Z",
     "shell.execute_reply": "2025-04-22T04:54:26.261472Z"
    },
    "papermill": {
     "duration": 0.012917,
     "end_time": "2025-04-22T04:54:26.263190",
     "exception": false,
     "start_time": "2025-04-22T04:54:26.250273",
     "status": "completed"
    },
    "tags": []
   },
   "outputs": [],
   "source": [
    "import torch\n",
    "import torch.nn as nn\n",
    "from transformers import BertModel, BertTokenizer\n",
    "from sklearn.metrics import classification_report\n",
    "import numpy as np\n"
   ]
  },
  {
   "cell_type": "code",
   "execution_count": 12,
   "id": "66fe6ce9",
   "metadata": {
    "execution": {
     "iopub.execute_input": "2025-04-22T04:54:26.281469Z",
     "iopub.status.busy": "2025-04-22T04:54:26.280952Z",
     "iopub.status.idle": "2025-04-22T04:54:26.284211Z",
     "shell.execute_reply": "2025-04-22T04:54:26.283523Z"
    },
    "papermill": {
     "duration": 0.013047,
     "end_time": "2025-04-22T04:54:26.285268",
     "exception": false,
     "start_time": "2025-04-22T04:54:26.272221",
     "status": "completed"
    },
    "tags": []
   },
   "outputs": [],
   "source": [
    "num_phonemes = 50\n",
    "num_morphs = 100\n",
    "num_labels = 2  # Changed from 3 → now only Kelantanese and Code-switch\n"
   ]
  },
  {
   "cell_type": "code",
   "execution_count": 13,
   "id": "a8303aa2",
   "metadata": {
    "execution": {
     "iopub.execute_input": "2025-04-22T04:54:26.301849Z",
     "iopub.status.busy": "2025-04-22T04:54:26.301650Z",
     "iopub.status.idle": "2025-04-22T04:54:26.306448Z",
     "shell.execute_reply": "2025-04-22T04:54:26.305950Z"
    },
    "papermill": {
     "duration": 0.014246,
     "end_time": "2025-04-22T04:54:26.307390",
     "exception": false,
     "start_time": "2025-04-22T04:54:26.293144",
     "status": "completed"
    },
    "tags": []
   },
   "outputs": [],
   "source": [
    "class CustomBertWithPhonemeMorph(nn.Module):\n",
    "    def __init__(self):\n",
    "        super().__init__()\n",
    "        self.bert = BertModel.from_pretrained(\"bert-base-multilingual-cased\")\n",
    "        self.phoneme_emb = nn.Embedding(num_phonemes, 768)\n",
    "        self.morph_emb = nn.Embedding(num_morphs, 768)\n",
    "        self.dropout = nn.Dropout(0.1)\n",
    "        self.classifier = nn.Linear(768, num_labels)  # ✅ changed to 2\n",
    "\n",
    "    def forward(self, input_ids, phoneme_ids, morph_ids, attention_mask=None):\n",
    "        phoneme_vec = self.phoneme_emb(phoneme_ids).mean(dim=2)\n",
    "        morph_vec = self.morph_emb(morph_ids).mean(dim=2)\n",
    "        outputs = self.bert(input_ids, attention_mask=attention_mask)\n",
    "        cls_emb = outputs.last_hidden_state[:, 0, :]\n",
    "        combined = cls_emb + phoneme_vec[:, 0, :] + morph_vec[:, 0, :]\n",
    "        logits = self.classifier(self.dropout(combined))\n",
    "        return logits\n"
   ]
  },
  {
   "cell_type": "code",
   "execution_count": 14,
   "id": "00f3537c",
   "metadata": {
    "execution": {
     "iopub.execute_input": "2025-04-22T04:54:26.324098Z",
     "iopub.status.busy": "2025-04-22T04:54:26.323900Z",
     "iopub.status.idle": "2025-04-22T04:54:26.635133Z",
     "shell.execute_reply": "2025-04-22T04:54:26.634307Z"
    },
    "papermill": {
     "duration": 0.321103,
     "end_time": "2025-04-22T04:54:26.636634",
     "exception": false,
     "start_time": "2025-04-22T04:54:26.315531",
     "status": "completed"
    },
    "tags": []
   },
   "outputs": [],
   "source": [
    "tokenizer = BertTokenizer.from_pretrained(\"bert-base-multilingual-cased\")\n",
    "\n",
    "texts = [\n",
    "    \"Kawe nok gi kedai jap\",              # Kelantanese\n",
    "    \"Demo makan gapo pagi tadi?\",\n",
    "    \"Ore tu dok gi kerja lagi\",\n",
    "    \"Mu buat gapo situ?\",\n",
    "    \"Bakpo demo lambat sangat?\",\n",
    "    \"I tengah buat kerja rumah sekarang\",      # Code-switch\n",
    "    \"You nak makan sini or tapau?\",\n",
    "    \"Boss suruh I settle that document cepat\",\n",
    "    \"Dia tengah belajar untuk test tomorrow\",\n",
    "    \"You boleh start dulu, I datang later\"\n",
    "]\n",
    "\n",
    "original_labels = [1, 1, 1, 1, 1, 2, 2, 2, 2, 2]\n",
    "\n",
    "# ✅ Normalize labels: 1 → 0 (Kelantanese), 2 → 1 (Code-switch)\n",
    "labels = [0 if l == 1 else 1 for l in original_labels]\n",
    "\n",
    "# Tokenize input text\n",
    "encodings = tokenizer(texts, padding=True, truncation=True, return_tensors=\"pt\")\n",
    "input_ids = encodings['input_ids']\n",
    "attention_mask = encodings['attention_mask']\n",
    "batch_size, seq_len = input_ids.shape\n",
    "\n",
    "# Simulated phoneme and morph IDs\n",
    "phoneme_ids = torch.randint(0, num_phonemes, (batch_size, seq_len, 5))\n",
    "morph_ids = torch.randint(0, num_morphs, (batch_size, seq_len, 5))\n"
   ]
  },
  {
   "cell_type": "code",
   "execution_count": 15,
   "id": "66c62e6a",
   "metadata": {
    "execution": {
     "iopub.execute_input": "2025-04-22T04:54:26.654146Z",
     "iopub.status.busy": "2025-04-22T04:54:26.653915Z",
     "iopub.status.idle": "2025-04-22T04:54:26.966418Z",
     "shell.execute_reply": "2025-04-22T04:54:26.965545Z"
    },
    "papermill": {
     "duration": 0.322782,
     "end_time": "2025-04-22T04:54:26.967986",
     "exception": false,
     "start_time": "2025-04-22T04:54:26.645204",
     "status": "completed"
    },
    "tags": []
   },
   "outputs": [],
   "source": [
    "model = CustomBertWithPhonemeMorph()\n",
    "model.eval()\n",
    "\n",
    "with torch.no_grad():\n",
    "    logits = model(input_ids, phoneme_ids, morph_ids, attention_mask=attention_mask)\n",
    "    predictions = torch.argmax(logits, dim=1)\n"
   ]
  },
  {
   "cell_type": "code",
   "execution_count": 16,
   "id": "420ca9c0",
   "metadata": {
    "execution": {
     "iopub.execute_input": "2025-04-22T04:54:26.988119Z",
     "iopub.status.busy": "2025-04-22T04:54:26.987871Z",
     "iopub.status.idle": "2025-04-22T04:54:27.003508Z",
     "shell.execute_reply": "2025-04-22T04:54:27.002814Z"
    },
    "papermill": {
     "duration": 0.02567,
     "end_time": "2025-04-22T04:54:27.004614",
     "exception": false,
     "start_time": "2025-04-22T04:54:26.978944",
     "status": "completed"
    },
    "tags": []
   },
   "outputs": [
    {
     "name": "stdout",
     "output_type": "stream",
     "text": [
      "Predictions: [0, 1, 1, 1, 0, 0, 0, 1, 0, 1]\n",
      "Ground Truth: [0, 0, 0, 0, 0, 1, 1, 1, 1, 1]\n",
      "\n",
      "Classification Report:\n",
      "              precision    recall  f1-score   support\n",
      "\n",
      " Kelantanese       0.40      0.40      0.40         5\n",
      " Code-switch       0.40      0.40      0.40         5\n",
      "\n",
      "    accuracy                           0.40        10\n",
      "   macro avg       0.40      0.40      0.40        10\n",
      "weighted avg       0.40      0.40      0.40        10\n",
      "\n"
     ]
    }
   ],
   "source": [
    "print(\"Predictions:\", predictions.tolist())\n",
    "print(\"Ground Truth:\", labels)\n",
    "\n",
    "print(\"\\nClassification Report:\")\n",
    "print(classification_report(labels, predictions.tolist(), target_names=[\"Kelantanese\", \"Code-switch\"]))\n"
   ]
  },
  {
   "cell_type": "code",
   "execution_count": 17,
   "id": "83b1ccc9",
   "metadata": {
    "execution": {
     "iopub.execute_input": "2025-04-22T04:54:27.022919Z",
     "iopub.status.busy": "2025-04-22T04:54:27.022709Z",
     "iopub.status.idle": "2025-04-22T04:54:27.347589Z",
     "shell.execute_reply": "2025-04-22T04:54:27.346538Z"
    },
    "papermill": {
     "duration": 0.335543,
     "end_time": "2025-04-22T04:54:27.348826",
     "exception": false,
     "start_time": "2025-04-22T04:54:27.013283",
     "status": "completed"
    },
    "tags": []
   },
   "outputs": [
    {
     "name": "stdout",
     "output_type": "stream",
     "text": [
      "\n",
      "Baseline Predictions: [0, 0, 0, 0, 0, 0, 0, 1, 0, 0]\n",
      "              precision    recall  f1-score   support\n",
      "\n",
      " Kelantanese       0.56      1.00      0.71         5\n",
      " Code-switch       1.00      0.20      0.33         5\n",
      "\n",
      "    accuracy                           0.60        10\n",
      "   macro avg       0.78      0.60      0.52        10\n",
      "weighted avg       0.78      0.60      0.52        10\n",
      "\n"
     ]
    }
   ],
   "source": [
    "class BaselineBertClassifier(nn.Module):\n",
    "    def __init__(self):\n",
    "        super().__init__()\n",
    "        self.bert = BertModel.from_pretrained(\"bert-base-multilingual-cased\")\n",
    "        self.dropout = nn.Dropout(0.1)\n",
    "        self.classifier = nn.Linear(768, num_labels)\n",
    "\n",
    "    def forward(self, input_ids, attention_mask=None):\n",
    "        outputs = self.bert(input_ids, attention_mask=attention_mask)\n",
    "        cls_emb = outputs.last_hidden_state[:, 0, :]\n",
    "        logits = self.classifier(self.dropout(cls_emb))\n",
    "        return logits\n",
    "\n",
    "# Run baseline\n",
    "baseline_model = BaselineBertClassifier()\n",
    "baseline_model.eval()\n",
    "\n",
    "with torch.no_grad():\n",
    "    baseline_logits = baseline_model(input_ids, attention_mask=attention_mask)\n",
    "    baseline_preds = torch.argmax(baseline_logits, dim=1)\n",
    "\n",
    "print(\"\\nBaseline Predictions:\", baseline_preds.tolist())\n",
    "print(classification_report(labels, baseline_preds.tolist(), target_names=[\"Kelantanese\", \"Code-switch\"]))\n"
   ]
  },
  {
   "cell_type": "markdown",
   "id": "35c72ea0",
   "metadata": {
    "papermill": {
     "duration": 0.008178,
     "end_time": "2025-04-22T04:54:27.366080",
     "exception": false,
     "start_time": "2025-04-22T04:54:27.357902",
     "status": "completed"
    },
    "tags": []
   },
   "source": [
    "# TEST 3"
   ]
  },
  {
   "cell_type": "code",
   "execution_count": 18,
   "id": "f31625c9",
   "metadata": {
    "execution": {
     "iopub.execute_input": "2025-04-22T04:54:27.383831Z",
     "iopub.status.busy": "2025-04-22T04:54:27.383618Z",
     "iopub.status.idle": "2025-04-22T04:54:28.151821Z",
     "shell.execute_reply": "2025-04-22T04:54:28.150955Z"
    },
    "papermill": {
     "duration": 0.778911,
     "end_time": "2025-04-22T04:54:28.153236",
     "exception": false,
     "start_time": "2025-04-22T04:54:27.374325",
     "status": "completed"
    },
    "tags": []
   },
   "outputs": [
    {
     "name": "stdout",
     "output_type": "stream",
     "text": [
      "Predictions: tensor([0, 0, 0, 0, 0, 0, 0, 0, 0, 0])\n",
      "Probabilities: tensor([[0.5206, 0.4794],\n",
      "        [0.5333, 0.4667],\n",
      "        [0.5159, 0.4841],\n",
      "        [0.5165, 0.4835],\n",
      "        [0.5259, 0.4741],\n",
      "        [0.5286, 0.4714],\n",
      "        [0.5177, 0.4823],\n",
      "        [0.5185, 0.4815],\n",
      "        [0.5238, 0.4762],\n",
      "        [0.5233, 0.4767]])\n"
     ]
    }
   ],
   "source": [
    "import torch\n",
    "import torch.nn as nn\n",
    "from transformers import BertModel, BertTokenizer\n",
    "from torch.utils.data import Dataset\n",
    "\n",
    "# 1. Define texts and labels\n",
    "texts = [\n",
    "    \"Kawe nok gi kedai jap\",  # Kelantanese\n",
    "    \"Demo makan gapo pagi tadi?\",\n",
    "    \"Ore tu dok gi kerja lagi\",\n",
    "    \"Mu buat gapo situ?\",\n",
    "    \"Bakpo demo lambat sangat?\",\n",
    "    \"I tengah buat kerja rumah sekarang\",  # Code-switch\n",
    "    \"You nak makan sini or tapau?\",\n",
    "    \"Boss suruh I settle that document cepat\",\n",
    "    \"Dia tengah belajar untuk test tomorrow\",\n",
    "    \"You boleh start dulu, I datang later\"\n",
    "]\n",
    "labels = [0, 0, 0, 0, 0, 1, 1, 1, 1, 1]  # 0 = Kelantanese, 1 = Code-switch\n",
    "\n",
    "# 2. Phoneme and Morph Vocabularies\n",
    "phoneme_vocab = {ph: idx for idx, ph in enumerate([\"k\", \"a\", \"w\", \"e\", \"n\", \"o\", \"g\", \"i\", \"d\", \"m\", \"p\", \"b\", \"s\", \"y\", \"u\", \"r\", \"t\", \"h\", \"l\", \"j\"])}\n",
    "morph_vocab = {m: idx for idx, m in enumerate([\"ka\", \"we\", \"nok\", \"gi\", \"kedai\", \"jap\", \"you\", \"makan\", \"rumah\", \"buat\", \"kerja\", \"settle\", \"cepat\", \"test\", \"tomorrow\"])}\n",
    "\n",
    "# Save dummy vector files for phoneme and morph\n",
    "def save_dummy_vec(path, vocab):\n",
    "    with open(path, \"w\", encoding=\"utf-8\") as f:\n",
    "        for token in vocab:\n",
    "            vec = \" \".join([\"0.01\"] * 768)  # dummy small values\n",
    "            f.write(f\"{token} {vec}\\n\")\n",
    "\n",
    "save_dummy_vec(\"phoneme.vec\", phoneme_vocab)\n",
    "save_dummy_vec(\"morph.vec\", morph_vocab)\n",
    "\n",
    "# 3. Tokenization and Mapping\n",
    "def tokenize_and_map(texts, tokenizer, phoneme_vocab, morph_vocab, max_len=20):\n",
    "    input_ids, attention_masks = [], []\n",
    "    phoneme_lists, morph_lists = [], []\n",
    "    \n",
    "    max_word_phonemes = 1  # initialize max phonemes per word\n",
    "    \n",
    "    # First pass: gather phoneme and morph IDs\n",
    "    for text in texts:\n",
    "        phonemes = [[phoneme_vocab.get(c, 0) for c in word] for word in text.split()]\n",
    "        morphs = [[morph_vocab.get(word.lower(), 0)] for word in text.split()]\n",
    "        phoneme_lists.append(phonemes)\n",
    "        morph_lists.append(morphs)\n",
    "        max_word_phonemes = max(max_word_phonemes, max((len(p) for p in phonemes), default=1))\n",
    "\n",
    "    phoneme_ids, morph_ids = [], []\n",
    "\n",
    "    for text, phonemes, morphs in zip(texts, phoneme_lists, morph_lists):\n",
    "        encoding = tokenizer(text, max_length=max_len, padding='max_length', truncation=True, return_tensors='pt')\n",
    "        input_ids.append(encoding['input_ids'][0])\n",
    "        attention_masks.append(encoding['attention_mask'][0])\n",
    "\n",
    "        # Padded tensors\n",
    "        phoneme_tensor = torch.zeros(max_len, max_word_phonemes, dtype=torch.long)\n",
    "        morph_tensor = torch.zeros(max_len, 1, dtype=torch.long)\n",
    "\n",
    "        for i, (ph, mo) in enumerate(zip(phonemes, morphs)):\n",
    "            if i < max_len:\n",
    "                phoneme_tensor[i, :len(ph)] = torch.tensor(ph)\n",
    "                morph_tensor[i, 0] = mo[0]\n",
    "\n",
    "        phoneme_ids.append(phoneme_tensor)\n",
    "        morph_ids.append(morph_tensor)\n",
    "\n",
    "    return (\n",
    "        torch.stack(input_ids),\n",
    "        torch.stack(attention_masks),\n",
    "        torch.stack(phoneme_ids),\n",
    "        torch.stack(morph_ids),\n",
    "    )\n",
    "\n",
    "# Initialize Tokenizer\n",
    "tokenizer = BertTokenizer.from_pretrained('bert-base-multilingual-cased')\n",
    "\n",
    "# Tokenize and Map\n",
    "input_ids, attention_masks, phoneme_ids, morph_ids = tokenize_and_map(texts, tokenizer, phoneme_vocab, morph_vocab)\n",
    "\n",
    "# 4. MultiModalEncoder Model\n",
    "class MultiModalEncoder(nn.Module):\n",
    "    def __init__(self, bert_model_name, phoneme_vocab_size, morph_vocab_size, phoneme_dim=16, morph_dim=8):\n",
    "        super(MultiModalEncoder, self).__init__()\n",
    "        self.bert = BertModel.from_pretrained(bert_model_name)\n",
    "        self.bert_hidden_size = self.bert.config.hidden_size\n",
    "\n",
    "        # Embed phonemes and morph features\n",
    "        self.phoneme_emb = nn.Embedding(phoneme_vocab_size, phoneme_dim)\n",
    "        self.morph_emb = nn.Embedding(morph_vocab_size, morph_dim)\n",
    "\n",
    "        # Combine BERT output + mean-pooled phoneme + morph embedding\n",
    "        self.linear = nn.Linear(self.bert_hidden_size + phoneme_dim + morph_dim, 128)\n",
    "        self.classifier = nn.Linear(128, 2)  # Binary classification\n",
    "\n",
    "    def forward(self, input_ids, attention_mask, phoneme_ids, morph_ids):\n",
    "        bert_output = self.bert(input_ids=input_ids, attention_mask=attention_mask)\n",
    "        bert_cls = bert_output.last_hidden_state[:, 0, :]  # [CLS] token representation\n",
    "\n",
    "        # Pool phoneme features: mean over each word's phoneme sequence\n",
    "        phoneme_embs = self.phoneme_emb(phoneme_ids)  # (B, T, P, D)\n",
    "        phoneme_mean = phoneme_embs.mean(dim=2)       # (B, T, D)\n",
    "\n",
    "        # Also take morph embedding (B, T, D) → mean across tokens\n",
    "        morph_embs = self.morph_emb(morph_ids.squeeze(-1))  # (B, T, D)\n",
    "\n",
    "        # For simplicity, take mean over token dim to get (B, D) representations\n",
    "        phoneme_feat = phoneme_mean.mean(dim=1)\n",
    "        morph_feat = morph_embs.mean(dim=1)\n",
    "\n",
    "        # Concatenate all features\n",
    "        concat = torch.cat([bert_cls, phoneme_feat, morph_feat], dim=1)\n",
    "        x = self.linear(concat)\n",
    "        x = torch.relu(x)\n",
    "        out = self.classifier(x)\n",
    "        return out\n",
    "\n",
    "# 5. Initialize the Model\n",
    "phoneme_vocab_size = len(phoneme_vocab)\n",
    "morph_vocab_size = len(morph_vocab)\n",
    "\n",
    "model = MultiModalEncoder(\n",
    "    bert_model_name='bert-base-multilingual-cased',\n",
    "    phoneme_vocab_size=phoneme_vocab_size,\n",
    "    morph_vocab_size=morph_vocab_size\n",
    ")\n",
    "\n",
    "model.eval()  # for inference\n",
    "\n",
    "# 6. Inference\n",
    "with torch.no_grad():\n",
    "    outputs = model(input_ids, attention_masks, phoneme_ids, morph_ids)\n",
    "    predictions = torch.argmax(outputs, dim=1)\n",
    "    print(\"Predictions:\", predictions)\n",
    "\n",
    "# 7. Probability Calculation\n",
    "probs = torch.softmax(outputs, dim=1)\n",
    "print(\"Probabilities:\", probs)\n",
    "\n",
    "# 8. Dataset Class\n",
    "class MultimodalTextDataset(Dataset):\n",
    "    def __init__(self, texts, labels, tokenizer, phoneme_vocab, morph_vocab, max_len=20):\n",
    "        self.texts = texts\n",
    "        self.labels = labels\n",
    "        self.tokenizer = tokenizer\n",
    "        self.phoneme_vocab = phoneme_vocab\n",
    "        self.morph_vocab = morph_vocab\n",
    "        self.max_len = max_len\n",
    "\n",
    "        (\n",
    "            self.input_ids,\n",
    "            self.attention_masks,\n",
    "            self.phoneme_ids,\n",
    "            self.morph_ids,\n",
    "        ) = tokenize_and_map(texts, tokenizer, phoneme_vocab, morph_vocab, max_len=max_len)\n",
    "\n",
    "    def __len__(self):\n",
    "        return len(self.texts)\n",
    "\n",
    "    def __getitem__(self, idx):\n",
    "        return (\n",
    "            self.input_ids[idx],\n",
    "            self.attention_masks[idx],\n",
    "            self.phoneme_ids[idx],\n",
    "            self.morph_ids[idx],\n",
    "            torch.tensor(self.labels[idx], dtype=torch.long)\n",
    "        )\n",
    "\n"
   ]
  },
  {
   "cell_type": "code",
   "execution_count": 19,
   "id": "a3824fba",
   "metadata": {
    "execution": {
     "iopub.execute_input": "2025-04-22T04:54:28.171154Z",
     "iopub.status.busy": "2025-04-22T04:54:28.170908Z",
     "iopub.status.idle": "2025-04-22T04:54:28.681414Z",
     "shell.execute_reply": "2025-04-22T04:54:28.680653Z"
    },
    "papermill": {
     "duration": 0.520729,
     "end_time": "2025-04-22T04:54:28.682555",
     "exception": false,
     "start_time": "2025-04-22T04:54:28.161826",
     "status": "completed"
    },
    "tags": []
   },
   "outputs": [
    {
     "name": "stderr",
     "output_type": "stream",
     "text": [
      "/usr/local/lib/python3.11/dist-packages/sklearn/metrics/_classification.py:1344: UndefinedMetricWarning: Precision and F-score are ill-defined and being set to 0.0 in labels with no predicted samples. Use `zero_division` parameter to control this behavior.\n",
      "  _warn_prf(average, modifier, msg_start, len(result))\n",
      "/usr/local/lib/python3.11/dist-packages/sklearn/metrics/_classification.py:1344: UndefinedMetricWarning: Precision and F-score are ill-defined and being set to 0.0 in labels with no predicted samples. Use `zero_division` parameter to control this behavior.\n",
      "  _warn_prf(average, modifier, msg_start, len(result))\n",
      "/usr/local/lib/python3.11/dist-packages/sklearn/metrics/_classification.py:1344: UndefinedMetricWarning: Precision and F-score are ill-defined and being set to 0.0 in labels with no predicted samples. Use `zero_division` parameter to control this behavior.\n",
      "  _warn_prf(average, modifier, msg_start, len(result))\n"
     ]
    },
    {
     "name": "stdout",
     "output_type": "stream",
     "text": [
      "Classification Report:\n",
      "               precision    recall  f1-score   support\n",
      "\n",
      " Kelantanese       0.50      1.00      0.67         5\n",
      " Code-switch       0.00      0.00      0.00         5\n",
      "\n",
      "    accuracy                           0.50        10\n",
      "   macro avg       0.25      0.50      0.33        10\n",
      "weighted avg       0.25      0.50      0.33        10\n",
      "\n"
     ]
    },
    {
     "data": {
      "image/png": "[encoded data removed]",
      "text/plain": [
       "<Figure size 640x480 with 2 Axes>"
      ]
     },
     "metadata": {},
     "output_type": "display_data"
    }
   ],
   "source": [
    "from sklearn.metrics import classification_report, confusion_matrix\n",
    "import seaborn as sns\n",
    "import matplotlib.pyplot as plt\n",
    "\n",
    "# Convert predictions and labels to numpy arrays\n",
    "predictions_np = predictions.cpu().numpy()\n",
    "labels_np = torch.tensor(labels).cpu().numpy()\n",
    "\n",
    "# Generate and print classification report\n",
    "report = classification_report(labels_np, predictions_np, target_names=['Kelantanese', 'Code-switch'])\n",
    "print(\"Classification Report:\\n\", report)\n",
    "\n",
    "# Generate confusion matrix\n",
    "cm = confusion_matrix(labels_np, predictions_np)\n",
    "\n",
    "# Plot confusion matrix\n",
    "sns.heatmap(cm, annot=True, fmt='d', cmap='Blues', xticklabels=['Kelantanese', 'Code-switch'], yticklabels=['Kelantanese', 'Code-switch'])\n",
    "plt.xlabel('Predicted')\n",
    "plt.ylabel('Actual')\n",
    "plt.title('Confusion Matrix')\n",
    "plt.show()\n"
   ]
  },
  {
   "cell_type": "code",
   "execution_count": null,
   "id": "d787c925",
   "metadata": {
    "papermill": {
     "duration": 0.00828,
     "end_time": "2025-04-22T04:54:28.699917",
     "exception": false,
     "start_time": "2025-04-22T04:54:28.691637",
     "status": "completed"
    },
    "tags": []
   },
   "outputs": [],
   "source": []
  },
  {
   "cell_type": "code",
   "execution_count": null,
   "id": "b6dedc67",
   "metadata": {
    "papermill": {
     "duration": 0.008437,
     "end_time": "2025-04-22T04:54:28.716763",
     "exception": false,
     "start_time": "2025-04-22T04:54:28.708326",
     "status": "completed"
    },
    "tags": []
   },
   "outputs": [],
   "source": []
  }
 ],
 "metadata": {
  "kaggle": {
   "accelerator": "nvidiaTeslaT4",
   "dataSources": [],
   "dockerImageVersionId": 31012,
   "isGpuEnabled": true,
   "isInternetEnabled": true,
   "language": "python",
   "sourceType": "notebook"
  },
  "kernelspec": {
   "display_name": "Python 3",
   "language": "python",
   "name": "python3"
  },
  "language_info": {
   "codemirror_mode": {
    "name": "ipython",
    "version": 3
   },
   "file_extension": ".py",
   "mimetype": "text/x-python",
   "name": "python",
   "nbconvert_exporter": "python",
   "pygments_lexer": "ipython3",
   "version": "3.11.11"
  },
  "papermill": {
   "default_parameters": {},
   "duration": 63.236181,
   "end_time": "2025-04-22T04:54:32.342309",
   "environment_variables": {},
   "exception": null,
   "input_path": "__notebook__.ipynb",
   "output_path": "__notebook__.ipynb",
   "parameters": {},
   "start_time": "2025-04-22T04:53:29.106128",
   "version": "2.6.0"
  },
  "widgets": {
   "application/vnd.jupyter.widget-state+json": {
    "state": {
     "10cb7a11bdc345779b11e0514b578cc9": {
      "model_module": "@jupyter-widgets/controls",
      "model_module_version": "2.0.0",
      "model_name": "FloatProgressModel",
      "state": {
       "_dom_classes": [],
       "_model_module": "@jupyter-widgets/controls",
       "_model_module_version": "2.0.0",
       "_model_name": "FloatProgressModel",
       "_view_count": null,
       "_view_module": "@jupyter-widgets/controls",
       "_view_module_version": "2.0.0",
       "_view_name": "ProgressView",
       "bar_style": "success",
       "description": "",
       "description_allow_html": false,
       "layout": "IPY_MODEL_c5826b953dc44fc19beb99755111e938",
       "max": 625.0,
       "min": 0.0,
       "orientation": "horizontal",
       "style": "IPY_MODEL_a43a2e0928d44befa089bd0321b30365",
       "tabbable": null,
       "tooltip": null,
       "value": 625.0
      }
     },
     "12d50a3ff0ba4098aa7c68ace9425658": {
      "model_module": "@jupyter-widgets/base",
      "model_module_version": "2.0.0",
      "model_name": "LayoutModel",
      "state": {
       "_model_module": "@jupyter-widgets/base",
       "_model_module_version": "2.0.0",
       "_model_name": "LayoutModel",
       "_view_count": null,
       "_view_module": "@jupyter-widgets/base",
       "_view_module_version": "2.0.0",
       "_view_name": "LayoutView",
       "align_content": null,
       "align_items": null,
       "align_self": null,
       "border_bottom": null,
       "border_left": null,
       "border_right": null,
       "border_top": null,
       "bottom": null,
       "display": null,
       "flex": null,
       "flex_flow": null,
       "grid_area": null,
       "grid_auto_columns": null,
       "grid_auto_flow": null,
       "grid_auto_rows": null,
       "grid_column": null,
       "grid_gap": null,
       "grid_row": null,
       "grid_template_areas": null,
       "grid_template_columns": null,
       "grid_template_rows": null,
       "height": null,
       "justify_content": null,
       "justify_items": null,
       "left": null,
       "margin": null,
       "max_height": null,
       "max_width": null,
       "min_height": null,
       "min_width": null,
       "object_fit": null,
       "object_position": null,
       "order": null,
       "overflow": null,
       "padding": null,
       "right": null,
       "top": null,
       "visibility": null,
       "width": null
      }
     },
     "13832fc7c61c469da0b1a449a8cc9779": {
      "model_module": "@jupyter-widgets/controls",
      "model_module_version": "2.0.0",
      "model_name": "FloatProgressModel",
      "state": {
       "_dom_classes": [],
       "_model_module": "@jupyter-widgets/controls",
       "_model_module_version": "2.0.0",
       "_model_name": "FloatProgressModel",
       "_view_count": null,
       "_view_module": "@jupyter-widgets/controls",
       "_view_module_version": "2.0.0",
       "_view_name": "ProgressView",
       "bar_style": "success",
       "description": "",
       "description_allow_html": false,
       "layout": "IPY_MODEL_1b764f37b10642bd950e4847fc39734d",
       "max": 995526.0,
       "min": 0.0,
       "orientation": "horizontal",
       "style": "IPY_MODEL_e29e5079950143a384f37bccd717e05e",
       "tabbable": null,
       "tooltip": null,
       "value": 995526.0
      }
     },
     "1b764f37b10642bd950e4847fc39734d": {
      "model_module": "@jupyter-widgets/base",
      "model_module_version": "2.0.0",
      "model_name": "LayoutModel",
      "state": {
       "_model_module": "@jupyter-widgets/base",
       "_model_module_version": "2.0.0",
       "_model_name": "LayoutModel",
       "_view_count": null,
       "_view_module": "@jupyter-widgets/base",
       "_view_module_version": "2.0.0",
       "_view_name": "LayoutView",
       "align_content": null,
       "align_items": null,
       "align_self": null,
       "border_bottom": null,
       "border_left": null,
       "border_right": null,
       "border_top": null,
       "bottom": null,
       "display": null,
       "flex": null,
       "flex_flow": null,
       "grid_area": null,
       "grid_auto_columns": null,
       "grid_auto_flow": null,
       "grid_auto_rows": null,
       "grid_column": null,
       "grid_gap": null,
       "grid_row": null,
       "grid_template_areas": null,
       "grid_template_columns": null,
       "grid_template_rows": null,
       "height": null,
       "justify_content": null,
       "justify_items": null,
       "left": null,
       "margin": null,
       "max_height": null,
       "max_width": null,
       "min_height": null,
       "min_width": null,
       "object_fit": null,
       "object_position": null,
       "order": null,
       "overflow": null,
       "padding": null,
       "right": null,
       "top": null,
       "visibility": null,
       "width": null
      }
     },
     "1ea02b832b7446d39c8a77f98b4bb9de": {
      "model_module": "@jupyter-widgets/controls",
      "model_module_version": "2.0.0",
      "model_name": "HTMLStyleModel",
      "state": {
       "_model_module": "@jupyter-widgets/controls",
       "_model_module_version": "2.0.0",
       "_model_name": "HTMLStyleModel",
       "_view_count": null,
       "_view_module": "@jupyter-widgets/base",
       "_view_module_version": "2.0.0",
       "_view_name": "StyleView",
       "background": null,
       "description_width": "",
       "font_size": null,
       "text_color": null
      }
     },
     "463c1c0abc7f467286fd3b3841bbb469": {
      "model_module": "@jupyter-widgets/base",
      "model_module_version": "2.0.0",
      "model_name": "LayoutModel",
      "state": {
       "_model_module": "@jupyter-widgets/base",
       "_model_module_version": "2.0.0",
       "_model_name": "LayoutModel",
       "_view_count": null,
       "_view_module": "@jupyter-widgets/base",
       "_view_module_version": "2.0.0",
       "_view_name": "LayoutView",
       "align_content": null,
       "align_items": null,
       "align_self": null,
       "border_bottom": null,
       "border_left": null,
       "border_right": null,
       "border_top": null,
       "bottom": null,
       "display": null,
       "flex": null,
       "flex_flow": null,
       "grid_area": null,
       "grid_auto_columns": null,
       "grid_auto_flow": null,
       "grid_auto_rows": null,
       "grid_column": null,
       "grid_gap": null,
       "grid_row": null,
       "grid_template_areas": null,
       "grid_template_columns": null,
       "grid_template_rows": null,
       "height": null,
       "justify_content": null,
       "justify_items": null,
       "left": null,
       "margin": null,
       "max_height": null,
       "max_width": null,
       "min_height": null,
       "min_width": null,
       "object_fit": null,
       "object_position": null,
       "order": null,
       "overflow": null,
       "padding": null,
       "right": null,
       "top": null,
       "visibility": null,
       "width": null
      }
     },
     "4cfe7990164445a185b701e925bdfc9b": {
      "model_module": "@jupyter-widgets/controls",
      "model_module_version": "2.0.0",
      "model_name": "HTMLModel",
      "state": {
       "_dom_classes": [],
       "_model_module": "@jupyter-widgets/controls",
       "_model_module_version": "2.0.0",
       "_model_name": "HTMLModel",
       "_view_count": null,
       "_view_module": "@jupyter-widgets/controls",
       "_view_module_version": "2.0.0",
       "_view_name": "HTMLView",
       "description": "",
       "description_allow_html": false,
       "layout": "IPY_MODEL_8bb28cf6ec01498b95497cc4eeabcf79",
       "placeholder": "​",
       "style": "IPY_MODEL_b00fa7339acb4489b4b011f29d63c33f",
       "tabbable": null,
       "tooltip": null,
       "value": " 714M/714M [00:02&lt;00:00, 262MB/s]"
      }
     },
     "57df6c410cd44100a09bf74098e291c8": {
      "model_module": "@jupyter-widgets/controls",
      "model_module_version": "2.0.0",
      "model_name": "HTMLStyleModel",
      "state": {
       "_model_module": "@jupyter-widgets/controls",
       "_model_module_version": "2.0.0",
       "_model_name": "HTMLStyleModel",
       "_view_count": null,
       "_view_module": "@jupyter-widgets/base",
       "_view_module_version": "2.0.0",
       "_view_name": "StyleView",
       "background": null,
       "description_width": "",
       "font_size": null,
       "text_color": null
      }
     },
     "58215f7c00d4497eb0a3724a8f36ad30": {
      "model_module": "@jupyter-widgets/base",
      "model_module_version": "2.0.0",
      "model_name": "LayoutModel",
      "state": {
       "_model_module": "@jupyter-widgets/base",
       "_model_module_version": "2.0.0",
       "_model_name": "LayoutModel",
       "_view_count": null,
       "_view_module": "@jupyter-widgets/base",
       "_view_module_version": "2.0.0",
       "_view_name": "LayoutView",
       "align_content": null,
       "align_items": null,
       "align_self": null,
       "border_bottom": null,
       "border_left": null,
       "border_right": null,
       "border_top": null,
       "bottom": null,
       "display": null,
       "flex": null,
       "flex_flow": null,
       "grid_area": null,
       "grid_auto_columns": null,
       "grid_auto_flow": null,
       "grid_auto_rows": null,
       "grid_column": null,
       "grid_gap": null,
       "grid_row": null,
       "grid_template_areas": null,
       "grid_template_columns": null,
       "grid_template_rows": null,
       "height": null,
       "justify_content": null,
       "justify_items": null,
       "left": null,
       "margin": null,
       "max_height": null,
       "max_width": null,
       "min_height": null,
       "min_width": null,
       "object_fit": null,
       "object_position": null,
       "order": null,
       "overflow": null,
       "padding": null,
       "right": null,
       "top": null,
       "visibility": null,
       "width": null
      }
     },
     "604dddbb91384f8dbe315e442d87c57b": {
      "model_module": "@jupyter-widgets/controls",
      "model_module_version": "2.0.0",
      "model_name": "HTMLModel",
      "state": {
       "_dom_classes": [],
       "_model_module": "@jupyter-widgets/controls",
       "_model_module_version": "2.0.0",
       "_model_name": "HTMLModel",
       "_view_count": null,
       "_view_module": "@jupyter-widgets/controls",
       "_view_module_version": "2.0.0",
       "_view_name": "HTMLView",
       "description": "",
       "description_allow_html": false,
       "layout": "IPY_MODEL_85f5b6872d994eb8bf5ef73b5b912420",
       "placeholder": "​",
       "style": "IPY_MODEL_82f06891fe3340539bdca5b8416a5e43",
       "tabbable": null,
       "tooltip": null,
       "value": "config.json: 100%"
      }
     },
     "60e212f181384480b0f9b41570c7987c": {
      "model_module": "@jupyter-widgets/controls",
      "model_module_version": "2.0.0",
      "model_name": "HBoxModel",
      "state": {
       "_dom_classes": [],
       "_model_module": "@jupyter-widgets/controls",
       "_model_module_version": "2.0.0",
       "_model_name": "HBoxModel",
       "_view_count": null,
       "_view_module": "@jupyter-widgets/controls",
       "_view_module_version": "2.0.0",
       "_view_name": "HBoxView",
       "box_style": "",
       "children": [
        "IPY_MODEL_d2917ccfb94f4e84a2766a768cc4f945",
        "IPY_MODEL_eb49e2e2f8a3492fb458b8a74450df33",
        "IPY_MODEL_e4c950067d094fc6b0b5d2265a70f812"
       ],
       "layout": "IPY_MODEL_725691fa4fcd45a7a8df4ccb2b0aa82e",
       "tabbable": null,
       "tooltip": null
      }
     },
     "677bb03968ed4c2c82890b5827d75a90": {
      "model_module": "@jupyter-widgets/base",
      "model_module_version": "2.0.0",
      "model_name": "LayoutModel",
      "state": {
       "_model_module": "@jupyter-widgets/base",
       "_model_module_version": "2.0.0",
       "_model_name": "LayoutModel",
       "_view_count": null,
       "_view_module": "@jupyter-widgets/base",
       "_view_module_version": "2.0.0",
       "_view_name": "LayoutView",
       "align_content": null,
       "align_items": null,
       "align_self": null,
       "border_bottom": null,
       "border_left": null,
       "border_right": null,
       "border_top": null,
       "bottom": null,
       "display": null,
       "flex": null,
       "flex_flow": null,
       "grid_area": null,
       "grid_auto_columns": null,
       "grid_auto_flow": null,
       "grid_auto_rows": null,
       "grid_column": null,
       "grid_gap": null,
       "grid_row": null,
       "grid_template_areas": null,
       "grid_template_columns": null,
       "grid_template_rows": null,
       "height": null,
       "justify_content": null,
       "justify_items": null,
       "left": null,
       "margin": null,
       "max_height": null,
       "max_width": null,
       "min_height": null,
       "min_width": null,
       "object_fit": null,
       "object_position": null,
       "order": null,
       "overflow": null,
       "padding": null,
       "right": null,
       "top": null,
       "visibility": null,
       "width": null
      }
     },
     "69e7bc973f3c47f0bbaf3f83e11ca793": {
      "model_module": "@jupyter-widgets/controls",
      "model_module_version": "2.0.0",
      "model_name": "ProgressStyleModel",
      "state": {
       "_model_module": "@jupyter-widgets/controls",
       "_model_module_version": "2.0.0",
       "_model_name": "ProgressStyleModel",
       "_view_count": null,
       "_view_module": "@jupyter-widgets/base",
       "_view_module_version": "2.0.0",
       "_view_name": "StyleView",
       "bar_color": null,
       "description_width": ""
      }
     },
     "6cf02973e1bf4cc196a427db5b890001": {
      "model_module": "@jupyter-widgets/controls",
      "model_module_version": "2.0.0",
      "model_name": "ProgressStyleModel",
      "state": {
       "_model_module": "@jupyter-widgets/controls",
       "_model_module_version": "2.0.0",
       "_model_name": "ProgressStyleModel",
       "_view_count": null,
       "_view_module": "@jupyter-widgets/base",
       "_view_module_version": "2.0.0",
       "_view_name": "StyleView",
       "bar_color": null,
       "description_width": ""
      }
     },
     "704a2e5d1edb42c09437cf803e900c25": {
      "model_module": "@jupyter-widgets/base",
      "model_module_version": "2.0.0",
      "model_name": "LayoutModel",
      "state": {
       "_model_module": "@jupyter-widgets/base",
       "_model_module_version": "2.0.0",
       "_model_name": "LayoutModel",
       "_view_count": null,
       "_view_module": "@jupyter-widgets/base",
       "_view_module_version": "2.0.0",
       "_view_name": "LayoutView",
       "align_content": null,
       "align_items": null,
       "align_self": null,
       "border_bottom": null,
       "border_left": null,
       "border_right": null,
       "border_top": null,
       "bottom": null,
       "display": null,
       "flex": null,
       "flex_flow": null,
       "grid_area": null,
       "grid_auto_columns": null,
       "grid_auto_flow": null,
       "grid_auto_rows": null,
       "grid_column": null,
       "grid_gap": null,
       "grid_row": null,
       "grid_template_areas": null,
       "grid_template_columns": null,
       "grid_template_rows": null,
       "height": null,
       "justify_content": null,
       "justify_items": null,
       "left": null,
       "margin": null,
       "max_height": null,
       "max_width": null,
       "min_height": null,
       "min_width": null,
       "object_fit": null,
       "object_position": null,
       "order": null,
       "overflow": null,
       "padding": null,
       "right": null,
       "top": null,
       "visibility": null,
       "width": null
      }
     },
     "725691fa4fcd45a7a8df4ccb2b0aa82e": {
      "model_module": "@jupyter-widgets/base",
      "model_module_version": "2.0.0",
      "model_name": "LayoutModel",
      "state": {
       "_model_module": "@jupyter-widgets/base",
       "_model_module_version": "2.0.0",
       "_model_name": "LayoutModel",
       "_view_count": null,
       "_view_module": "@jupyter-widgets/base",
       "_view_module_version": "2.0.0",
       "_view_name": "LayoutView",
       "align_content": null,
       "align_items": null,
       "align_self": null,
       "border_bottom": null,
       "border_left": null,
       "border_right": null,
       "border_top": null,
       "bottom": null,
       "display": null,
       "flex": null,
       "flex_flow": null,
       "grid_area": null,
       "grid_auto_columns": null,
       "grid_auto_flow": null,
       "grid_auto_rows": null,
       "grid_column": null,
       "grid_gap": null,
       "grid_row": null,
       "grid_template_areas": null,
       "grid_template_columns": null,
       "grid_template_rows": null,
       "height": null,
       "justify_content": null,
       "justify_items": null,
       "left": null,
       "margin": null,
       "max_height": null,
       "max_width": null,
       "min_height": null,
       "min_width": null,
       "object_fit": null,
       "object_position": null,
       "order": null,
       "overflow": null,
       "padding": null,
       "right": null,
       "top": null,
       "visibility": null,
       "width": null
      }
     },
     "736b4fbb6b2b48e3b71fbd7baeb9c4a6": {
      "model_module": "@jupyter-widgets/controls",
      "model_module_version": "2.0.0",
      "model_name": "HTMLModel",
      "state": {
       "_dom_classes": [],
       "_model_module": "@jupyter-widgets/controls",
       "_model_module_version": "2.0.0",
       "_model_name": "HTMLModel",
       "_view_count": null,
       "_view_module": "@jupyter-widgets/controls",
       "_view_module_version": "2.0.0",
       "_view_name": "HTMLView",
       "description": "",
       "description_allow_html": false,
       "layout": "IPY_MODEL_a640262f62af4b1aa6e3fff962889454",
       "placeholder": "​",
       "style": "IPY_MODEL_c67e9426f6f54408a354d5853a14ade5",
       "tabbable": null,
       "tooltip": null,
       "value": " 996k/996k [00:00&lt;00:00, 15.7MB/s]"
      }
     },
     "74509c2679ec4aa081c8b740db28046e": {
      "model_module": "@jupyter-widgets/controls",
      "model_module_version": "2.0.0",
      "model_name": "HTMLModel",
      "state": {
       "_dom_classes": [],
       "_model_module": "@jupyter-widgets/controls",
       "_model_module_version": "2.0.0",
       "_model_name": "HTMLModel",
       "_view_count": null,
       "_view_module": "@jupyter-widgets/controls",
       "_view_module_version": "2.0.0",
       "_view_name": "HTMLView",
       "description": "",
       "description_allow_html": false,
       "layout": "IPY_MODEL_58215f7c00d4497eb0a3724a8f36ad30",
       "placeholder": "​",
       "style": "IPY_MODEL_57df6c410cd44100a09bf74098e291c8",
       "tabbable": null,
       "tooltip": null,
       "value": " 625/625 [00:00&lt;00:00, 72.7kB/s]"
      }
     },
     "7aed26758a254f46b16d695e7e59fb51": {
      "model_module": "@jupyter-widgets/base",
      "model_module_version": "2.0.0",
      "model_name": "LayoutModel",
      "state": {
       "_model_module": "@jupyter-widgets/base",
       "_model_module_version": "2.0.0",
       "_model_name": "LayoutModel",
       "_view_count": null,
       "_view_module": "@jupyter-widgets/base",
       "_view_module_version": "2.0.0",
       "_view_name": "LayoutView",
       "align_content": null,
       "align_items": null,
       "align_self": null,
       "border_bottom": null,
       "border_left": null,
       "border_right": null,
       "border_top": null,
       "bottom": null,
       "display": null,
       "flex": null,
       "flex_flow": null,
       "grid_area": null,
       "grid_auto_columns": null,
       "grid_auto_flow": null,
       "grid_auto_rows": null,
       "grid_column": null,
       "grid_gap": null,
       "grid_row": null,
       "grid_template_areas": null,
       "grid_template_columns": null,
       "grid_template_rows": null,
       "height": null,
       "justify_content": null,
       "justify_items": null,
       "left": null,
       "margin": null,
       "max_height": null,
       "max_width": null,
       "min_height": null,
       "min_width": null,
       "object_fit": null,
       "object_position": null,
       "order": null,
       "overflow": null,
       "padding": null,
       "right": null,
       "top": null,
       "visibility": null,
       "width": null
      }
     },
     "7eec4457201c4b51b3c7780b3ae4bf97": {
      "model_module": "@jupyter-widgets/controls",
      "model_module_version": "2.0.0",
      "model_name": "HTMLStyleModel",
      "state": {
       "_model_module": "@jupyter-widgets/controls",
       "_model_module_version": "2.0.0",
       "_model_name": "HTMLStyleModel",
       "_view_count": null,
       "_view_module": "@jupyter-widgets/base",
       "_view_module_version": "2.0.0",
       "_view_name": "StyleView",
       "background": null,
       "description_width": "",
       "font_size": null,
       "text_color": null
      }
     },
     "80df4649458c4f44bfa117b8ebc5733d": {
      "model_module": "@jupyter-widgets/base",
      "model_module_version": "2.0.0",
      "model_name": "LayoutModel",
      "state": {
       "_model_module": "@jupyter-widgets/base",
       "_model_module_version": "2.0.0",
       "_model_name": "LayoutModel",
       "_view_count": null,
       "_view_module": "@jupyter-widgets/base",
       "_view_module_version": "2.0.0",
       "_view_name": "LayoutView",
       "align_content": null,
       "align_items": null,
       "align_self": null,
       "border_bottom": null,
       "border_left": null,
       "border_right": null,
       "border_top": null,
       "bottom": null,
       "display": null,
       "flex": null,
       "flex_flow": null,
       "grid_area": null,
       "grid_auto_columns": null,
       "grid_auto_flow": null,
       "grid_auto_rows": null,
       "grid_column": null,
       "grid_gap": null,
       "grid_row": null,
       "grid_template_areas": null,
       "grid_template_columns": null,
       "grid_template_rows": null,
       "height": null,
       "justify_content": null,
       "justify_items": null,
       "left": null,
       "margin": null,
       "max_height": null,
       "max_width": null,
       "min_height": null,
       "min_width": null,
       "object_fit": null,
       "object_position": null,
       "order": null,
       "overflow": null,
       "padding": null,
       "right": null,
       "top": null,
       "visibility": null,
       "width": null
      }
     },
     "82f06891fe3340539bdca5b8416a5e43": {
      "model_module": "@jupyter-widgets/controls",
      "model_module_version": "2.0.0",
      "model_name": "HTMLStyleModel",
      "state": {
       "_model_module": "@jupyter-widgets/controls",
       "_model_module_version": "2.0.0",
       "_model_name": "HTMLStyleModel",
       "_view_count": null,
       "_view_module": "@jupyter-widgets/base",
       "_view_module_version": "2.0.0",
       "_view_name": "StyleView",
       "background": null,
       "description_width": "",
       "font_size": null,
       "text_color": null
      }
     },
     "85f5b6872d994eb8bf5ef73b5b912420": {
      "model_module": "@jupyter-widgets/base",
      "model_module_version": "2.0.0",
      "model_name": "LayoutModel",
      "state": {
       "_model_module": "@jupyter-widgets/base",
       "_model_module_version": "2.0.0",
       "_model_name": "LayoutModel",
       "_view_count": null,
       "_view_module": "@jupyter-widgets/base",
       "_view_module_version": "2.0.0",
       "_view_name": "LayoutView",
       "align_content": null,
       "align_items": null,
       "align_self": null,
       "border_bottom": null,
       "border_left": null,
       "border_right": null,
       "border_top": null,
       "bottom": null,
       "display": null,
       "flex": null,
       "flex_flow": null,
       "grid_area": null,
       "grid_auto_columns": null,
       "grid_auto_flow": null,
       "grid_auto_rows": null,
       "grid_column": null,
       "grid_gap": null,
       "grid_row": null,
       "grid_template_areas": null,
       "grid_template_columns": null,
       "grid_template_rows": null,
       "height": null,
       "justify_content": null,
       "justify_items": null,
       "left": null,
       "margin": null,
       "max_height": null,
       "max_width": null,
       "min_height": null,
       "min_width": null,
       "object_fit": null,
       "object_position": null,
       "order": null,
       "overflow": null,
       "padding": null,
       "right": null,
       "top": null,
       "visibility": null,
       "width": null
      }
     },
     "8bb28cf6ec01498b95497cc4eeabcf79": {
      "model_module": "@jupyter-widgets/base",
      "model_module_version": "2.0.0",
      "model_name": "LayoutModel",
      "state": {
       "_model_module": "@jupyter-widgets/base",
       "_model_module_version": "2.0.0",
       "_model_name": "LayoutModel",
       "_view_count": null,
       "_view_module": "@jupyter-widgets/base",
       "_view_module_version": "2.0.0",
       "_view_name": "LayoutView",
       "align_content": null,
       "align_items": null,
       "align_self": null,
       "border_bottom": null,
       "border_left": null,
       "border_right": null,
       "border_top": null,
       "bottom": null,
       "display": null,
       "flex": null,
       "flex_flow": null,
       "grid_area": null,
       "grid_auto_columns": null,
       "grid_auto_flow": null,
       "grid_auto_rows": null,
       "grid_column": null,
       "grid_gap": null,
       "grid_row": null,
       "grid_template_areas": null,
       "grid_template_columns": null,
       "grid_template_rows": null,
       "height": null,
       "justify_content": null,
       "justify_items": null,
       "left": null,
       "margin": null,
       "max_height": null,
       "max_width": null,
       "min_height": null,
       "min_width": null,
       "object_fit": null,
       "object_position": null,
       "order": null,
       "overflow": null,
       "padding": null,
       "right": null,
       "top": null,
       "visibility": null,
       "width": null
      }
     },
     "8da97dc9396a48c1844ac4fbdb69943b": {
      "model_module": "@jupyter-widgets/controls",
      "model_module_version": "2.0.0",
      "model_name": "HTMLModel",
      "state": {
       "_dom_classes": [],
       "_model_module": "@jupyter-widgets/controls",
       "_model_module_version": "2.0.0",
       "_model_name": "HTMLModel",
       "_view_count": null,
       "_view_module": "@jupyter-widgets/controls",
       "_view_module_version": "2.0.0",
       "_view_name": "HTMLView",
       "description": "",
       "description_allow_html": false,
       "layout": "IPY_MODEL_d3a1c8d81a134d4c9e09e00993e22470",
       "placeholder": "​",
       "style": "IPY_MODEL_dbd642ec643948739db488672193320f",
       "tabbable": null,
       "tooltip": null,
       "value": "model.safetensors: 100%"
      }
     },
     "916da9b9dc31489e8f569a7fcc91e56a": {
      "model_module": "@jupyter-widgets/base",
      "model_module_version": "2.0.0",
      "model_name": "LayoutModel",
      "state": {
       "_model_module": "@jupyter-widgets/base",
       "_model_module_version": "2.0.0",
       "_model_name": "LayoutModel",
       "_view_count": null,
       "_view_module": "@jupyter-widgets/base",
       "_view_module_version": "2.0.0",
       "_view_name": "LayoutView",
       "align_content": null,
       "align_items": null,
       "align_self": null,
       "border_bottom": null,
       "border_left": null,
       "border_right": null,
       "border_top": null,
       "bottom": null,
       "display": null,
       "flex": null,
       "flex_flow": null,
       "grid_area": null,
       "grid_auto_columns": null,
       "grid_auto_flow": null,
       "grid_auto_rows": null,
       "grid_column": null,
       "grid_gap": null,
       "grid_row": null,
       "grid_template_areas": null,
       "grid_template_columns": null,
       "grid_template_rows": null,
       "height": null,
       "justify_content": null,
       "justify_items": null,
       "left": null,
       "margin": null,
       "max_height": null,
       "max_width": null,
       "min_height": null,
       "min_width": null,
       "object_fit": null,
       "object_position": null,
       "order": null,
       "overflow": null,
       "padding": null,
       "right": null,
       "top": null,
       "visibility": null,
       "width": null
      }
     },
     "94cd925977c841f98f4047f00d579e39": {
      "model_module": "@jupyter-widgets/controls",
      "model_module_version": "2.0.0",
      "model_name": "FloatProgressModel",
      "state": {
       "_dom_classes": [],
       "_model_module": "@jupyter-widgets/controls",
       "_model_module_version": "2.0.0",
       "_model_name": "FloatProgressModel",
       "_view_count": null,
       "_view_module": "@jupyter-widgets/controls",
       "_view_module_version": "2.0.0",
       "_view_name": "ProgressView",
       "bar_style": "success",
       "description": "",
       "description_allow_html": false,
       "layout": "IPY_MODEL_fbc9c927e3a84d76b0fd92940e74863d",
       "max": 49.0,
       "min": 0.0,
       "orientation": "horizontal",
       "style": "IPY_MODEL_69e7bc973f3c47f0bbaf3f83e11ca793",
       "tabbable": null,
       "tooltip": null,
       "value": 49.0
      }
     },
     "97ae510e891e4339aa646aea11fa9398": {
      "model_module": "@jupyter-widgets/controls",
      "model_module_version": "2.0.0",
      "model_name": "HTMLModel",
      "state": {
       "_dom_classes": [],
       "_model_module": "@jupyter-widgets/controls",
       "_model_module_version": "2.0.0",
       "_model_name": "HTMLModel",
       "_view_count": null,
       "_view_module": "@jupyter-widgets/controls",
       "_view_module_version": "2.0.0",
       "_view_name": "HTMLView",
       "description": "",
       "description_allow_html": false,
       "layout": "IPY_MODEL_9efc1f36c1134e58ac03b18770dab3e2",
       "placeholder": "​",
       "style": "IPY_MODEL_a626050d1a834fc88cfc9e0cadab562e",
       "tabbable": null,
       "tooltip": null,
       "value": "vocab.txt: 100%"
      }
     },
     "9efc1f36c1134e58ac03b18770dab3e2": {
      "model_module": "@jupyter-widgets/base",
      "model_module_version": "2.0.0",
      "model_name": "LayoutModel",
      "state": {
       "_model_module": "@jupyter-widgets/base",
       "_model_module_version": "2.0.0",
       "_model_name": "LayoutModel",
       "_view_count": null,
       "_view_module": "@jupyter-widgets/base",
       "_view_module_version": "2.0.0",
       "_view_name": "LayoutView",
       "align_content": null,
       "align_items": null,
       "align_self": null,
       "border_bottom": null,
       "border_left": null,
       "border_right": null,
       "border_top": null,
       "bottom": null,
       "display": null,
       "flex": null,
       "flex_flow": null,
       "grid_area": null,
       "grid_auto_columns": null,
       "grid_auto_flow": null,
       "grid_auto_rows": null,
       "grid_column": null,
       "grid_gap": null,
       "grid_row": null,
       "grid_template_areas": null,
       "grid_template_columns": null,
       "grid_template_rows": null,
       "height": null,
       "justify_content": null,
       "justify_items": null,
       "left": null,
       "margin": null,
       "max_height": null,
       "max_width": null,
       "min_height": null,
       "min_width": null,
       "object_fit": null,
       "object_position": null,
       "order": null,
       "overflow": null,
       "padding": null,
       "right": null,
       "top": null,
       "visibility": null,
       "width": null
      }
     },
     "a43a2e0928d44befa089bd0321b30365": {
      "model_module": "@jupyter-widgets/controls",
      "model_module_version": "2.0.0",
      "model_name": "ProgressStyleModel",
      "state": {
       "_model_module": "@jupyter-widgets/controls",
       "_model_module_version": "2.0.0",
       "_model_name": "ProgressStyleModel",
       "_view_count": null,
       "_view_module": "@jupyter-widgets/base",
       "_view_module_version": "2.0.0",
       "_view_name": "StyleView",
       "bar_color": null,
       "description_width": ""
      }
     },
     "a626050d1a834fc88cfc9e0cadab562e": {
      "model_module": "@jupyter-widgets/controls",
      "model_module_version": "2.0.0",
      "model_name": "HTMLStyleModel",
      "state": {
       "_model_module": "@jupyter-widgets/controls",
       "_model_module_version": "2.0.0",
       "_model_name": "HTMLStyleModel",
       "_view_count": null,
       "_view_module": "@jupyter-widgets/base",
       "_view_module_version": "2.0.0",
       "_view_name": "StyleView",
       "background": null,
       "description_width": "",
       "font_size": null,
       "text_color": null
      }
     },
     "a640262f62af4b1aa6e3fff962889454": {
      "model_module": "@jupyter-widgets/base",
      "model_module_version": "2.0.0",
      "model_name": "LayoutModel",
      "state": {
       "_model_module": "@jupyter-widgets/base",
       "_model_module_version": "2.0.0",
       "_model_name": "LayoutModel",
       "_view_count": null,
       "_view_module": "@jupyter-widgets/base",
       "_view_module_version": "2.0.0",
       "_view_name": "LayoutView",
       "align_content": null,
       "align_items": null,
       "align_self": null,
       "border_bottom": null,
       "border_left": null,
       "border_right": null,
       "border_top": null,
       "bottom": null,
       "display": null,
       "flex": null,
       "flex_flow": null,
       "grid_area": null,
       "grid_auto_columns": null,
       "grid_auto_flow": null,
       "grid_auto_rows": null,
       "grid_column": null,
       "grid_gap": null,
       "grid_row": null,
       "grid_template_areas": null,
       "grid_template_columns": null,
       "grid_template_rows": null,
       "height": null,
       "justify_content": null,
       "justify_items": null,
       "left": null,
       "margin": null,
       "max_height": null,
       "max_width": null,
       "min_height": null,
       "min_width": null,
       "object_fit": null,
       "object_position": null,
       "order": null,
       "overflow": null,
       "padding": null,
       "right": null,
       "top": null,
       "visibility": null,
       "width": null
      }
     },
     "aaff0cd31d1040e0b2bf03d8fa60fb8d": {
      "model_module": "@jupyter-widgets/controls",
      "model_module_version": "2.0.0",
      "model_name": "FloatProgressModel",
      "state": {
       "_dom_classes": [],
       "_model_module": "@jupyter-widgets/controls",
       "_model_module_version": "2.0.0",
       "_model_name": "FloatProgressModel",
       "_view_count": null,
       "_view_module": "@jupyter-widgets/controls",
       "_view_module_version": "2.0.0",
       "_view_name": "ProgressView",
       "bar_style": "success",
       "description": "",
       "description_allow_html": false,
       "layout": "IPY_MODEL_677bb03968ed4c2c82890b5827d75a90",
       "max": 714290682.0,
       "min": 0.0,
       "orientation": "horizontal",
       "style": "IPY_MODEL_b4296c0a6c464a4e8ee48ffeccae4d08",
       "tabbable": null,
       "tooltip": null,
       "value": 714290682.0
      }
     },
     "b00fa7339acb4489b4b011f29d63c33f": {
      "model_module": "@jupyter-widgets/controls",
      "model_module_version": "2.0.0",
      "model_name": "HTMLStyleModel",
      "state": {
       "_model_module": "@jupyter-widgets/controls",
       "_model_module_version": "2.0.0",
       "_model_name": "HTMLStyleModel",
       "_view_count": null,
       "_view_module": "@jupyter-widgets/base",
       "_view_module_version": "2.0.0",
       "_view_name": "StyleView",
       "background": null,
       "description_width": "",
       "font_size": null,
       "text_color": null
      }
     },
     "b4296c0a6c464a4e8ee48ffeccae4d08": {
      "model_module": "@jupyter-widgets/controls",
      "model_module_version": "2.0.0",
      "model_name": "ProgressStyleModel",
      "state": {
       "_model_module": "@jupyter-widgets/controls",
       "_model_module_version": "2.0.0",
       "_model_name": "ProgressStyleModel",
       "_view_count": null,
       "_view_module": "@jupyter-widgets/base",
       "_view_module_version": "2.0.0",
       "_view_name": "StyleView",
       "bar_color": null,
       "description_width": ""
      }
     },
     "b7807ab1cc214c17a1a49cfff5c69547": {
      "model_module": "@jupyter-widgets/controls",
      "model_module_version": "2.0.0",
      "model_name": "HTMLModel",
      "state": {
       "_dom_classes": [],
       "_model_module": "@jupyter-widgets/controls",
       "_model_module_version": "2.0.0",
       "_model_name": "HTMLModel",
       "_view_count": null,
       "_view_module": "@jupyter-widgets/controls",
       "_view_module_version": "2.0.0",
       "_view_name": "HTMLView",
       "description": "",
       "description_allow_html": false,
       "layout": "IPY_MODEL_463c1c0abc7f467286fd3b3841bbb469",
       "placeholder": "​",
       "style": "IPY_MODEL_c3409e59303b44baa9d9371405496ebb",
       "tabbable": null,
       "tooltip": null,
       "value": " 49.0/49.0 [00:00&lt;00:00, 5.02kB/s]"
      }
     },
     "c3409e59303b44baa9d9371405496ebb": {
      "model_module": "@jupyter-widgets/controls",
      "model_module_version": "2.0.0",
      "model_name": "HTMLStyleModel",
      "state": {
       "_model_module": "@jupyter-widgets/controls",
       "_model_module_version": "2.0.0",
       "_model_name": "HTMLStyleModel",
       "_view_count": null,
       "_view_module": "@jupyter-widgets/base",
       "_view_module_version": "2.0.0",
       "_view_name": "StyleView",
       "background": null,
       "description_width": "",
       "font_size": null,
       "text_color": null
      }
     },
     "c5826b953dc44fc19beb99755111e938": {
      "model_module": "@jupyter-widgets/base",
      "model_module_version": "2.0.0",
      "model_name": "LayoutModel",
      "state": {
       "_model_module": "@jupyter-widgets/base",
       "_model_module_version": "2.0.0",
       "_model_name": "LayoutModel",
       "_view_count": null,
       "_view_module": "@jupyter-widgets/base",
       "_view_module_version": "2.0.0",
       "_view_name": "LayoutView",
       "align_content": null,
       "align_items": null,
       "align_self": null,
       "border_bottom": null,
       "border_left": null,
       "border_right": null,
       "border_top": null,
       "bottom": null,
       "display": null,
       "flex": null,
       "flex_flow": null,
       "grid_area": null,
       "grid_auto_columns": null,
       "grid_auto_flow": null,
       "grid_auto_rows": null,
       "grid_column": null,
       "grid_gap": null,
       "grid_row": null,
       "grid_template_areas": null,
       "grid_template_columns": null,
       "grid_template_rows": null,
       "height": null,
       "justify_content": null,
       "justify_items": null,
       "left": null,
       "margin": null,
       "max_height": null,
       "max_width": null,
       "min_height": null,
       "min_width": null,
       "object_fit": null,
       "object_position": null,
       "order": null,
       "overflow": null,
       "padding": null,
       "right": null,
       "top": null,
       "visibility": null,
       "width": null
      }
     },
     "c67e9426f6f54408a354d5853a14ade5": {
      "model_module": "@jupyter-widgets/controls",
      "model_module_version": "2.0.0",
      "model_name": "HTMLStyleModel",
      "state": {
       "_model_module": "@jupyter-widgets/controls",
       "_model_module_version": "2.0.0",
       "_model_name": "HTMLStyleModel",
       "_view_count": null,
       "_view_module": "@jupyter-widgets/base",
       "_view_module_version": "2.0.0",
       "_view_name": "StyleView",
       "background": null,
       "description_width": "",
       "font_size": null,
       "text_color": null
      }
     },
     "c6de8a4c39ce40fdaf2f7d72046812da": {
      "model_module": "@jupyter-widgets/base",
      "model_module_version": "2.0.0",
      "model_name": "LayoutModel",
      "state": {
       "_model_module": "@jupyter-widgets/base",
       "_model_module_version": "2.0.0",
       "_model_name": "LayoutModel",
       "_view_count": null,
       "_view_module": "@jupyter-widgets/base",
       "_view_module_version": "2.0.0",
       "_view_name": "LayoutView",
       "align_content": null,
       "align_items": null,
       "align_self": null,
       "border_bottom": null,
       "border_left": null,
       "border_right": null,
       "border_top": null,
       "bottom": null,
       "display": null,
       "flex": null,
       "flex_flow": null,
       "grid_area": null,
       "grid_auto_columns": null,
       "grid_auto_flow": null,
       "grid_auto_rows": null,
       "grid_column": null,
       "grid_gap": null,
       "grid_row": null,
       "grid_template_areas": null,
       "grid_template_columns": null,
       "grid_template_rows": null,
       "height": null,
       "justify_content": null,
       "justify_items": null,
       "left": null,
       "margin": null,
       "max_height": null,
       "max_width": null,
       "min_height": null,
       "min_width": null,
       "object_fit": null,
       "object_position": null,
       "order": null,
       "overflow": null,
       "padding": null,
       "right": null,
       "top": null,
       "visibility": null,
       "width": null
      }
     },
     "cf04696240f14a9e9d81b089ae13e8fb": {
      "model_module": "@jupyter-widgets/base",
      "model_module_version": "2.0.0",
      "model_name": "LayoutModel",
      "state": {
       "_model_module": "@jupyter-widgets/base",
       "_model_module_version": "2.0.0",
       "_model_name": "LayoutModel",
       "_view_count": null,
       "_view_module": "@jupyter-widgets/base",
       "_view_module_version": "2.0.0",
       "_view_name": "LayoutView",
       "align_content": null,
       "align_items": null,
       "align_self": null,
       "border_bottom": null,
       "border_left": null,
       "border_right": null,
       "border_top": null,
       "bottom": null,
       "display": null,
       "flex": null,
       "flex_flow": null,
       "grid_area": null,
       "grid_auto_columns": null,
       "grid_auto_flow": null,
       "grid_auto_rows": null,
       "grid_column": null,
       "grid_gap": null,
       "grid_row": null,
       "grid_template_areas": null,
       "grid_template_columns": null,
       "grid_template_rows": null,
       "height": null,
       "justify_content": null,
       "justify_items": null,
       "left": null,
       "margin": null,
       "max_height": null,
       "max_width": null,
       "min_height": null,
       "min_width": null,
       "object_fit": null,
       "object_position": null,
       "order": null,
       "overflow": null,
       "padding": null,
       "right": null,
       "top": null,
       "visibility": null,
       "width": null
      }
     },
     "d2917ccfb94f4e84a2766a768cc4f945": {
      "model_module": "@jupyter-widgets/controls",
      "model_module_version": "2.0.0",
      "model_name": "HTMLModel",
      "state": {
       "_dom_classes": [],
       "_model_module": "@jupyter-widgets/controls",
       "_model_module_version": "2.0.0",
       "_model_name": "HTMLModel",
       "_view_count": null,
       "_view_module": "@jupyter-widgets/controls",
       "_view_module_version": "2.0.0",
       "_view_name": "HTMLView",
       "description": "",
       "description_allow_html": false,
       "layout": "IPY_MODEL_12d50a3ff0ba4098aa7c68ace9425658",
       "placeholder": "​",
       "style": "IPY_MODEL_1ea02b832b7446d39c8a77f98b4bb9de",
       "tabbable": null,
       "tooltip": null,
       "value": "tokenizer.json: 100%"
      }
     },
     "d3a1c8d81a134d4c9e09e00993e22470": {
      "model_module": "@jupyter-widgets/base",
      "model_module_version": "2.0.0",
      "model_name": "LayoutModel",
      "state": {
       "_model_module": "@jupyter-widgets/base",
       "_model_module_version": "2.0.0",
       "_model_name": "LayoutModel",
       "_view_count": null,
       "_view_module": "@jupyter-widgets/base",
       "_view_module_version": "2.0.0",
       "_view_name": "LayoutView",
       "align_content": null,
       "align_items": null,
       "align_self": null,
       "border_bottom": null,
       "border_left": null,
       "border_right": null,
       "border_top": null,
       "bottom": null,
       "display": null,
       "flex": null,
       "flex_flow": null,
       "grid_area": null,
       "grid_auto_columns": null,
       "grid_auto_flow": null,
       "grid_auto_rows": null,
       "grid_column": null,
       "grid_gap": null,
       "grid_row": null,
       "grid_template_areas": null,
       "grid_template_columns": null,
       "grid_template_rows": null,
       "height": null,
       "justify_content": null,
       "justify_items": null,
       "left": null,
       "margin": null,
       "max_height": null,
       "max_width": null,
       "min_height": null,
       "min_width": null,
       "object_fit": null,
       "object_position": null,
       "order": null,
       "overflow": null,
       "padding": null,
       "right": null,
       "top": null,
       "visibility": null,
       "width": null
      }
     },
     "d43c041050b44e2aac3f311a30bc4b51": {
      "model_module": "@jupyter-widgets/controls",
      "model_module_version": "2.0.0",
      "model_name": "HBoxModel",
      "state": {
       "_dom_classes": [],
       "_model_module": "@jupyter-widgets/controls",
       "_model_module_version": "2.0.0",
       "_model_name": "HBoxModel",
       "_view_count": null,
       "_view_module": "@jupyter-widgets/controls",
       "_view_module_version": "2.0.0",
       "_view_name": "HBoxView",
       "box_style": "",
       "children": [
        "IPY_MODEL_97ae510e891e4339aa646aea11fa9398",
        "IPY_MODEL_13832fc7c61c469da0b1a449a8cc9779",
        "IPY_MODEL_736b4fbb6b2b48e3b71fbd7baeb9c4a6"
       ],
       "layout": "IPY_MODEL_c6de8a4c39ce40fdaf2f7d72046812da",
       "tabbable": null,
       "tooltip": null
      }
     },
     "d6c98b61ea714f8d8215d86890efbbd8": {
      "model_module": "@jupyter-widgets/controls",
      "model_module_version": "2.0.0",
      "model_name": "HBoxModel",
      "state": {
       "_dom_classes": [],
       "_model_module": "@jupyter-widgets/controls",
       "_model_module_version": "2.0.0",
       "_model_name": "HBoxModel",
       "_view_count": null,
       "_view_module": "@jupyter-widgets/controls",
       "_view_module_version": "2.0.0",
       "_view_name": "HBoxView",
       "box_style": "",
       "children": [
        "IPY_MODEL_8da97dc9396a48c1844ac4fbdb69943b",
        "IPY_MODEL_aaff0cd31d1040e0b2bf03d8fa60fb8d",
        "IPY_MODEL_4cfe7990164445a185b701e925bdfc9b"
       ],
       "layout": "IPY_MODEL_704a2e5d1edb42c09437cf803e900c25",
       "tabbable": null,
       "tooltip": null
      }
     },
     "dbd642ec643948739db488672193320f": {
      "model_module": "@jupyter-widgets/controls",
      "model_module_version": "2.0.0",
      "model_name": "HTMLStyleModel",
      "state": {
       "_model_module": "@jupyter-widgets/controls",
       "_model_module_version": "2.0.0",
       "_model_name": "HTMLStyleModel",
       "_view_count": null,
       "_view_module": "@jupyter-widgets/base",
       "_view_module_version": "2.0.0",
       "_view_name": "StyleView",
       "background": null,
       "description_width": "",
       "font_size": null,
       "text_color": null
      }
     },
     "e20c602eeb424edd9629bcc394290d9c": {
      "model_module": "@jupyter-widgets/controls",
      "model_module_version": "2.0.0",
      "model_name": "HBoxModel",
      "state": {
       "_dom_classes": [],
       "_model_module": "@jupyter-widgets/controls",
       "_model_module_version": "2.0.0",
       "_model_name": "HBoxModel",
       "_view_count": null,
       "_view_module": "@jupyter-widgets/controls",
       "_view_module_version": "2.0.0",
       "_view_name": "HBoxView",
       "box_style": "",
       "children": [
        "IPY_MODEL_f144ed7d52454a41be557aea00b34836",
        "IPY_MODEL_94cd925977c841f98f4047f00d579e39",
        "IPY_MODEL_b7807ab1cc214c17a1a49cfff5c69547"
       ],
       "layout": "IPY_MODEL_80df4649458c4f44bfa117b8ebc5733d",
       "tabbable": null,
       "tooltip": null
      }
     },
     "e236247f6b6744c6929c7dad5a892b3f": {
      "model_module": "@jupyter-widgets/controls",
      "model_module_version": "2.0.0",
      "model_name": "HTMLStyleModel",
      "state": {
       "_model_module": "@jupyter-widgets/controls",
       "_model_module_version": "2.0.0",
       "_model_name": "HTMLStyleModel",
       "_view_count": null,
       "_view_module": "@jupyter-widgets/base",
       "_view_module_version": "2.0.0",
       "_view_name": "StyleView",
       "background": null,
       "description_width": "",
       "font_size": null,
       "text_color": null
      }
     },
     "e29e5079950143a384f37bccd717e05e": {
      "model_module": "@jupyter-widgets/controls",
      "model_module_version": "2.0.0",
      "model_name": "ProgressStyleModel",
      "state": {
       "_model_module": "@jupyter-widgets/controls",
       "_model_module_version": "2.0.0",
       "_model_name": "ProgressStyleModel",
       "_view_count": null,
       "_view_module": "@jupyter-widgets/base",
       "_view_module_version": "2.0.0",
       "_view_name": "StyleView",
       "bar_color": null,
       "description_width": ""
      }
     },
     "e4c950067d094fc6b0b5d2265a70f812": {
      "model_module": "@jupyter-widgets/controls",
      "model_module_version": "2.0.0",
      "model_name": "HTMLModel",
      "state": {
       "_dom_classes": [],
       "_model_module": "@jupyter-widgets/controls",
       "_model_module_version": "2.0.0",
       "_model_name": "HTMLModel",
       "_view_count": null,
       "_view_module": "@jupyter-widgets/controls",
       "_view_module_version": "2.0.0",
       "_view_name": "HTMLView",
       "description": "",
       "description_allow_html": false,
       "layout": "IPY_MODEL_916da9b9dc31489e8f569a7fcc91e56a",
       "placeholder": "​",
       "style": "IPY_MODEL_e236247f6b6744c6929c7dad5a892b3f",
       "tabbable": null,
       "tooltip": null,
       "value": " 1.96M/1.96M [00:00&lt;00:00, 27.8MB/s]"
      }
     },
     "eb49e2e2f8a3492fb458b8a74450df33": {
      "model_module": "@jupyter-widgets/controls",
      "model_module_version": "2.0.0",
      "model_name": "FloatProgressModel",
      "state": {
       "_dom_classes": [],
       "_model_module": "@jupyter-widgets/controls",
       "_model_module_version": "2.0.0",
       "_model_name": "FloatProgressModel",
       "_view_count": null,
       "_view_module": "@jupyter-widgets/controls",
       "_view_module_version": "2.0.0",
       "_view_name": "ProgressView",
       "bar_style": "success",
       "description": "",
       "description_allow_html": false,
       "layout": "IPY_MODEL_cf04696240f14a9e9d81b089ae13e8fb",
       "max": 1961828.0,
       "min": 0.0,
       "orientation": "horizontal",
       "style": "IPY_MODEL_6cf02973e1bf4cc196a427db5b890001",
       "tabbable": null,
       "tooltip": null,
       "value": 1961828.0
      }
     },
     "ee2a80c8c87e4d10ab9c51b11a5d4a6c": {
      "model_module": "@jupyter-widgets/controls",
      "model_module_version": "2.0.0",
      "model_name": "HBoxModel",
      "state": {
       "_dom_classes": [],
       "_model_module": "@jupyter-widgets/controls",
       "_model_module_version": "2.0.0",
       "_model_name": "HBoxModel",
       "_view_count": null,
       "_view_module": "@jupyter-widgets/controls",
       "_view_module_version": "2.0.0",
       "_view_name": "HBoxView",
       "box_style": "",
       "children": [
        "IPY_MODEL_604dddbb91384f8dbe315e442d87c57b",
        "IPY_MODEL_10cb7a11bdc345779b11e0514b578cc9",
        "IPY_MODEL_74509c2679ec4aa081c8b740db28046e"
       ],
       "layout": "IPY_MODEL_7aed26758a254f46b16d695e7e59fb51",
       "tabbable": null,
       "tooltip": null
      }
     },
     "f144ed7d52454a41be557aea00b34836": {
      "model_module": "@jupyter-widgets/controls",
      "model_module_version": "2.0.0",
      "model_name": "HTMLModel",
      "state": {
       "_dom_classes": [],
       "_model_module": "@jupyter-widgets/controls",
       "_model_module_version": "2.0.0",
       "_model_name": "HTMLModel",
       "_view_count": null,
       "_view_module": "@jupyter-widgets/controls",
       "_view_module_version": "2.0.0",
       "_view_name": "HTMLView",
       "description": "",
       "description_allow_html": false,
       "layout": "IPY_MODEL_fbb15bf102094efeb3bea67d997ee289",
       "placeholder": "​",
       "style": "IPY_MODEL_7eec4457201c4b51b3c7780b3ae4bf97",
       "tabbable": null,
       "tooltip": null,
       "value": "tokenizer_config.json: 100%"
      }
     },
     "fbb15bf102094efeb3bea67d997ee289": {
      "model_module": "@jupyter-widgets/base",
      "model_module_version": "2.0.0",
      "model_name": "LayoutModel",
      "state": {
       "_model_module": "@jupyter-widgets/base",
       "_model_module_version": "2.0.0",
       "_model_name": "LayoutModel",
       "_view_count": null,
       "_view_module": "@jupyter-widgets/base",
       "_view_module_version": "2.0.0",
       "_view_name": "LayoutView",
       "align_content": null,
       "align_items": null,
       "align_self": null,
       "border_bottom": null,
       "border_left": null,
       "border_right": null,
       "border_top": null,
       "bottom": null,
       "display": null,
       "flex": null,
       "flex_flow": null,
       "grid_area": null,
       "grid_auto_columns": null,
       "grid_auto_flow": null,
       "grid_auto_rows": null,
       "grid_column": null,
       "grid_gap": null,
       "grid_row": null,
       "grid_template_areas": null,
       "grid_template_columns": null,
       "grid_template_rows": null,
       "height": null,
       "justify_content": null,
       "justify_items": null,
       "left": null,
       "margin": null,
       "max_height": null,
       "max_width": null,
       "min_height": null,
       "min_width": null,
       "object_fit": null,
       "object_position": null,
       "order": null,
       "overflow": null,
       "padding": null,
       "right": null,
       "top": null,
       "visibility": null,
       "width": null
      }
     },
     "fbc9c927e3a84d76b0fd92940e74863d": {
      "model_module": "@jupyter-widgets/base",
      "model_module_version": "2.0.0",
      "model_name": "LayoutModel",
      "state": {
       "_model_module": "@jupyter-widgets/base",
       "_model_module_version": "2.0.0",
       "_model_name": "LayoutModel",
       "_view_count": null,
       "_view_module": "@jupyter-widgets/base",
       "_view_module_version": "2.0.0",
       "_view_name": "LayoutView",
       "align_content": null,
       "align_items": null,
       "align_self": null,
       "border_bottom": null,
       "border_left": null,
       "border_right": null,
       "border_top": null,
       "bottom": null,
       "display": null,
       "flex": null,
       "flex_flow": null,
       "grid_area": null,
       "grid_auto_columns": null,
       "grid_auto_flow": null,
       "grid_auto_rows": null,
       "grid_column": null,
       "grid_gap": null,
       "grid_row": null,
       "grid_template_areas": null,
       "grid_template_columns": null,
       "grid_template_rows": null,
       "height": null,
       "justify_content": null,
       "justify_items": null,
       "left": null,
       "margin": null,
       "max_height": null,
       "max_width": null,
       "min_height": null,
       "min_width": null,
       "object_fit": null,
       "object_position": null,
       "order": null,
       "overflow": null,
       "padding": null,
       "right": null,
       "top": null,
       "visibility": null,
       "width": null
      }
     }
    },
    "version_major": 2,
    "version_minor": 0
   }
  }
 },
 "nbformat": 4,
 "nbformat_minor": 5
}
