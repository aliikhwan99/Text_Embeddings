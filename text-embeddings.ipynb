{
 "cells": [
  {
   "cell_type": "markdown",
   "id": "fcafcad0",
   "metadata": {
    "papermill": {
     "duration": 0.004528,
     "end_time": "2025-04-21T16:42:16.997873",
     "exception": false,
     "start_time": "2025-04-21T16:42:16.993345",
     "status": "completed"
    },
    "tags": []
   },
   "source": [
    "# Phoneme Embeddings"
   ]
  },
  {
   "cell_type": "code",
   "execution_count": 1,
   "id": "31ecfeee",
   "metadata": {
    "execution": {
     "iopub.execute_input": "2025-04-21T16:42:17.006448Z",
     "iopub.status.busy": "2025-04-21T16:42:17.005983Z",
     "iopub.status.idle": "2025-04-21T16:42:22.138205Z",
     "shell.execute_reply": "2025-04-21T16:42:22.137145Z"
    },
    "papermill": {
     "duration": 5.137913,
     "end_time": "2025-04-21T16:42:22.139665",
     "exception": false,
     "start_time": "2025-04-21T16:42:17.001752",
     "status": "completed"
    },
    "tags": []
   },
   "outputs": [
    {
     "name": "stdout",
     "output_type": "stream",
     "text": [
      "Collecting phonemizer\r\n",
      "  Downloading phonemizer-3.3.0-py3-none-any.whl.metadata (48 kB)\r\n",
      "\u001b[2K     \u001b[90m━━━━━━━━━━━━━━━━━━━━━━━━━━━━━━━━━━━━━━━━\u001b[0m \u001b[32m48.2/48.2 kB\u001b[0m \u001b[31m1.9 MB/s\u001b[0m eta \u001b[36m0:00:00\u001b[0m\r\n",
      "\u001b[?25hRequirement already satisfied: joblib in /usr/local/lib/python3.11/dist-packages (from phonemizer) (1.4.2)\r\n",
      "Collecting segments (from phonemizer)\r\n",
      "  Downloading segments-2.3.0-py2.py3-none-any.whl.metadata (3.5 kB)\r\n",
      "Requirement already satisfied: attrs>=18.1 in /usr/local/lib/python3.11/dist-packages (from phonemizer) (25.3.0)\r\n",
      "Collecting dlinfo (from phonemizer)\r\n",
      "  Downloading dlinfo-2.0.0-py3-none-any.whl.metadata (1.1 kB)\r\n",
      "Requirement already satisfied: typing-extensions in /usr/local/lib/python3.11/dist-packages (from phonemizer) (4.13.1)\r\n",
      "Requirement already satisfied: regex in /usr/local/lib/python3.11/dist-packages (from segments->phonemizer) (2024.11.6)\r\n",
      "Collecting csvw>=1.5.6 (from segments->phonemizer)\r\n",
      "  Downloading csvw-3.5.1-py2.py3-none-any.whl.metadata (10 kB)\r\n",
      "Collecting isodate (from csvw>=1.5.6->segments->phonemizer)\r\n",
      "  Downloading isodate-0.7.2-py3-none-any.whl.metadata (11 kB)\r\n",
      "Requirement already satisfied: python-dateutil in /usr/local/lib/python3.11/dist-packages (from csvw>=1.5.6->segments->phonemizer) (2.9.0.post0)\r\n",
      "Collecting rfc3986<2 (from csvw>=1.5.6->segments->phonemizer)\r\n",
      "  Downloading rfc3986-1.5.0-py2.py3-none-any.whl.metadata (6.5 kB)\r\n",
      "Requirement already satisfied: uritemplate>=3.0.0 in /usr/local/lib/python3.11/dist-packages (from csvw>=1.5.6->segments->phonemizer) (4.1.1)\r\n",
      "Requirement already satisfied: babel in /usr/local/lib/python3.11/dist-packages (from csvw>=1.5.6->segments->phonemizer) (2.17.0)\r\n",
      "Requirement already satisfied: requests in /usr/local/lib/python3.11/dist-packages (from csvw>=1.5.6->segments->phonemizer) (2.32.3)\r\n",
      "Collecting language-tags (from csvw>=1.5.6->segments->phonemizer)\r\n",
      "  Downloading language_tags-1.2.0-py3-none-any.whl.metadata (2.1 kB)\r\n",
      "Collecting rdflib (from csvw>=1.5.6->segments->phonemizer)\r\n",
      "  Downloading rdflib-7.1.4-py3-none-any.whl.metadata (11 kB)\r\n",
      "Requirement already satisfied: colorama in /usr/local/lib/python3.11/dist-packages (from csvw>=1.5.6->segments->phonemizer) (0.4.6)\r\n",
      "Requirement already satisfied: jsonschema in /usr/local/lib/python3.11/dist-packages (from csvw>=1.5.6->segments->phonemizer) (4.23.0)\r\n",
      "Requirement already satisfied: jsonschema-specifications>=2023.03.6 in /usr/local/lib/python3.11/dist-packages (from jsonschema->csvw>=1.5.6->segments->phonemizer) (2024.10.1)\r\n",
      "Requirement already satisfied: referencing>=0.28.4 in /usr/local/lib/python3.11/dist-packages (from jsonschema->csvw>=1.5.6->segments->phonemizer) (0.36.2)\r\n",
      "Requirement already satisfied: rpds-py>=0.7.1 in /usr/local/lib/python3.11/dist-packages (from jsonschema->csvw>=1.5.6->segments->phonemizer) (0.22.3)\r\n",
      "Requirement already satisfied: six>=1.5 in /usr/local/lib/python3.11/dist-packages (from python-dateutil->csvw>=1.5.6->segments->phonemizer) (1.17.0)\r\n",
      "Requirement already satisfied: pyparsing<4,>=2.1.0 in /usr/local/lib/python3.11/dist-packages (from rdflib->csvw>=1.5.6->segments->phonemizer) (3.2.1)\r\n",
      "Requirement already satisfied: charset-normalizer<4,>=2 in /usr/local/lib/python3.11/dist-packages (from requests->csvw>=1.5.6->segments->phonemizer) (3.4.1)\r\n",
      "Requirement already satisfied: idna<4,>=2.5 in /usr/local/lib/python3.11/dist-packages (from requests->csvw>=1.5.6->segments->phonemizer) (3.10)\r\n",
      "Requirement already satisfied: urllib3<3,>=1.21.1 in /usr/local/lib/python3.11/dist-packages (from requests->csvw>=1.5.6->segments->phonemizer) (2.3.0)\r\n",
      "Requirement already satisfied: certifi>=2017.4.17 in /usr/local/lib/python3.11/dist-packages (from requests->csvw>=1.5.6->segments->phonemizer) (2025.1.31)\r\n",
      "Downloading phonemizer-3.3.0-py3-none-any.whl (103 kB)\r\n",
      "\u001b[2K   \u001b[90m━━━━━━━━━━━━━━━━━━━━━━━━━━━━━━━━━━━━━━━━\u001b[0m \u001b[32m103.8/103.8 kB\u001b[0m \u001b[31m4.6 MB/s\u001b[0m eta \u001b[36m0:00:00\u001b[0m\r\n",
      "\u001b[?25hDownloading dlinfo-2.0.0-py3-none-any.whl (3.7 kB)\r\n",
      "Downloading segments-2.3.0-py2.py3-none-any.whl (15 kB)\r\n",
      "Downloading csvw-3.5.1-py2.py3-none-any.whl (59 kB)\r\n",
      "\u001b[2K   \u001b[90m━━━━━━━━━━━━━━━━━━━━━━━━━━━━━━━━━━━━━━━━\u001b[0m \u001b[32m59.9/59.9 kB\u001b[0m \u001b[31m5.1 MB/s\u001b[0m eta \u001b[36m0:00:00\u001b[0m\r\n",
      "\u001b[?25hDownloading rfc3986-1.5.0-py2.py3-none-any.whl (31 kB)\r\n",
      "Downloading isodate-0.7.2-py3-none-any.whl (22 kB)\r\n",
      "Downloading language_tags-1.2.0-py3-none-any.whl (213 kB)\r\n",
      "\u001b[2K   \u001b[90m━━━━━━━━━━━━━━━━━━━━━━━━━━━━━━━━━━━━━━━━\u001b[0m \u001b[32m213.4/213.4 kB\u001b[0m \u001b[31m9.3 MB/s\u001b[0m eta \u001b[36m0:00:00\u001b[0m\r\n",
      "\u001b[?25hDownloading rdflib-7.1.4-py3-none-any.whl (565 kB)\r\n",
      "\u001b[2K   \u001b[90m━━━━━━━━━━━━━━━━━━━━━━━━━━━━━━━━━━━━━━━━\u001b[0m \u001b[32m565.1/565.1 kB\u001b[0m \u001b[31m23.0 MB/s\u001b[0m eta \u001b[36m0:00:00\u001b[0m\r\n",
      "\u001b[?25hInstalling collected packages: rfc3986, language-tags, rdflib, isodate, dlinfo, csvw, segments, phonemizer\r\n",
      "Successfully installed csvw-3.5.1 dlinfo-2.0.0 isodate-0.7.2 language-tags-1.2.0 phonemizer-3.3.0 rdflib-7.1.4 rfc3986-1.5.0 segments-2.3.0\r\n",
      "Note: you may need to restart the kernel to use updated packages.\n"
     ]
    }
   ],
   "source": [
    "pip install phonemizer"
   ]
  },
  {
   "cell_type": "markdown",
   "id": "c2b020ab",
   "metadata": {
    "papermill": {
     "duration": 0.004691,
     "end_time": "2025-04-21T16:42:22.149733",
     "exception": false,
     "start_time": "2025-04-21T16:42:22.145042",
     "status": "completed"
    },
    "tags": []
   },
   "source": [
    "# Morphology Embeddings"
   ]
  },
  {
   "cell_type": "code",
   "execution_count": 2,
   "id": "c3763e50",
   "metadata": {
    "_cell_guid": "b1076dfc-b9ad-4769-8c92-a6c4dae69d19",
    "_uuid": "8f2839f25d086af736a60e9eeb907d3b93b6e0e5",
    "execution": {
     "iopub.execute_input": "2025-04-21T16:42:22.159934Z",
     "iopub.status.busy": "2025-04-21T16:42:22.159699Z",
     "iopub.status.idle": "2025-04-21T16:42:25.458844Z",
     "shell.execute_reply": "2025-04-21T16:42:25.458012Z"
    },
    "papermill": {
     "duration": 3.305598,
     "end_time": "2025-04-21T16:42:25.459976",
     "exception": false,
     "start_time": "2025-04-21T16:42:22.154378",
     "status": "completed"
    },
    "tags": []
   },
   "outputs": [
    {
     "name": "stdout",
     "output_type": "stream",
     "text": [
      "Collecting morfessor\r\n",
      "  Downloading Morfessor-2.0.6-py3-none-any.whl.metadata (628 bytes)\r\n",
      "Downloading Morfessor-2.0.6-py3-none-any.whl (35 kB)\r\n",
      "Installing collected packages: morfessor\r\n",
      "Successfully installed morfessor-2.0.6\r\n",
      "Note: you may need to restart the kernel to use updated packages.\n"
     ]
    }
   ],
   "source": [
    "pip install morfessor\n"
   ]
  },
  {
   "cell_type": "markdown",
   "id": "e2b6436d",
   "metadata": {
    "papermill": {
     "duration": 0.00468,
     "end_time": "2025-04-21T16:42:25.469925",
     "exception": false,
     "start_time": "2025-04-21T16:42:25.465245",
     "status": "completed"
    },
    "tags": []
   },
   "source": [
    "# Environment set"
   ]
  },
  {
   "cell_type": "code",
   "execution_count": 3,
   "id": "3747955f",
   "metadata": {
    "execution": {
     "iopub.execute_input": "2025-04-21T16:42:25.480923Z",
     "iopub.status.busy": "2025-04-21T16:42:25.480680Z",
     "iopub.status.idle": "2025-04-21T16:42:37.978889Z",
     "shell.execute_reply": "2025-04-21T16:42:37.977957Z"
    },
    "papermill": {
     "duration": 12.505785,
     "end_time": "2025-04-21T16:42:37.980443",
     "exception": false,
     "start_time": "2025-04-21T16:42:25.474658",
     "status": "completed"
    },
    "tags": []
   },
   "outputs": [
    {
     "name": "stdout",
     "output_type": "stream",
     "text": [
      "Requirement already satisfied: phonemizer in /usr/local/lib/python3.11/dist-packages (3.3.0)\r\n",
      "Requirement already satisfied: morfessor in /usr/local/lib/python3.11/dist-packages (2.0.6)\r\n",
      "Requirement already satisfied: joblib in /usr/local/lib/python3.11/dist-packages (from phonemizer) (1.4.2)\r\n",
      "Requirement already satisfied: segments in /usr/local/lib/python3.11/dist-packages (from phonemizer) (2.3.0)\r\n",
      "Requirement already satisfied: attrs>=18.1 in /usr/local/lib/python3.11/dist-packages (from phonemizer) (25.3.0)\r\n",
      "Requirement already satisfied: dlinfo in /usr/local/lib/python3.11/dist-packages (from phonemizer) (2.0.0)\r\n",
      "Requirement already satisfied: typing-extensions in /usr/local/lib/python3.11/dist-packages (from phonemizer) (4.13.1)\r\n",
      "Requirement already satisfied: regex in /usr/local/lib/python3.11/dist-packages (from segments->phonemizer) (2024.11.6)\r\n",
      "Requirement already satisfied: csvw>=1.5.6 in /usr/local/lib/python3.11/dist-packages (from segments->phonemizer) (3.5.1)\r\n",
      "Requirement already satisfied: isodate in /usr/local/lib/python3.11/dist-packages (from csvw>=1.5.6->segments->phonemizer) (0.7.2)\r\n",
      "Requirement already satisfied: python-dateutil in /usr/local/lib/python3.11/dist-packages (from csvw>=1.5.6->segments->phonemizer) (2.9.0.post0)\r\n",
      "Requirement already satisfied: rfc3986<2 in /usr/local/lib/python3.11/dist-packages (from csvw>=1.5.6->segments->phonemizer) (1.5.0)\r\n",
      "Requirement already satisfied: uritemplate>=3.0.0 in /usr/local/lib/python3.11/dist-packages (from csvw>=1.5.6->segments->phonemizer) (4.1.1)\r\n",
      "Requirement already satisfied: babel in /usr/local/lib/python3.11/dist-packages (from csvw>=1.5.6->segments->phonemizer) (2.17.0)\r\n",
      "Requirement already satisfied: requests in /usr/local/lib/python3.11/dist-packages (from csvw>=1.5.6->segments->phonemizer) (2.32.3)\r\n",
      "Requirement already satisfied: language-tags in /usr/local/lib/python3.11/dist-packages (from csvw>=1.5.6->segments->phonemizer) (1.2.0)\r\n",
      "Requirement already satisfied: rdflib in /usr/local/lib/python3.11/dist-packages (from csvw>=1.5.6->segments->phonemizer) (7.1.4)\r\n",
      "Requirement already satisfied: colorama in /usr/local/lib/python3.11/dist-packages (from csvw>=1.5.6->segments->phonemizer) (0.4.6)\r\n",
      "Requirement already satisfied: jsonschema in /usr/local/lib/python3.11/dist-packages (from csvw>=1.5.6->segments->phonemizer) (4.23.0)\r\n",
      "Requirement already satisfied: jsonschema-specifications>=2023.03.6 in /usr/local/lib/python3.11/dist-packages (from jsonschema->csvw>=1.5.6->segments->phonemizer) (2024.10.1)\r\n",
      "Requirement already satisfied: referencing>=0.28.4 in /usr/local/lib/python3.11/dist-packages (from jsonschema->csvw>=1.5.6->segments->phonemizer) (0.36.2)\r\n",
      "Requirement already satisfied: rpds-py>=0.7.1 in /usr/local/lib/python3.11/dist-packages (from jsonschema->csvw>=1.5.6->segments->phonemizer) (0.22.3)\r\n",
      "Requirement already satisfied: six>=1.5 in /usr/local/lib/python3.11/dist-packages (from python-dateutil->csvw>=1.5.6->segments->phonemizer) (1.17.0)\r\n",
      "Requirement already satisfied: pyparsing<4,>=2.1.0 in /usr/local/lib/python3.11/dist-packages (from rdflib->csvw>=1.5.6->segments->phonemizer) (3.2.1)\r\n",
      "Requirement already satisfied: charset-normalizer<4,>=2 in /usr/local/lib/python3.11/dist-packages (from requests->csvw>=1.5.6->segments->phonemizer) (3.4.1)\r\n",
      "Requirement already satisfied: idna<4,>=2.5 in /usr/local/lib/python3.11/dist-packages (from requests->csvw>=1.5.6->segments->phonemizer) (3.10)\r\n",
      "Requirement already satisfied: urllib3<3,>=1.21.1 in /usr/local/lib/python3.11/dist-packages (from requests->csvw>=1.5.6->segments->phonemizer) (2.3.0)\r\n",
      "Requirement already satisfied: certifi>=2017.4.17 in /usr/local/lib/python3.11/dist-packages (from requests->csvw>=1.5.6->segments->phonemizer) (2025.1.31)\r\n",
      "\r\n",
      "\r\n",
      "\r\n",
      "The following additional packages will be installed:\r\n",
      "  espeak-ng-data libespeak-ng1 libpcaudio0 libsonic0\r\n",
      "The following NEW packages will be installed:\r\n",
      "  espeak-ng espeak-ng-data libespeak-ng1 libpcaudio0 libsonic0\r\n",
      "0 upgraded, 5 newly installed, 0 to remove and 122 not upgraded.\r\n",
      "Need to get 4,526 kB of archives.\r\n",
      "After this operation, 11.9 MB of additional disk space will be used.\r\n",
      "Get:1 http://archive.ubuntu.com/ubuntu jammy/main amd64 libpcaudio0 amd64 1.1-6build2 [8,956 B]\r\n",
      "Get:2 http://archive.ubuntu.com/ubuntu jammy/main amd64 libsonic0 amd64 0.2.0-11build1 [10.3 kB]\r\n",
      "Get:3 http://archive.ubuntu.com/ubuntu jammy-updates/main amd64 espeak-ng-data amd64 1.50+dfsg-10ubuntu0.1 [3,956 kB]\r\n",
      "Get:4 http://archive.ubuntu.com/ubuntu jammy-updates/main amd64 libespeak-ng1 amd64 1.50+dfsg-10ubuntu0.1 [207 kB]\r\n",
      "Get:5 http://archive.ubuntu.com/ubuntu jammy-updates/universe amd64 espeak-ng amd64 1.50+dfsg-10ubuntu0.1 [343 kB]\r\n",
      "Fetched 4,526 kB in 2s (2,174 kB/s)\r\n",
      "Selecting previously unselected package libpcaudio0:amd64.\r\n",
      "(Reading database ... 128691 files and directories currently installed.)\r\n",
      "Preparing to unpack .../libpcaudio0_1.1-6build2_amd64.deb ...\r\n",
      "Unpacking libpcaudio0:amd64 (1.1-6build2) ...\r\n",
      "Selecting previously unselected package libsonic0:amd64.\r\n",
      "Preparing to unpack .../libsonic0_0.2.0-11build1_amd64.deb ...\r\n",
      "Unpacking libsonic0:amd64 (0.2.0-11build1) ...\r\n",
      "Selecting previously unselected package espeak-ng-data:amd64.\r\n",
      "Preparing to unpack .../espeak-ng-data_1.50+dfsg-10ubuntu0.1_amd64.deb ...\r\n",
      "Unpacking espeak-ng-data:amd64 (1.50+dfsg-10ubuntu0.1) ...\r\n",
      "Selecting previously unselected package libespeak-ng1:amd64.\r\n",
      "Preparing to unpack .../libespeak-ng1_1.50+dfsg-10ubuntu0.1_amd64.deb ...\r\n",
      "Unpacking libespeak-ng1:amd64 (1.50+dfsg-10ubuntu0.1) ...\r\n",
      "Selecting previously unselected package espeak-ng.\r\n",
      "Preparing to unpack .../espeak-ng_1.50+dfsg-10ubuntu0.1_amd64.deb ...\r\n",
      "Unpacking espeak-ng (1.50+dfsg-10ubuntu0.1) ...\r\n",
      "Setting up libpcaudio0:amd64 (1.1-6build2) ...\r\n",
      "Setting up libsonic0:amd64 (0.2.0-11build1) ...\r\n",
      "Setting up espeak-ng-data:amd64 (1.50+dfsg-10ubuntu0.1) ...\r\n",
      "Setting up libespeak-ng1:amd64 (1.50+dfsg-10ubuntu0.1) ...\r\n",
      "Setting up espeak-ng (1.50+dfsg-10ubuntu0.1) ...\r\n",
      "Processing triggers for man-db (2.10.2-1) ...\r\n",
      "Processing triggers for libc-bin (2.35-0ubuntu3.8) ...\r\n",
      "/sbin/ldconfig.real: /usr/local/lib/libtcm.so.1 is not a symbolic link\r\n",
      "\r\n",
      "/sbin/ldconfig.real: /usr/local/lib/libumf.so.0 is not a symbolic link\r\n",
      "\r\n",
      "/sbin/ldconfig.real: /usr/local/lib/libtcm_debug.so.1 is not a symbolic link\r\n",
      "\r\n",
      "/sbin/ldconfig.real: /usr/local/lib/libhwloc.so.15 is not a symbolic link\r\n",
      "\r\n",
      "/sbin/ldconfig.real: /usr/local/lib/libur_loader.so.0 is not a symbolic link\r\n",
      "\r\n",
      "/sbin/ldconfig.real: /usr/local/lib/libur_adapter_level_zero.so.0 is not a symbolic link\r\n",
      "\r\n",
      "/sbin/ldconfig.real: /usr/local/lib/libur_adapter_opencl.so.0 is not a symbolic link\r\n",
      "\r\n",
      "/sbin/ldconfig.real: /usr/local/lib/libtbbbind_2_5.so.3 is not a symbolic link\r\n",
      "\r\n",
      "/sbin/ldconfig.real: /usr/local/lib/libtbbbind.so.3 is not a symbolic link\r\n",
      "\r\n",
      "/sbin/ldconfig.real: /usr/local/lib/libtbbbind_2_0.so.3 is not a symbolic link\r\n",
      "\r\n",
      "/sbin/ldconfig.real: /usr/local/lib/libtbb.so.12 is not a symbolic link\r\n",
      "\r\n",
      "/sbin/ldconfig.real: /usr/local/lib/libtbbmalloc_proxy.so.2 is not a symbolic link\r\n",
      "\r\n",
      "/sbin/ldconfig.real: /usr/local/lib/libtbbmalloc.so.2 is not a symbolic link\r\n",
      "\r\n"
     ]
    }
   ],
   "source": [
    "!pip install phonemizer morfessor\n",
    "!apt-get install espeak-ng\n"
   ]
  },
  {
   "cell_type": "markdown",
   "id": "3575653e",
   "metadata": {
    "papermill": {
     "duration": 0.006671,
     "end_time": "2025-04-21T16:42:37.994551",
     "exception": false,
     "start_time": "2025-04-21T16:42:37.987880",
     "status": "completed"
    },
    "tags": []
   },
   "source": [
    "# Combined Embedding Layer"
   ]
  },
  {
   "cell_type": "code",
   "execution_count": 4,
   "id": "5690c3c7",
   "metadata": {
    "execution": {
     "iopub.execute_input": "2025-04-21T16:42:38.009253Z",
     "iopub.status.busy": "2025-04-21T16:42:38.008997Z",
     "iopub.status.idle": "2025-04-21T16:43:03.072802Z",
     "shell.execute_reply": "2025-04-21T16:43:03.072248Z"
    },
    "papermill": {
     "duration": 25.072642,
     "end_time": "2025-04-21T16:43:03.074117",
     "exception": false,
     "start_time": "2025-04-21T16:42:38.001475",
     "status": "completed"
    },
    "tags": []
   },
   "outputs": [
    {
     "name": "stderr",
     "output_type": "stream",
     "text": [
      "2025-04-21 16:42:51.425292: E external/local_xla/xla/stream_executor/cuda/cuda_fft.cc:477] Unable to register cuFFT factory: Attempting to register factory for plugin cuFFT when one has already been registered\n",
      "WARNING: All log messages before absl::InitializeLog() is called are written to STDERR\n",
      "E0000 00:00:1745253771.580150      19 cuda_dnn.cc:8310] Unable to register cuDNN factory: Attempting to register factory for plugin cuDNN when one has already been registered\n",
      "E0000 00:00:1745253771.626293      19 cuda_blas.cc:1418] Unable to register cuBLAS factory: Attempting to register factory for plugin cuBLAS when one has already been registered\n"
     ]
    }
   ],
   "source": [
    "import torch\n",
    "import torch.nn as nn\n",
    "from transformers import BertModel\n",
    "\n",
    "# Example values (replace with actual numbers from your dataset)\n",
    "num_phonemes = 100  # Adjust based on how many unique phonemes you have\n",
    "num_morphs = 100    # Adjust based on your morph units\n",
    "num_labels = 3      # E.g., 3 classes: Standard Malay, Sabah dialect, Code-switch\n",
    "\n",
    "class CustomBertWithPhonemeMorph(nn.Module):\n",
    "    def __init__(self):\n",
    "        super().__init__()\n",
    "        self.bert = BertModel.from_pretrained(\"bert-base-multilingual-cased\")\n",
    "        self.phoneme_emb = nn.Embedding(num_phonemes, 768)\n",
    "        self.morph_emb = nn.Embedding(num_morphs, 768)\n",
    "        self.dropout = nn.Dropout(0.1)\n",
    "        self.classifier = nn.Linear(768, num_labels)\n",
    "\n",
    "    def forward(self, input_ids, phoneme_ids, morph_ids, attention_mask=None):\n",
    "        # [batch_size, seq_len, emb_dim]\n",
    "        phoneme_vec = self.phoneme_emb(phoneme_ids).mean(dim=2)  # Mean pooling over morph units\n",
    "        morph_vec = self.morph_emb(morph_ids).mean(dim=2)\n",
    "\n",
    "        # BERT output\n",
    "        outputs = self.bert(input_ids, attention_mask=attention_mask)\n",
    "        cls_emb = outputs.last_hidden_state[:, 0, :]  # [CLS] token representation\n",
    "\n",
    "        # Combine embeddings\n",
    "        combined = cls_emb + phoneme_vec[:, 0, :] + morph_vec[:, 0, :]  # Keep batch-first\n",
    "        logits = self.classifier(self.dropout(combined))\n",
    "        return logits\n"
   ]
  },
  {
   "cell_type": "code",
   "execution_count": null,
   "id": "0d5c55da",
   "metadata": {
    "papermill": {
     "duration": 0.006744,
     "end_time": "2025-04-21T16:43:03.088477",
     "exception": false,
     "start_time": "2025-04-21T16:43:03.081733",
     "status": "completed"
    },
    "tags": []
   },
   "outputs": [],
   "source": []
  },
  {
   "cell_type": "markdown",
   "id": "d3f1414e",
   "metadata": {
    "papermill": {
     "duration": 0.006666,
     "end_time": "2025-04-21T16:43:03.102057",
     "exception": false,
     "start_time": "2025-04-21T16:43:03.095391",
     "status": "completed"
    },
    "tags": []
   },
   "source": [
    "# -----TEST----------"
   ]
  },
  {
   "cell_type": "markdown",
   "id": "8ecc92b1",
   "metadata": {
    "papermill": {
     "duration": 0.006768,
     "end_time": "2025-04-21T16:43:03.115563",
     "exception": false,
     "start_time": "2025-04-21T16:43:03.108795",
     "status": "completed"
    },
    "tags": []
   },
   "source": [
    "# Step 1: Dummy Test Dataset"
   ]
  },
  {
   "cell_type": "code",
   "execution_count": 5,
   "id": "7abc5255",
   "metadata": {
    "execution": {
     "iopub.execute_input": "2025-04-21T16:43:03.130309Z",
     "iopub.status.busy": "2025-04-21T16:43:03.129832Z",
     "iopub.status.idle": "2025-04-21T16:43:03.133365Z",
     "shell.execute_reply": "2025-04-21T16:43:03.132876Z"
    },
    "papermill": {
     "duration": 0.012082,
     "end_time": "2025-04-21T16:43:03.134414",
     "exception": false,
     "start_time": "2025-04-21T16:43:03.122332",
     "status": "completed"
    },
    "tags": []
   },
   "outputs": [],
   "source": [
    "# Simulated text samples\n",
    "texts = [\n",
    "    \"Saya pergi ke pasar\",                          # Standard Malay\n",
    "    \"Aku mau pigi kedai bah\",                       # Sabah dialect\n",
    "    \"Saya want to buy makanan from kedai\"           # Code-switched Malay-English\n",
    "]\n",
    "\n",
    "# Fake labels for classification: 0 = Malay, 1 = Dialect, 2 = Code-Switch\n",
    "labels = [0, 1, 2]\n"
   ]
  },
  {
   "cell_type": "markdown",
   "id": "abf11d2a",
   "metadata": {
    "papermill": {
     "duration": 0.006623,
     "end_time": "2025-04-21T16:43:03.147843",
     "exception": false,
     "start_time": "2025-04-21T16:43:03.141220",
     "status": "completed"
    },
    "tags": []
   },
   "source": [
    "#  Step 2: Tokenizer"
   ]
  },
  {
   "cell_type": "code",
   "execution_count": 6,
   "id": "0711eeb0",
   "metadata": {
    "execution": {
     "iopub.execute_input": "2025-04-21T16:43:03.162259Z",
     "iopub.status.busy": "2025-04-21T16:43:03.162028Z",
     "iopub.status.idle": "2025-04-21T16:43:07.302340Z",
     "shell.execute_reply": "2025-04-21T16:43:07.301678Z"
    },
    "papermill": {
     "duration": 4.148882,
     "end_time": "2025-04-21T16:43:07.303617",
     "exception": false,
     "start_time": "2025-04-21T16:43:03.154735",
     "status": "completed"
    },
    "tags": []
   },
   "outputs": [
    {
     "data": {
      "application/vnd.jupyter.widget-view+json": {
       "model_id": "a32d44fad32d4a16bc341ca15024d3ed",
       "version_major": 2,
       "version_minor": 0
      },
      "text/plain": [
       "tokenizer_config.json:   0%|          | 0.00/49.0 [00:00<?, ?B/s]"
      ]
     },
     "metadata": {},
     "output_type": "display_data"
    },
    {
     "data": {
      "application/vnd.jupyter.widget-view+json": {
       "model_id": "ba7fb39bae2842008607cb68ac5dda66",
       "version_major": 2,
       "version_minor": 0
      },
      "text/plain": [
       "vocab.txt:   0%|          | 0.00/996k [00:00<?, ?B/s]"
      ]
     },
     "metadata": {},
     "output_type": "display_data"
    },
    {
     "data": {
      "application/vnd.jupyter.widget-view+json": {
       "model_id": "9c8fa24a0f6b4f96b50942640c125a03",
       "version_major": 2,
       "version_minor": 0
      },
      "text/plain": [
       "tokenizer.json:   0%|          | 0.00/1.96M [00:00<?, ?B/s]"
      ]
     },
     "metadata": {},
     "output_type": "display_data"
    },
    {
     "data": {
      "application/vnd.jupyter.widget-view+json": {
       "model_id": "7bf8f0412837436e8e990ccaf3aadeff",
       "version_major": 2,
       "version_minor": 0
      },
      "text/plain": [
       "config.json:   0%|          | 0.00/625 [00:00<?, ?B/s]"
      ]
     },
     "metadata": {},
     "output_type": "display_data"
    }
   ],
   "source": [
    "from transformers import BertTokenizer\n",
    "\n",
    "tokenizer = BertTokenizer.from_pretrained(\"bert-base-multilingual-cased\")\n",
    "inputs = tokenizer(texts, padding=True, truncation=True, return_tensors=\"pt\")\n"
   ]
  },
  {
   "cell_type": "markdown",
   "id": "cea4fa9c",
   "metadata": {
    "papermill": {
     "duration": 0.007147,
     "end_time": "2025-04-21T16:43:07.318514",
     "exception": false,
     "start_time": "2025-04-21T16:43:07.311367",
     "status": "completed"
    },
    "tags": []
   },
   "source": [
    "# Step 3: Fake Phoneme & Morph IDs"
   ]
  },
  {
   "cell_type": "code",
   "execution_count": 7,
   "id": "478665d0",
   "metadata": {
    "execution": {
     "iopub.execute_input": "2025-04-21T16:43:07.334085Z",
     "iopub.status.busy": "2025-04-21T16:43:07.333455Z",
     "iopub.status.idle": "2025-04-21T16:43:07.341193Z",
     "shell.execute_reply": "2025-04-21T16:43:07.340486Z"
    },
    "papermill": {
     "duration": 0.016659,
     "end_time": "2025-04-21T16:43:07.342272",
     "exception": false,
     "start_time": "2025-04-21T16:43:07.325613",
     "status": "completed"
    },
    "tags": []
   },
   "outputs": [],
   "source": [
    "import torch\n",
    "\n",
    "batch_size, seq_len = inputs['input_ids'].shape\n",
    "\n",
    "# Randomly simulate phoneme and morph IDs (normally derived from actual phoneme/morph analyzers)\n",
    "phoneme_ids = torch.randint(0, 100, (batch_size, seq_len, 5))  # 5 phoneme units per word\n",
    "morph_ids = torch.randint(0, 100, (batch_size, seq_len, 3))    # 3 morphemes per word\n"
   ]
  },
  {
   "cell_type": "markdown",
   "id": "8b460aaa",
   "metadata": {
    "papermill": {
     "duration": 0.00696,
     "end_time": "2025-04-21T16:43:07.356297",
     "exception": false,
     "start_time": "2025-04-21T16:43:07.349337",
     "status": "completed"
    },
    "tags": []
   },
   "source": [
    "# Step 4: Define Models"
   ]
  },
  {
   "cell_type": "code",
   "execution_count": 8,
   "id": "dd2128ba",
   "metadata": {
    "execution": {
     "iopub.execute_input": "2025-04-21T16:43:07.371447Z",
     "iopub.status.busy": "2025-04-21T16:43:07.371217Z",
     "iopub.status.idle": "2025-04-21T16:43:11.097838Z",
     "shell.execute_reply": "2025-04-21T16:43:11.097050Z"
    },
    "papermill": {
     "duration": 3.735908,
     "end_time": "2025-04-21T16:43:11.099314",
     "exception": false,
     "start_time": "2025-04-21T16:43:07.363406",
     "status": "completed"
    },
    "tags": []
   },
   "outputs": [
    {
     "name": "stderr",
     "output_type": "stream",
     "text": [
      "Xet Storage is enabled for this repo, but the 'hf_xet' package is not installed. Falling back to regular HTTP download. For better performance, install the package with: `pip install huggingface_hub[hf_xet]` or `pip install hf_xet`\n"
     ]
    },
    {
     "data": {
      "application/vnd.jupyter.widget-view+json": {
       "model_id": "d8168603e08348db89fa7f27b1bc3bd1",
       "version_major": 2,
       "version_minor": 0
      },
      "text/plain": [
       "model.safetensors:   0%|          | 0.00/714M [00:00<?, ?B/s]"
      ]
     },
     "metadata": {},
     "output_type": "display_data"
    }
   ],
   "source": [
    "class BaselineModel(nn.Module):\n",
    "    def __init__(self):\n",
    "        super().__init__()\n",
    "        self.bert = BertModel.from_pretrained(\"bert-base-multilingual-cased\")\n",
    "        self.classifier = nn.Linear(768, 3)\n",
    "\n",
    "    def forward(self, input_ids, attention_mask=None):\n",
    "        outputs = self.bert(input_ids, attention_mask=attention_mask)\n",
    "        cls_emb = outputs.last_hidden_state[:, 0, :]\n",
    "        return self.classifier(cls_emb)\n",
    "\n",
    "baseline_model = BaselineModel()\n",
    "custom_model = CustomBertWithPhonemeMorph()  # From earlier cell\n"
   ]
  },
  {
   "cell_type": "markdown",
   "id": "57f2b0ed",
   "metadata": {
    "papermill": {
     "duration": 0.007245,
     "end_time": "2025-04-21T16:43:11.114633",
     "exception": false,
     "start_time": "2025-04-21T16:43:11.107388",
     "status": "completed"
    },
    "tags": []
   },
   "source": [
    "# Step 5: Forward Pass & Comparison"
   ]
  },
  {
   "cell_type": "code",
   "execution_count": 9,
   "id": "0bac585c",
   "metadata": {
    "execution": {
     "iopub.execute_input": "2025-04-21T16:43:11.129964Z",
     "iopub.status.busy": "2025-04-21T16:43:11.129741Z",
     "iopub.status.idle": "2025-04-21T16:43:11.386588Z",
     "shell.execute_reply": "2025-04-21T16:43:11.385798Z"
    },
    "papermill": {
     "duration": 0.266254,
     "end_time": "2025-04-21T16:43:11.388057",
     "exception": false,
     "start_time": "2025-04-21T16:43:11.121803",
     "status": "completed"
    },
    "tags": []
   },
   "outputs": [],
   "source": [
    "# Forward pass with baseline\n",
    "with torch.no_grad():\n",
    "    baseline_logits = baseline_model(inputs['input_ids'], attention_mask=inputs['attention_mask'])\n",
    "\n",
    "# Forward pass with phoneme+morph model\n",
    "with torch.no_grad():\n",
    "    advanced_logits = custom_model(\n",
    "        input_ids=inputs['input_ids'],\n",
    "        attention_mask=inputs['attention_mask'],\n",
    "        phoneme_ids=phoneme_ids,\n",
    "        morph_ids=morph_ids\n",
    "    )\n"
   ]
  },
  {
   "cell_type": "markdown",
   "id": "21217a29",
   "metadata": {
    "papermill": {
     "duration": 0.007629,
     "end_time": "2025-04-21T16:43:11.405620",
     "exception": false,
     "start_time": "2025-04-21T16:43:11.397991",
     "status": "completed"
    },
    "tags": []
   },
   "source": [
    "# Step 6: Output Predictions"
   ]
  },
  {
   "cell_type": "code",
   "execution_count": 10,
   "id": "c916669b",
   "metadata": {
    "execution": {
     "iopub.execute_input": "2025-04-21T16:43:11.421356Z",
     "iopub.status.busy": "2025-04-21T16:43:11.421152Z",
     "iopub.status.idle": "2025-04-21T16:43:11.426912Z",
     "shell.execute_reply": "2025-04-21T16:43:11.426121Z"
    },
    "papermill": {
     "duration": 0.015276,
     "end_time": "2025-04-21T16:43:11.428088",
     "exception": false,
     "start_time": "2025-04-21T16:43:11.412812",
     "status": "completed"
    },
    "tags": []
   },
   "outputs": [
    {
     "name": "stdout",
     "output_type": "stream",
     "text": [
      "Ground Truth: [0, 1, 2]\n",
      "Baseline Predictions: [2, 2, 2]\n",
      "Phoneme+Morph Predictions: [2, 2, 2]\n"
     ]
    }
   ],
   "source": [
    "import torch.nn.functional as F\n",
    "\n",
    "baseline_preds = torch.argmax(F.softmax(baseline_logits, dim=1), dim=1)\n",
    "advanced_preds = torch.argmax(F.softmax(advanced_logits, dim=1), dim=1)\n",
    "\n",
    "print(\"Ground Truth:\", labels)\n",
    "print(\"Baseline Predictions:\", baseline_preds.tolist())\n",
    "print(\"Phoneme+Morph Predictions:\", advanced_preds.tolist())\n"
   ]
  },
  {
   "cell_type": "code",
   "execution_count": null,
   "id": "4cf2fb23",
   "metadata": {
    "papermill": {
     "duration": 0.00752,
     "end_time": "2025-04-21T16:43:11.443423",
     "exception": false,
     "start_time": "2025-04-21T16:43:11.435903",
     "status": "completed"
    },
    "tags": []
   },
   "outputs": [],
   "source": []
  },
  {
   "cell_type": "markdown",
   "id": "172b9a74",
   "metadata": {
    "papermill": {
     "duration": 0.049965,
     "end_time": "2025-04-21T16:43:11.500636",
     "exception": false,
     "start_time": "2025-04-21T16:43:11.450671",
     "status": "completed"
    },
    "tags": []
   },
   "source": [
    "# Test 2"
   ]
  },
  {
   "cell_type": "code",
   "execution_count": 11,
   "id": "f29c3ef3",
   "metadata": {
    "execution": {
     "iopub.execute_input": "2025-04-21T16:43:11.518414Z",
     "iopub.status.busy": "2025-04-21T16:43:11.518161Z",
     "iopub.status.idle": "2025-04-21T16:43:11.521980Z",
     "shell.execute_reply": "2025-04-21T16:43:11.521411Z"
    },
    "papermill": {
     "duration": 0.013158,
     "end_time": "2025-04-21T16:43:11.523024",
     "exception": false,
     "start_time": "2025-04-21T16:43:11.509866",
     "status": "completed"
    },
    "tags": []
   },
   "outputs": [],
   "source": [
    "import torch\n",
    "import torch.nn as nn\n",
    "from transformers import BertModel, BertTokenizer\n",
    "from sklearn.metrics import classification_report\n",
    "import numpy as np\n"
   ]
  },
  {
   "cell_type": "code",
   "execution_count": 12,
   "id": "416a431f",
   "metadata": {
    "execution": {
     "iopub.execute_input": "2025-04-21T16:43:11.538613Z",
     "iopub.status.busy": "2025-04-21T16:43:11.538430Z",
     "iopub.status.idle": "2025-04-21T16:43:11.541575Z",
     "shell.execute_reply": "2025-04-21T16:43:11.541019Z"
    },
    "papermill": {
     "duration": 0.012205,
     "end_time": "2025-04-21T16:43:11.542586",
     "exception": false,
     "start_time": "2025-04-21T16:43:11.530381",
     "status": "completed"
    },
    "tags": []
   },
   "outputs": [],
   "source": [
    "num_phonemes = 50\n",
    "num_morphs = 100\n",
    "num_labels = 2  # Changed from 3 → now only Kelantanese and Code-switch\n"
   ]
  },
  {
   "cell_type": "code",
   "execution_count": 13,
   "id": "72f59f78",
   "metadata": {
    "execution": {
     "iopub.execute_input": "2025-04-21T16:43:11.558883Z",
     "iopub.status.busy": "2025-04-21T16:43:11.558709Z",
     "iopub.status.idle": "2025-04-21T16:43:11.564036Z",
     "shell.execute_reply": "2025-04-21T16:43:11.563403Z"
    },
    "papermill": {
     "duration": 0.014482,
     "end_time": "2025-04-21T16:43:11.565102",
     "exception": false,
     "start_time": "2025-04-21T16:43:11.550620",
     "status": "completed"
    },
    "tags": []
   },
   "outputs": [],
   "source": [
    "class CustomBertWithPhonemeMorph(nn.Module):\n",
    "    def __init__(self):\n",
    "        super().__init__()\n",
    "        self.bert = BertModel.from_pretrained(\"bert-base-multilingual-cased\")\n",
    "        self.phoneme_emb = nn.Embedding(num_phonemes, 768)\n",
    "        self.morph_emb = nn.Embedding(num_morphs, 768)\n",
    "        self.dropout = nn.Dropout(0.1)\n",
    "        self.classifier = nn.Linear(768, num_labels)  # ✅ changed to 2\n",
    "\n",
    "    def forward(self, input_ids, phoneme_ids, morph_ids, attention_mask=None):\n",
    "        phoneme_vec = self.phoneme_emb(phoneme_ids).mean(dim=2)\n",
    "        morph_vec = self.morph_emb(morph_ids).mean(dim=2)\n",
    "        outputs = self.bert(input_ids, attention_mask=attention_mask)\n",
    "        cls_emb = outputs.last_hidden_state[:, 0, :]\n",
    "        combined = cls_emb + phoneme_vec[:, 0, :] + morph_vec[:, 0, :]\n",
    "        logits = self.classifier(self.dropout(combined))\n",
    "        return logits\n"
   ]
  },
  {
   "cell_type": "code",
   "execution_count": 14,
   "id": "0174fbf5",
   "metadata": {
    "execution": {
     "iopub.execute_input": "2025-04-21T16:43:11.582587Z",
     "iopub.status.busy": "2025-04-21T16:43:11.582393Z",
     "iopub.status.idle": "2025-04-21T16:43:12.058618Z",
     "shell.execute_reply": "2025-04-21T16:43:12.058025Z"
    },
    "papermill": {
     "duration": 0.485932,
     "end_time": "2025-04-21T16:43:12.059969",
     "exception": false,
     "start_time": "2025-04-21T16:43:11.574037",
     "status": "completed"
    },
    "tags": []
   },
   "outputs": [],
   "source": [
    "tokenizer = BertTokenizer.from_pretrained(\"bert-base-multilingual-cased\")\n",
    "\n",
    "texts = [\n",
    "    \"Kawe nok gi kedai jap\",              # Kelantanese\n",
    "    \"Demo makan gapo pagi tadi?\",\n",
    "    \"Ore tu dok gi kerja lagi\",\n",
    "    \"Mu buat gapo situ?\",\n",
    "    \"Bakpo demo lambat sangat?\",\n",
    "    \"I tengah buat kerja rumah sekarang\",      # Code-switch\n",
    "    \"You nak makan sini or tapau?\",\n",
    "    \"Boss suruh I settle that document cepat\",\n",
    "    \"Dia tengah belajar untuk test tomorrow\",\n",
    "    \"You boleh start dulu, I datang later\"\n",
    "]\n",
    "\n",
    "original_labels = [1, 1, 1, 1, 1, 2, 2, 2, 2, 2]\n",
    "\n",
    "# ✅ Normalize labels: 1 → 0 (Kelantanese), 2 → 1 (Code-switch)\n",
    "labels = [0 if l == 1 else 1 for l in original_labels]\n",
    "\n",
    "# Tokenize input text\n",
    "encodings = tokenizer(texts, padding=True, truncation=True, return_tensors=\"pt\")\n",
    "input_ids = encodings['input_ids']\n",
    "attention_mask = encodings['attention_mask']\n",
    "batch_size, seq_len = input_ids.shape\n",
    "\n",
    "# Simulated phoneme and morph IDs\n",
    "phoneme_ids = torch.randint(0, num_phonemes, (batch_size, seq_len, 5))\n",
    "morph_ids = torch.randint(0, num_morphs, (batch_size, seq_len, 5))\n"
   ]
  },
  {
   "cell_type": "code",
   "execution_count": 15,
   "id": "8a04e4ac",
   "metadata": {
    "execution": {
     "iopub.execute_input": "2025-04-21T16:43:12.076510Z",
     "iopub.status.busy": "2025-04-21T16:43:12.076271Z",
     "iopub.status.idle": "2025-04-21T16:43:12.752321Z",
     "shell.execute_reply": "2025-04-21T16:43:12.751651Z"
    },
    "papermill": {
     "duration": 0.68579,
     "end_time": "2025-04-21T16:43:12.753736",
     "exception": false,
     "start_time": "2025-04-21T16:43:12.067946",
     "status": "completed"
    },
    "tags": []
   },
   "outputs": [],
   "source": [
    "model = CustomBertWithPhonemeMorph()\n",
    "model.eval()\n",
    "\n",
    "with torch.no_grad():\n",
    "    logits = model(input_ids, phoneme_ids, morph_ids, attention_mask=attention_mask)\n",
    "    predictions = torch.argmax(logits, dim=1)\n"
   ]
  },
  {
   "cell_type": "code",
   "execution_count": 16,
   "id": "596bfa56",
   "metadata": {
    "execution": {
     "iopub.execute_input": "2025-04-21T16:43:12.770722Z",
     "iopub.status.busy": "2025-04-21T16:43:12.769958Z",
     "iopub.status.idle": "2025-04-21T16:43:12.782898Z",
     "shell.execute_reply": "2025-04-21T16:43:12.781963Z"
    },
    "papermill": {
     "duration": 0.022162,
     "end_time": "2025-04-21T16:43:12.783858",
     "exception": false,
     "start_time": "2025-04-21T16:43:12.761696",
     "status": "completed"
    },
    "tags": []
   },
   "outputs": [
    {
     "name": "stdout",
     "output_type": "stream",
     "text": [
      "Predictions: [1, 1, 1, 1, 1, 0, 0, 1, 0, 0]\n",
      "Ground Truth: [0, 0, 0, 0, 0, 1, 1, 1, 1, 1]\n",
      "\n",
      "Classification Report:\n",
      "              precision    recall  f1-score   support\n",
      "\n",
      " Kelantanese       0.00      0.00      0.00         5\n",
      " Code-switch       0.17      0.20      0.18         5\n",
      "\n",
      "    accuracy                           0.10        10\n",
      "   macro avg       0.08      0.10      0.09        10\n",
      "weighted avg       0.08      0.10      0.09        10\n",
      "\n"
     ]
    }
   ],
   "source": [
    "print(\"Predictions:\", predictions.tolist())\n",
    "print(\"Ground Truth:\", labels)\n",
    "\n",
    "print(\"\\nClassification Report:\")\n",
    "print(classification_report(labels, predictions.tolist(), target_names=[\"Kelantanese\", \"Code-switch\"]))\n"
   ]
  },
  {
   "cell_type": "code",
   "execution_count": 17,
   "id": "634b144d",
   "metadata": {
    "execution": {
     "iopub.execute_input": "2025-04-21T16:43:12.799601Z",
     "iopub.status.busy": "2025-04-21T16:43:12.799398Z",
     "iopub.status.idle": "2025-04-21T16:43:13.655156Z",
     "shell.execute_reply": "2025-04-21T16:43:13.654242Z"
    },
    "papermill": {
     "duration": 0.865146,
     "end_time": "2025-04-21T16:43:13.656515",
     "exception": false,
     "start_time": "2025-04-21T16:43:12.791369",
     "status": "completed"
    },
    "tags": []
   },
   "outputs": [
    {
     "name": "stdout",
     "output_type": "stream",
     "text": [
      "\n",
      "Baseline Predictions: [1, 1, 1, 0, 1, 1, 0, 1, 1, 0]\n",
      "              precision    recall  f1-score   support\n",
      "\n",
      " Kelantanese       0.33      0.20      0.25         5\n",
      " Code-switch       0.43      0.60      0.50         5\n",
      "\n",
      "    accuracy                           0.40        10\n",
      "   macro avg       0.38      0.40      0.38        10\n",
      "weighted avg       0.38      0.40      0.38        10\n",
      "\n"
     ]
    }
   ],
   "source": [
    "class BaselineBertClassifier(nn.Module):\n",
    "    def __init__(self):\n",
    "        super().__init__()\n",
    "        self.bert = BertModel.from_pretrained(\"bert-base-multilingual-cased\")\n",
    "        self.dropout = nn.Dropout(0.1)\n",
    "        self.classifier = nn.Linear(768, num_labels)\n",
    "\n",
    "    def forward(self, input_ids, attention_mask=None):\n",
    "        outputs = self.bert(input_ids, attention_mask=attention_mask)\n",
    "        cls_emb = outputs.last_hidden_state[:, 0, :]\n",
    "        logits = self.classifier(self.dropout(cls_emb))\n",
    "        return logits\n",
    "\n",
    "# Run baseline\n",
    "baseline_model = BaselineBertClassifier()\n",
    "baseline_model.eval()\n",
    "\n",
    "with torch.no_grad():\n",
    "    baseline_logits = baseline_model(input_ids, attention_mask=attention_mask)\n",
    "    baseline_preds = torch.argmax(baseline_logits, dim=1)\n",
    "\n",
    "print(\"\\nBaseline Predictions:\", baseline_preds.tolist())\n",
    "print(classification_report(labels, baseline_preds.tolist(), target_names=[\"Kelantanese\", \"Code-switch\"]))\n"
   ]
  },
  {
   "cell_type": "code",
   "execution_count": null,
   "id": "2a17a91f",
   "metadata": {
    "papermill": {
     "duration": 0.007598,
     "end_time": "2025-04-21T16:43:13.673759",
     "exception": false,
     "start_time": "2025-04-21T16:43:13.666161",
     "status": "completed"
    },
    "tags": []
   },
   "outputs": [],
   "source": []
  }
 ],
 "metadata": {
  "kaggle": {
   "accelerator": "nvidiaTeslaT4",
   "dataSources": [],
   "dockerImageVersionId": 31011,
   "isGpuEnabled": true,
   "isInternetEnabled": true,
   "language": "python",
   "sourceType": "notebook"
  },
  "kernelspec": {
   "display_name": "Python 3",
   "language": "python",
   "name": "python3"
  },
  "language_info": {
   "codemirror_mode": {
    "name": "ipython",
    "version": 3
   },
   "file_extension": ".py",
   "mimetype": "text/x-python",
   "name": "python",
   "nbconvert_exporter": "python",
   "pygments_lexer": "ipython3",
   "version": "3.11.11"
  },
  "papermill": {
   "default_parameters": {},
   "duration": 64.143217,
   "end_time": "2025-04-21T16:43:17.300838",
   "environment_variables": {},
   "exception": null,
   "input_path": "__notebook__.ipynb",
   "output_path": "__notebook__.ipynb",
   "parameters": {},
   "start_time": "2025-04-21T16:42:13.157621",
   "version": "2.6.0"
  },
  "widgets": {
   "application/vnd.jupyter.widget-state+json": {
    "state": {
     "054a47e7a9494d1db4ad4a89f86eaaf3": {
      "model_module": "@jupyter-widgets/controls",
      "model_module_version": "2.0.0",
      "model_name": "HTMLModel",
      "state": {
       "_dom_classes": [],
       "_model_module": "@jupyter-widgets/controls",
       "_model_module_version": "2.0.0",
       "_model_name": "HTMLModel",
       "_view_count": null,
       "_view_module": "@jupyter-widgets/controls",
       "_view_module_version": "2.0.0",
       "_view_name": "HTMLView",
       "description": "",
       "description_allow_html": false,
       "layout": "IPY_MODEL_2bdc3c18863643b8b49288f58e182ba8",
       "placeholder": "​",
       "style": "IPY_MODEL_f64b40cdd178471e9730b8ce8b80e5bf",
       "tabbable": null,
       "tooltip": null,
       "value": "tokenizer_config.json: 100%"
      }
     },
     "05857d05e7464951ad32979b0479d11d": {
      "model_module": "@jupyter-widgets/controls",
      "model_module_version": "2.0.0",
      "model_name": "HTMLStyleModel",
      "state": {
       "_model_module": "@jupyter-widgets/controls",
       "_model_module_version": "2.0.0",
       "_model_name": "HTMLStyleModel",
       "_view_count": null,
       "_view_module": "@jupyter-widgets/base",
       "_view_module_version": "2.0.0",
       "_view_name": "StyleView",
       "background": null,
       "description_width": "",
       "font_size": null,
       "text_color": null
      }
     },
     "0b16a84e6c294ed6b49199bff1fe1cc5": {
      "model_module": "@jupyter-widgets/controls",
      "model_module_version": "2.0.0",
      "model_name": "HTMLStyleModel",
      "state": {
       "_model_module": "@jupyter-widgets/controls",
       "_model_module_version": "2.0.0",
       "_model_name": "HTMLStyleModel",
       "_view_count": null,
       "_view_module": "@jupyter-widgets/base",
       "_view_module_version": "2.0.0",
       "_view_name": "StyleView",
       "background": null,
       "description_width": "",
       "font_size": null,
       "text_color": null
      }
     },
     "0dce2afc778b42499d2c2c5c71f434bd": {
      "model_module": "@jupyter-widgets/controls",
      "model_module_version": "2.0.0",
      "model_name": "HTMLStyleModel",
      "state": {
       "_model_module": "@jupyter-widgets/controls",
       "_model_module_version": "2.0.0",
       "_model_name": "HTMLStyleModel",
       "_view_count": null,
       "_view_module": "@jupyter-widgets/base",
       "_view_module_version": "2.0.0",
       "_view_name": "StyleView",
       "background": null,
       "description_width": "",
       "font_size": null,
       "text_color": null
      }
     },
     "0e44612fdf354eb9a33641cf8a2ce060": {
      "model_module": "@jupyter-widgets/base",
      "model_module_version": "2.0.0",
      "model_name": "LayoutModel",
      "state": {
       "_model_module": "@jupyter-widgets/base",
       "_model_module_version": "2.0.0",
       "_model_name": "LayoutModel",
       "_view_count": null,
       "_view_module": "@jupyter-widgets/base",
       "_view_module_version": "2.0.0",
       "_view_name": "LayoutView",
       "align_content": null,
       "align_items": null,
       "align_self": null,
       "border_bottom": null,
       "border_left": null,
       "border_right": null,
       "border_top": null,
       "bottom": null,
       "display": null,
       "flex": null,
       "flex_flow": null,
       "grid_area": null,
       "grid_auto_columns": null,
       "grid_auto_flow": null,
       "grid_auto_rows": null,
       "grid_column": null,
       "grid_gap": null,
       "grid_row": null,
       "grid_template_areas": null,
       "grid_template_columns": null,
       "grid_template_rows": null,
       "height": null,
       "justify_content": null,
       "justify_items": null,
       "left": null,
       "margin": null,
       "max_height": null,
       "max_width": null,
       "min_height": null,
       "min_width": null,
       "object_fit": null,
       "object_position": null,
       "order": null,
       "overflow": null,
       "padding": null,
       "right": null,
       "top": null,
       "visibility": null,
       "width": null
      }
     },
     "299ceeaf33a04943b749677527adac41": {
      "model_module": "@jupyter-widgets/base",
      "model_module_version": "2.0.0",
      "model_name": "LayoutModel",
      "state": {
       "_model_module": "@jupyter-widgets/base",
       "_model_module_version": "2.0.0",
       "_model_name": "LayoutModel",
       "_view_count": null,
       "_view_module": "@jupyter-widgets/base",
       "_view_module_version": "2.0.0",
       "_view_name": "LayoutView",
       "align_content": null,
       "align_items": null,
       "align_self": null,
       "border_bottom": null,
       "border_left": null,
       "border_right": null,
       "border_top": null,
       "bottom": null,
       "display": null,
       "flex": null,
       "flex_flow": null,
       "grid_area": null,
       "grid_auto_columns": null,
       "grid_auto_flow": null,
       "grid_auto_rows": null,
       "grid_column": null,
       "grid_gap": null,
       "grid_row": null,
       "grid_template_areas": null,
       "grid_template_columns": null,
       "grid_template_rows": null,
       "height": null,
       "justify_content": null,
       "justify_items": null,
       "left": null,
       "margin": null,
       "max_height": null,
       "max_width": null,
       "min_height": null,
       "min_width": null,
       "object_fit": null,
       "object_position": null,
       "order": null,
       "overflow": null,
       "padding": null,
       "right": null,
       "top": null,
       "visibility": null,
       "width": null
      }
     },
     "2bdc3c18863643b8b49288f58e182ba8": {
      "model_module": "@jupyter-widgets/base",
      "model_module_version": "2.0.0",
      "model_name": "LayoutModel",
      "state": {
       "_model_module": "@jupyter-widgets/base",
       "_model_module_version": "2.0.0",
       "_model_name": "LayoutModel",
       "_view_count": null,
       "_view_module": "@jupyter-widgets/base",
       "_view_module_version": "2.0.0",
       "_view_name": "LayoutView",
       "align_content": null,
       "align_items": null,
       "align_self": null,
       "border_bottom": null,
       "border_left": null,
       "border_right": null,
       "border_top": null,
       "bottom": null,
       "display": null,
       "flex": null,
       "flex_flow": null,
       "grid_area": null,
       "grid_auto_columns": null,
       "grid_auto_flow": null,
       "grid_auto_rows": null,
       "grid_column": null,
       "grid_gap": null,
       "grid_row": null,
       "grid_template_areas": null,
       "grid_template_columns": null,
       "grid_template_rows": null,
       "height": null,
       "justify_content": null,
       "justify_items": null,
       "left": null,
       "margin": null,
       "max_height": null,
       "max_width": null,
       "min_height": null,
       "min_width": null,
       "object_fit": null,
       "object_position": null,
       "order": null,
       "overflow": null,
       "padding": null,
       "right": null,
       "top": null,
       "visibility": null,
       "width": null
      }
     },
     "40b3a2aafc7a436eb747e56acd095e08": {
      "model_module": "@jupyter-widgets/base",
      "model_module_version": "2.0.0",
      "model_name": "LayoutModel",
      "state": {
       "_model_module": "@jupyter-widgets/base",
       "_model_module_version": "2.0.0",
       "_model_name": "LayoutModel",
       "_view_count": null,
       "_view_module": "@jupyter-widgets/base",
       "_view_module_version": "2.0.0",
       "_view_name": "LayoutView",
       "align_content": null,
       "align_items": null,
       "align_self": null,
       "border_bottom": null,
       "border_left": null,
       "border_right": null,
       "border_top": null,
       "bottom": null,
       "display": null,
       "flex": null,
       "flex_flow": null,
       "grid_area": null,
       "grid_auto_columns": null,
       "grid_auto_flow": null,
       "grid_auto_rows": null,
       "grid_column": null,
       "grid_gap": null,
       "grid_row": null,
       "grid_template_areas": null,
       "grid_template_columns": null,
       "grid_template_rows": null,
       "height": null,
       "justify_content": null,
       "justify_items": null,
       "left": null,
       "margin": null,
       "max_height": null,
       "max_width": null,
       "min_height": null,
       "min_width": null,
       "object_fit": null,
       "object_position": null,
       "order": null,
       "overflow": null,
       "padding": null,
       "right": null,
       "top": null,
       "visibility": null,
       "width": null
      }
     },
     "49bafff543b947f0818fe5c197b6db79": {
      "model_module": "@jupyter-widgets/controls",
      "model_module_version": "2.0.0",
      "model_name": "ProgressStyleModel",
      "state": {
       "_model_module": "@jupyter-widgets/controls",
       "_model_module_version": "2.0.0",
       "_model_name": "ProgressStyleModel",
       "_view_count": null,
       "_view_module": "@jupyter-widgets/base",
       "_view_module_version": "2.0.0",
       "_view_name": "StyleView",
       "bar_color": null,
       "description_width": ""
      }
     },
     "4f0532c8898841498fabfd3613393a1e": {
      "model_module": "@jupyter-widgets/controls",
      "model_module_version": "2.0.0",
      "model_name": "HTMLModel",
      "state": {
       "_dom_classes": [],
       "_model_module": "@jupyter-widgets/controls",
       "_model_module_version": "2.0.0",
       "_model_name": "HTMLModel",
       "_view_count": null,
       "_view_module": "@jupyter-widgets/controls",
       "_view_module_version": "2.0.0",
       "_view_name": "HTMLView",
       "description": "",
       "description_allow_html": false,
       "layout": "IPY_MODEL_5852498bb2fa4ed8a3ef4c8caf5e0802",
       "placeholder": "​",
       "style": "IPY_MODEL_0b16a84e6c294ed6b49199bff1fe1cc5",
       "tabbable": null,
       "tooltip": null,
       "value": "model.safetensors: 100%"
      }
     },
     "4fe6b293f27948ef918b52d51b56ee1c": {
      "model_module": "@jupyter-widgets/controls",
      "model_module_version": "2.0.0",
      "model_name": "ProgressStyleModel",
      "state": {
       "_model_module": "@jupyter-widgets/controls",
       "_model_module_version": "2.0.0",
       "_model_name": "ProgressStyleModel",
       "_view_count": null,
       "_view_module": "@jupyter-widgets/base",
       "_view_module_version": "2.0.0",
       "_view_name": "StyleView",
       "bar_color": null,
       "description_width": ""
      }
     },
     "5852498bb2fa4ed8a3ef4c8caf5e0802": {
      "model_module": "@jupyter-widgets/base",
      "model_module_version": "2.0.0",
      "model_name": "LayoutModel",
      "state": {
       "_model_module": "@jupyter-widgets/base",
       "_model_module_version": "2.0.0",
       "_model_name": "LayoutModel",
       "_view_count": null,
       "_view_module": "@jupyter-widgets/base",
       "_view_module_version": "2.0.0",
       "_view_name": "LayoutView",
       "align_content": null,
       "align_items": null,
       "align_self": null,
       "border_bottom": null,
       "border_left": null,
       "border_right": null,
       "border_top": null,
       "bottom": null,
       "display": null,
       "flex": null,
       "flex_flow": null,
       "grid_area": null,
       "grid_auto_columns": null,
       "grid_auto_flow": null,
       "grid_auto_rows": null,
       "grid_column": null,
       "grid_gap": null,
       "grid_row": null,
       "grid_template_areas": null,
       "grid_template_columns": null,
       "grid_template_rows": null,
       "height": null,
       "justify_content": null,
       "justify_items": null,
       "left": null,
       "margin": null,
       "max_height": null,
       "max_width": null,
       "min_height": null,
       "min_width": null,
       "object_fit": null,
       "object_position": null,
       "order": null,
       "overflow": null,
       "padding": null,
       "right": null,
       "top": null,
       "visibility": null,
       "width": null
      }
     },
     "5cbb1bbab4414e4ebc32f422eb41c3aa": {
      "model_module": "@jupyter-widgets/controls",
      "model_module_version": "2.0.0",
      "model_name": "FloatProgressModel",
      "state": {
       "_dom_classes": [],
       "_model_module": "@jupyter-widgets/controls",
       "_model_module_version": "2.0.0",
       "_model_name": "FloatProgressModel",
       "_view_count": null,
       "_view_module": "@jupyter-widgets/controls",
       "_view_module_version": "2.0.0",
       "_view_name": "ProgressView",
       "bar_style": "success",
       "description": "",
       "description_allow_html": false,
       "layout": "IPY_MODEL_a7458517fa32439dbfb8725a7d523246",
       "max": 49.0,
       "min": 0.0,
       "orientation": "horizontal",
       "style": "IPY_MODEL_b9155e6d98624d6a84a49bf7025e90ca",
       "tabbable": null,
       "tooltip": null,
       "value": 49.0
      }
     },
     "67b50d4a528f4ceda8bc3360c4254fb9": {
      "model_module": "@jupyter-widgets/controls",
      "model_module_version": "2.0.0",
      "model_name": "HTMLModel",
      "state": {
       "_dom_classes": [],
       "_model_module": "@jupyter-widgets/controls",
       "_model_module_version": "2.0.0",
       "_model_name": "HTMLModel",
       "_view_count": null,
       "_view_module": "@jupyter-widgets/controls",
       "_view_module_version": "2.0.0",
       "_view_name": "HTMLView",
       "description": "",
       "description_allow_html": false,
       "layout": "IPY_MODEL_e971326d9003488c81e9f77a450ff428",
       "placeholder": "​",
       "style": "IPY_MODEL_05857d05e7464951ad32979b0479d11d",
       "tabbable": null,
       "tooltip": null,
       "value": " 1.96M/1.96M [00:00&lt;00:00, 3.66MB/s]"
      }
     },
     "688e392d805c4eb6906bb9a6366a4231": {
      "model_module": "@jupyter-widgets/controls",
      "model_module_version": "2.0.0",
      "model_name": "HTMLStyleModel",
      "state": {
       "_model_module": "@jupyter-widgets/controls",
       "_model_module_version": "2.0.0",
       "_model_name": "HTMLStyleModel",
       "_view_count": null,
       "_view_module": "@jupyter-widgets/base",
       "_view_module_version": "2.0.0",
       "_view_name": "StyleView",
       "background": null,
       "description_width": "",
       "font_size": null,
       "text_color": null
      }
     },
     "7018eaaf37a642fbb2dc282e10b1fe32": {
      "model_module": "@jupyter-widgets/controls",
      "model_module_version": "2.0.0",
      "model_name": "HTMLModel",
      "state": {
       "_dom_classes": [],
       "_model_module": "@jupyter-widgets/controls",
       "_model_module_version": "2.0.0",
       "_model_name": "HTMLModel",
       "_view_count": null,
       "_view_module": "@jupyter-widgets/controls",
       "_view_module_version": "2.0.0",
       "_view_name": "HTMLView",
       "description": "",
       "description_allow_html": false,
       "layout": "IPY_MODEL_e84a1fcfd18a4984a7d0c815e72e5069",
       "placeholder": "​",
       "style": "IPY_MODEL_b55d6813a7e14345a8baec29a1d2bef5",
       "tabbable": null,
       "tooltip": null,
       "value": "vocab.txt: 100%"
      }
     },
     "70a0945156c145a2a0e1894966161163": {
      "model_module": "@jupyter-widgets/base",
      "model_module_version": "2.0.0",
      "model_name": "LayoutModel",
      "state": {
       "_model_module": "@jupyter-widgets/base",
       "_model_module_version": "2.0.0",
       "_model_name": "LayoutModel",
       "_view_count": null,
       "_view_module": "@jupyter-widgets/base",
       "_view_module_version": "2.0.0",
       "_view_name": "LayoutView",
       "align_content": null,
       "align_items": null,
       "align_self": null,
       "border_bottom": null,
       "border_left": null,
       "border_right": null,
       "border_top": null,
       "bottom": null,
       "display": null,
       "flex": null,
       "flex_flow": null,
       "grid_area": null,
       "grid_auto_columns": null,
       "grid_auto_flow": null,
       "grid_auto_rows": null,
       "grid_column": null,
       "grid_gap": null,
       "grid_row": null,
       "grid_template_areas": null,
       "grid_template_columns": null,
       "grid_template_rows": null,
       "height": null,
       "justify_content": null,
       "justify_items": null,
       "left": null,
       "margin": null,
       "max_height": null,
       "max_width": null,
       "min_height": null,
       "min_width": null,
       "object_fit": null,
       "object_position": null,
       "order": null,
       "overflow": null,
       "padding": null,
       "right": null,
       "top": null,
       "visibility": null,
       "width": null
      }
     },
     "7a59a779d06f4ec4940c105faee5a962": {
      "model_module": "@jupyter-widgets/base",
      "model_module_version": "2.0.0",
      "model_name": "LayoutModel",
      "state": {
       "_model_module": "@jupyter-widgets/base",
       "_model_module_version": "2.0.0",
       "_model_name": "LayoutModel",
       "_view_count": null,
       "_view_module": "@jupyter-widgets/base",
       "_view_module_version": "2.0.0",
       "_view_name": "LayoutView",
       "align_content": null,
       "align_items": null,
       "align_self": null,
       "border_bottom": null,
       "border_left": null,
       "border_right": null,
       "border_top": null,
       "bottom": null,
       "display": null,
       "flex": null,
       "flex_flow": null,
       "grid_area": null,
       "grid_auto_columns": null,
       "grid_auto_flow": null,
       "grid_auto_rows": null,
       "grid_column": null,
       "grid_gap": null,
       "grid_row": null,
       "grid_template_areas": null,
       "grid_template_columns": null,
       "grid_template_rows": null,
       "height": null,
       "justify_content": null,
       "justify_items": null,
       "left": null,
       "margin": null,
       "max_height": null,
       "max_width": null,
       "min_height": null,
       "min_width": null,
       "object_fit": null,
       "object_position": null,
       "order": null,
       "overflow": null,
       "padding": null,
       "right": null,
       "top": null,
       "visibility": null,
       "width": null
      }
     },
     "7bf8f0412837436e8e990ccaf3aadeff": {
      "model_module": "@jupyter-widgets/controls",
      "model_module_version": "2.0.0",
      "model_name": "HBoxModel",
      "state": {
       "_dom_classes": [],
       "_model_module": "@jupyter-widgets/controls",
       "_model_module_version": "2.0.0",
       "_model_name": "HBoxModel",
       "_view_count": null,
       "_view_module": "@jupyter-widgets/controls",
       "_view_module_version": "2.0.0",
       "_view_name": "HBoxView",
       "box_style": "",
       "children": [
        "IPY_MODEL_e12a454cdd68460287613b061c7de15b",
        "IPY_MODEL_f78074e552e3496dbf04b5e785b2a485",
        "IPY_MODEL_dd9c2c63ab444fe6abfcbde51f51fa64"
       ],
       "layout": "IPY_MODEL_e7adeece0cc74d49a1bf4c425ceda0fb",
       "tabbable": null,
       "tooltip": null
      }
     },
     "968b91c2bd4b4d79bf5a5ec28828dac3": {
      "model_module": "@jupyter-widgets/base",
      "model_module_version": "2.0.0",
      "model_name": "LayoutModel",
      "state": {
       "_model_module": "@jupyter-widgets/base",
       "_model_module_version": "2.0.0",
       "_model_name": "LayoutModel",
       "_view_count": null,
       "_view_module": "@jupyter-widgets/base",
       "_view_module_version": "2.0.0",
       "_view_name": "LayoutView",
       "align_content": null,
       "align_items": null,
       "align_self": null,
       "border_bottom": null,
       "border_left": null,
       "border_right": null,
       "border_top": null,
       "bottom": null,
       "display": null,
       "flex": null,
       "flex_flow": null,
       "grid_area": null,
       "grid_auto_columns": null,
       "grid_auto_flow": null,
       "grid_auto_rows": null,
       "grid_column": null,
       "grid_gap": null,
       "grid_row": null,
       "grid_template_areas": null,
       "grid_template_columns": null,
       "grid_template_rows": null,
       "height": null,
       "justify_content": null,
       "justify_items": null,
       "left": null,
       "margin": null,
       "max_height": null,
       "max_width": null,
       "min_height": null,
       "min_width": null,
       "object_fit": null,
       "object_position": null,
       "order": null,
       "overflow": null,
       "padding": null,
       "right": null,
       "top": null,
       "visibility": null,
       "width": null
      }
     },
     "96bd143447114098b44833e1d4203eaa": {
      "model_module": "@jupyter-widgets/base",
      "model_module_version": "2.0.0",
      "model_name": "LayoutModel",
      "state": {
       "_model_module": "@jupyter-widgets/base",
       "_model_module_version": "2.0.0",
       "_model_name": "LayoutModel",
       "_view_count": null,
       "_view_module": "@jupyter-widgets/base",
       "_view_module_version": "2.0.0",
       "_view_name": "LayoutView",
       "align_content": null,
       "align_items": null,
       "align_self": null,
       "border_bottom": null,
       "border_left": null,
       "border_right": null,
       "border_top": null,
       "bottom": null,
       "display": null,
       "flex": null,
       "flex_flow": null,
       "grid_area": null,
       "grid_auto_columns": null,
       "grid_auto_flow": null,
       "grid_auto_rows": null,
       "grid_column": null,
       "grid_gap": null,
       "grid_row": null,
       "grid_template_areas": null,
       "grid_template_columns": null,
       "grid_template_rows": null,
       "height": null,
       "justify_content": null,
       "justify_items": null,
       "left": null,
       "margin": null,
       "max_height": null,
       "max_width": null,
       "min_height": null,
       "min_width": null,
       "object_fit": null,
       "object_position": null,
       "order": null,
       "overflow": null,
       "padding": null,
       "right": null,
       "top": null,
       "visibility": null,
       "width": null
      }
     },
     "9c8fa24a0f6b4f96b50942640c125a03": {
      "model_module": "@jupyter-widgets/controls",
      "model_module_version": "2.0.0",
      "model_name": "HBoxModel",
      "state": {
       "_dom_classes": [],
       "_model_module": "@jupyter-widgets/controls",
       "_model_module_version": "2.0.0",
       "_model_name": "HBoxModel",
       "_view_count": null,
       "_view_module": "@jupyter-widgets/controls",
       "_view_module_version": "2.0.0",
       "_view_name": "HBoxView",
       "box_style": "",
       "children": [
        "IPY_MODEL_e6fef313242a4d378d2fcd8fb6854f91",
        "IPY_MODEL_c35e3663cbd848759f0356755626e7d4",
        "IPY_MODEL_67b50d4a528f4ceda8bc3360c4254fb9"
       ],
       "layout": "IPY_MODEL_968b91c2bd4b4d79bf5a5ec28828dac3",
       "tabbable": null,
       "tooltip": null
      }
     },
     "a32d44fad32d4a16bc341ca15024d3ed": {
      "model_module": "@jupyter-widgets/controls",
      "model_module_version": "2.0.0",
      "model_name": "HBoxModel",
      "state": {
       "_dom_classes": [],
       "_model_module": "@jupyter-widgets/controls",
       "_model_module_version": "2.0.0",
       "_model_name": "HBoxModel",
       "_view_count": null,
       "_view_module": "@jupyter-widgets/controls",
       "_view_module_version": "2.0.0",
       "_view_name": "HBoxView",
       "box_style": "",
       "children": [
        "IPY_MODEL_054a47e7a9494d1db4ad4a89f86eaaf3",
        "IPY_MODEL_5cbb1bbab4414e4ebc32f422eb41c3aa",
        "IPY_MODEL_fd5e5d8425ff47a2bfba25a18aef56f8"
       ],
       "layout": "IPY_MODEL_0e44612fdf354eb9a33641cf8a2ce060",
       "tabbable": null,
       "tooltip": null
      }
     },
     "a68246b4d24c4762acdaee25e02343ad": {
      "model_module": "@jupyter-widgets/base",
      "model_module_version": "2.0.0",
      "model_name": "LayoutModel",
      "state": {
       "_model_module": "@jupyter-widgets/base",
       "_model_module_version": "2.0.0",
       "_model_name": "LayoutModel",
       "_view_count": null,
       "_view_module": "@jupyter-widgets/base",
       "_view_module_version": "2.0.0",
       "_view_name": "LayoutView",
       "align_content": null,
       "align_items": null,
       "align_self": null,
       "border_bottom": null,
       "border_left": null,
       "border_right": null,
       "border_top": null,
       "bottom": null,
       "display": null,
       "flex": null,
       "flex_flow": null,
       "grid_area": null,
       "grid_auto_columns": null,
       "grid_auto_flow": null,
       "grid_auto_rows": null,
       "grid_column": null,
       "grid_gap": null,
       "grid_row": null,
       "grid_template_areas": null,
       "grid_template_columns": null,
       "grid_template_rows": null,
       "height": null,
       "justify_content": null,
       "justify_items": null,
       "left": null,
       "margin": null,
       "max_height": null,
       "max_width": null,
       "min_height": null,
       "min_width": null,
       "object_fit": null,
       "object_position": null,
       "order": null,
       "overflow": null,
       "padding": null,
       "right": null,
       "top": null,
       "visibility": null,
       "width": null
      }
     },
     "a7458517fa32439dbfb8725a7d523246": {
      "model_module": "@jupyter-widgets/base",
      "model_module_version": "2.0.0",
      "model_name": "LayoutModel",
      "state": {
       "_model_module": "@jupyter-widgets/base",
       "_model_module_version": "2.0.0",
       "_model_name": "LayoutModel",
       "_view_count": null,
       "_view_module": "@jupyter-widgets/base",
       "_view_module_version": "2.0.0",
       "_view_name": "LayoutView",
       "align_content": null,
       "align_items": null,
       "align_self": null,
       "border_bottom": null,
       "border_left": null,
       "border_right": null,
       "border_top": null,
       "bottom": null,
       "display": null,
       "flex": null,
       "flex_flow": null,
       "grid_area": null,
       "grid_auto_columns": null,
       "grid_auto_flow": null,
       "grid_auto_rows": null,
       "grid_column": null,
       "grid_gap": null,
       "grid_row": null,
       "grid_template_areas": null,
       "grid_template_columns": null,
       "grid_template_rows": null,
       "height": null,
       "justify_content": null,
       "justify_items": null,
       "left": null,
       "margin": null,
       "max_height": null,
       "max_width": null,
       "min_height": null,
       "min_width": null,
       "object_fit": null,
       "object_position": null,
       "order": null,
       "overflow": null,
       "padding": null,
       "right": null,
       "top": null,
       "visibility": null,
       "width": null
      }
     },
     "aa3d612b20dd43e596f3c7df2f56bbb0": {
      "model_module": "@jupyter-widgets/controls",
      "model_module_version": "2.0.0",
      "model_name": "HTMLStyleModel",
      "state": {
       "_model_module": "@jupyter-widgets/controls",
       "_model_module_version": "2.0.0",
       "_model_name": "HTMLStyleModel",
       "_view_count": null,
       "_view_module": "@jupyter-widgets/base",
       "_view_module_version": "2.0.0",
       "_view_name": "StyleView",
       "background": null,
       "description_width": "",
       "font_size": null,
       "text_color": null
      }
     },
     "b04d613f796e41aa9aa44c5705370d66": {
      "model_module": "@jupyter-widgets/controls",
      "model_module_version": "2.0.0",
      "model_name": "HTMLStyleModel",
      "state": {
       "_model_module": "@jupyter-widgets/controls",
       "_model_module_version": "2.0.0",
       "_model_name": "HTMLStyleModel",
       "_view_count": null,
       "_view_module": "@jupyter-widgets/base",
       "_view_module_version": "2.0.0",
       "_view_name": "StyleView",
       "background": null,
       "description_width": "",
       "font_size": null,
       "text_color": null
      }
     },
     "b55d6813a7e14345a8baec29a1d2bef5": {
      "model_module": "@jupyter-widgets/controls",
      "model_module_version": "2.0.0",
      "model_name": "HTMLStyleModel",
      "state": {
       "_model_module": "@jupyter-widgets/controls",
       "_model_module_version": "2.0.0",
       "_model_name": "HTMLStyleModel",
       "_view_count": null,
       "_view_module": "@jupyter-widgets/base",
       "_view_module_version": "2.0.0",
       "_view_name": "StyleView",
       "background": null,
       "description_width": "",
       "font_size": null,
       "text_color": null
      }
     },
     "b9155e6d98624d6a84a49bf7025e90ca": {
      "model_module": "@jupyter-widgets/controls",
      "model_module_version": "2.0.0",
      "model_name": "ProgressStyleModel",
      "state": {
       "_model_module": "@jupyter-widgets/controls",
       "_model_module_version": "2.0.0",
       "_model_name": "ProgressStyleModel",
       "_view_count": null,
       "_view_module": "@jupyter-widgets/base",
       "_view_module_version": "2.0.0",
       "_view_name": "StyleView",
       "bar_color": null,
       "description_width": ""
      }
     },
     "b9ae41f55d2148fcae070ec77f50c0b2": {
      "model_module": "@jupyter-widgets/base",
      "model_module_version": "2.0.0",
      "model_name": "LayoutModel",
      "state": {
       "_model_module": "@jupyter-widgets/base",
       "_model_module_version": "2.0.0",
       "_model_name": "LayoutModel",
       "_view_count": null,
       "_view_module": "@jupyter-widgets/base",
       "_view_module_version": "2.0.0",
       "_view_name": "LayoutView",
       "align_content": null,
       "align_items": null,
       "align_self": null,
       "border_bottom": null,
       "border_left": null,
       "border_right": null,
       "border_top": null,
       "bottom": null,
       "display": null,
       "flex": null,
       "flex_flow": null,
       "grid_area": null,
       "grid_auto_columns": null,
       "grid_auto_flow": null,
       "grid_auto_rows": null,
       "grid_column": null,
       "grid_gap": null,
       "grid_row": null,
       "grid_template_areas": null,
       "grid_template_columns": null,
       "grid_template_rows": null,
       "height": null,
       "justify_content": null,
       "justify_items": null,
       "left": null,
       "margin": null,
       "max_height": null,
       "max_width": null,
       "min_height": null,
       "min_width": null,
       "object_fit": null,
       "object_position": null,
       "order": null,
       "overflow": null,
       "padding": null,
       "right": null,
       "top": null,
       "visibility": null,
       "width": null
      }
     },
     "ba7fb39bae2842008607cb68ac5dda66": {
      "model_module": "@jupyter-widgets/controls",
      "model_module_version": "2.0.0",
      "model_name": "HBoxModel",
      "state": {
       "_dom_classes": [],
       "_model_module": "@jupyter-widgets/controls",
       "_model_module_version": "2.0.0",
       "_model_name": "HBoxModel",
       "_view_count": null,
       "_view_module": "@jupyter-widgets/controls",
       "_view_module_version": "2.0.0",
       "_view_name": "HBoxView",
       "box_style": "",
       "children": [
        "IPY_MODEL_7018eaaf37a642fbb2dc282e10b1fe32",
        "IPY_MODEL_c9ad8c1296d14349ab9447d8df6a1658",
        "IPY_MODEL_dab04c36577d4021b7a662d85e62d5cf"
       ],
       "layout": "IPY_MODEL_c6be2875529045b492f3b54e4a34d5d4",
       "tabbable": null,
       "tooltip": null
      }
     },
     "c35e3663cbd848759f0356755626e7d4": {
      "model_module": "@jupyter-widgets/controls",
      "model_module_version": "2.0.0",
      "model_name": "FloatProgressModel",
      "state": {
       "_dom_classes": [],
       "_model_module": "@jupyter-widgets/controls",
       "_model_module_version": "2.0.0",
       "_model_name": "FloatProgressModel",
       "_view_count": null,
       "_view_module": "@jupyter-widgets/controls",
       "_view_module_version": "2.0.0",
       "_view_name": "ProgressView",
       "bar_style": "success",
       "description": "",
       "description_allow_html": false,
       "layout": "IPY_MODEL_d2e5ecf0dc814160998104093b09c950",
       "max": 1961828.0,
       "min": 0.0,
       "orientation": "horizontal",
       "style": "IPY_MODEL_49bafff543b947f0818fe5c197b6db79",
       "tabbable": null,
       "tooltip": null,
       "value": 1961828.0
      }
     },
     "c6be2875529045b492f3b54e4a34d5d4": {
      "model_module": "@jupyter-widgets/base",
      "model_module_version": "2.0.0",
      "model_name": "LayoutModel",
      "state": {
       "_model_module": "@jupyter-widgets/base",
       "_model_module_version": "2.0.0",
       "_model_name": "LayoutModel",
       "_view_count": null,
       "_view_module": "@jupyter-widgets/base",
       "_view_module_version": "2.0.0",
       "_view_name": "LayoutView",
       "align_content": null,
       "align_items": null,
       "align_self": null,
       "border_bottom": null,
       "border_left": null,
       "border_right": null,
       "border_top": null,
       "bottom": null,
       "display": null,
       "flex": null,
       "flex_flow": null,
       "grid_area": null,
       "grid_auto_columns": null,
       "grid_auto_flow": null,
       "grid_auto_rows": null,
       "grid_column": null,
       "grid_gap": null,
       "grid_row": null,
       "grid_template_areas": null,
       "grid_template_columns": null,
       "grid_template_rows": null,
       "height": null,
       "justify_content": null,
       "justify_items": null,
       "left": null,
       "margin": null,
       "max_height": null,
       "max_width": null,
       "min_height": null,
       "min_width": null,
       "object_fit": null,
       "object_position": null,
       "order": null,
       "overflow": null,
       "padding": null,
       "right": null,
       "top": null,
       "visibility": null,
       "width": null
      }
     },
     "c9ad8c1296d14349ab9447d8df6a1658": {
      "model_module": "@jupyter-widgets/controls",
      "model_module_version": "2.0.0",
      "model_name": "FloatProgressModel",
      "state": {
       "_dom_classes": [],
       "_model_module": "@jupyter-widgets/controls",
       "_model_module_version": "2.0.0",
       "_model_name": "FloatProgressModel",
       "_view_count": null,
       "_view_module": "@jupyter-widgets/controls",
       "_view_module_version": "2.0.0",
       "_view_name": "ProgressView",
       "bar_style": "success",
       "description": "",
       "description_allow_html": false,
       "layout": "IPY_MODEL_a68246b4d24c4762acdaee25e02343ad",
       "max": 995526.0,
       "min": 0.0,
       "orientation": "horizontal",
       "style": "IPY_MODEL_4fe6b293f27948ef918b52d51b56ee1c",
       "tabbable": null,
       "tooltip": null,
       "value": 995526.0
      }
     },
     "cd3a5af5232e41149203d9d56667d0e9": {
      "model_module": "@jupyter-widgets/controls",
      "model_module_version": "2.0.0",
      "model_name": "HTMLStyleModel",
      "state": {
       "_model_module": "@jupyter-widgets/controls",
       "_model_module_version": "2.0.0",
       "_model_name": "HTMLStyleModel",
       "_view_count": null,
       "_view_module": "@jupyter-widgets/base",
       "_view_module_version": "2.0.0",
       "_view_name": "StyleView",
       "background": null,
       "description_width": "",
       "font_size": null,
       "text_color": null
      }
     },
     "d2e5ecf0dc814160998104093b09c950": {
      "model_module": "@jupyter-widgets/base",
      "model_module_version": "2.0.0",
      "model_name": "LayoutModel",
      "state": {
       "_model_module": "@jupyter-widgets/base",
       "_model_module_version": "2.0.0",
       "_model_name": "LayoutModel",
       "_view_count": null,
       "_view_module": "@jupyter-widgets/base",
       "_view_module_version": "2.0.0",
       "_view_name": "LayoutView",
       "align_content": null,
       "align_items": null,
       "align_self": null,
       "border_bottom": null,
       "border_left": null,
       "border_right": null,
       "border_top": null,
       "bottom": null,
       "display": null,
       "flex": null,
       "flex_flow": null,
       "grid_area": null,
       "grid_auto_columns": null,
       "grid_auto_flow": null,
       "grid_auto_rows": null,
       "grid_column": null,
       "grid_gap": null,
       "grid_row": null,
       "grid_template_areas": null,
       "grid_template_columns": null,
       "grid_template_rows": null,
       "height": null,
       "justify_content": null,
       "justify_items": null,
       "left": null,
       "margin": null,
       "max_height": null,
       "max_width": null,
       "min_height": null,
       "min_width": null,
       "object_fit": null,
       "object_position": null,
       "order": null,
       "overflow": null,
       "padding": null,
       "right": null,
       "top": null,
       "visibility": null,
       "width": null
      }
     },
     "d8168603e08348db89fa7f27b1bc3bd1": {
      "model_module": "@jupyter-widgets/controls",
      "model_module_version": "2.0.0",
      "model_name": "HBoxModel",
      "state": {
       "_dom_classes": [],
       "_model_module": "@jupyter-widgets/controls",
       "_model_module_version": "2.0.0",
       "_model_name": "HBoxModel",
       "_view_count": null,
       "_view_module": "@jupyter-widgets/controls",
       "_view_module_version": "2.0.0",
       "_view_name": "HBoxView",
       "box_style": "",
       "children": [
        "IPY_MODEL_4f0532c8898841498fabfd3613393a1e",
        "IPY_MODEL_fe845ea8a14f4defa4dd9972a8ab369f",
        "IPY_MODEL_e9fce5235eb54ada8a56fe68069ef21d"
       ],
       "layout": "IPY_MODEL_7a59a779d06f4ec4940c105faee5a962",
       "tabbable": null,
       "tooltip": null
      }
     },
     "dab04c36577d4021b7a662d85e62d5cf": {
      "model_module": "@jupyter-widgets/controls",
      "model_module_version": "2.0.0",
      "model_name": "HTMLModel",
      "state": {
       "_dom_classes": [],
       "_model_module": "@jupyter-widgets/controls",
       "_model_module_version": "2.0.0",
       "_model_name": "HTMLModel",
       "_view_count": null,
       "_view_module": "@jupyter-widgets/controls",
       "_view_module_version": "2.0.0",
       "_view_name": "HTMLView",
       "description": "",
       "description_allow_html": false,
       "layout": "IPY_MODEL_299ceeaf33a04943b749677527adac41",
       "placeholder": "​",
       "style": "IPY_MODEL_688e392d805c4eb6906bb9a6366a4231",
       "tabbable": null,
       "tooltip": null,
       "value": " 996k/996k [00:00&lt;00:00, 1.85MB/s]"
      }
     },
     "dd9c2c63ab444fe6abfcbde51f51fa64": {
      "model_module": "@jupyter-widgets/controls",
      "model_module_version": "2.0.0",
      "model_name": "HTMLModel",
      "state": {
       "_dom_classes": [],
       "_model_module": "@jupyter-widgets/controls",
       "_model_module_version": "2.0.0",
       "_model_name": "HTMLModel",
       "_view_count": null,
       "_view_module": "@jupyter-widgets/controls",
       "_view_module_version": "2.0.0",
       "_view_name": "HTMLView",
       "description": "",
       "description_allow_html": false,
       "layout": "IPY_MODEL_fe03b82d8bdc43febfce8f0a40b52412",
       "placeholder": "​",
       "style": "IPY_MODEL_0dce2afc778b42499d2c2c5c71f434bd",
       "tabbable": null,
       "tooltip": null,
       "value": " 625/625 [00:00&lt;00:00, 76.5kB/s]"
      }
     },
     "e12a454cdd68460287613b061c7de15b": {
      "model_module": "@jupyter-widgets/controls",
      "model_module_version": "2.0.0",
      "model_name": "HTMLModel",
      "state": {
       "_dom_classes": [],
       "_model_module": "@jupyter-widgets/controls",
       "_model_module_version": "2.0.0",
       "_model_name": "HTMLModel",
       "_view_count": null,
       "_view_module": "@jupyter-widgets/controls",
       "_view_module_version": "2.0.0",
       "_view_name": "HTMLView",
       "description": "",
       "description_allow_html": false,
       "layout": "IPY_MODEL_b9ae41f55d2148fcae070ec77f50c0b2",
       "placeholder": "​",
       "style": "IPY_MODEL_b04d613f796e41aa9aa44c5705370d66",
       "tabbable": null,
       "tooltip": null,
       "value": "config.json: 100%"
      }
     },
     "e187e24d432f4ba38adf49e7d455b66e": {
      "model_module": "@jupyter-widgets/controls",
      "model_module_version": "2.0.0",
      "model_name": "ProgressStyleModel",
      "state": {
       "_model_module": "@jupyter-widgets/controls",
       "_model_module_version": "2.0.0",
       "_model_name": "ProgressStyleModel",
       "_view_count": null,
       "_view_module": "@jupyter-widgets/base",
       "_view_module_version": "2.0.0",
       "_view_name": "StyleView",
       "bar_color": null,
       "description_width": ""
      }
     },
     "e6fef313242a4d378d2fcd8fb6854f91": {
      "model_module": "@jupyter-widgets/controls",
      "model_module_version": "2.0.0",
      "model_name": "HTMLModel",
      "state": {
       "_dom_classes": [],
       "_model_module": "@jupyter-widgets/controls",
       "_model_module_version": "2.0.0",
       "_model_name": "HTMLModel",
       "_view_count": null,
       "_view_module": "@jupyter-widgets/controls",
       "_view_module_version": "2.0.0",
       "_view_name": "HTMLView",
       "description": "",
       "description_allow_html": false,
       "layout": "IPY_MODEL_e922c65f1e0e435a9792715728f0a96a",
       "placeholder": "​",
       "style": "IPY_MODEL_aa3d612b20dd43e596f3c7df2f56bbb0",
       "tabbable": null,
       "tooltip": null,
       "value": "tokenizer.json: 100%"
      }
     },
     "e7adeece0cc74d49a1bf4c425ceda0fb": {
      "model_module": "@jupyter-widgets/base",
      "model_module_version": "2.0.0",
      "model_name": "LayoutModel",
      "state": {
       "_model_module": "@jupyter-widgets/base",
       "_model_module_version": "2.0.0",
       "_model_name": "LayoutModel",
       "_view_count": null,
       "_view_module": "@jupyter-widgets/base",
       "_view_module_version": "2.0.0",
       "_view_name": "LayoutView",
       "align_content": null,
       "align_items": null,
       "align_self": null,
       "border_bottom": null,
       "border_left": null,
       "border_right": null,
       "border_top": null,
       "bottom": null,
       "display": null,
       "flex": null,
       "flex_flow": null,
       "grid_area": null,
       "grid_auto_columns": null,
       "grid_auto_flow": null,
       "grid_auto_rows": null,
       "grid_column": null,
       "grid_gap": null,
       "grid_row": null,
       "grid_template_areas": null,
       "grid_template_columns": null,
       "grid_template_rows": null,
       "height": null,
       "justify_content": null,
       "justify_items": null,
       "left": null,
       "margin": null,
       "max_height": null,
       "max_width": null,
       "min_height": null,
       "min_width": null,
       "object_fit": null,
       "object_position": null,
       "order": null,
       "overflow": null,
       "padding": null,
       "right": null,
       "top": null,
       "visibility": null,
       "width": null
      }
     },
     "e84a1fcfd18a4984a7d0c815e72e5069": {
      "model_module": "@jupyter-widgets/base",
      "model_module_version": "2.0.0",
      "model_name": "LayoutModel",
      "state": {
       "_model_module": "@jupyter-widgets/base",
       "_model_module_version": "2.0.0",
       "_model_name": "LayoutModel",
       "_view_count": null,
       "_view_module": "@jupyter-widgets/base",
       "_view_module_version": "2.0.0",
       "_view_name": "LayoutView",
       "align_content": null,
       "align_items": null,
       "align_self": null,
       "border_bottom": null,
       "border_left": null,
       "border_right": null,
       "border_top": null,
       "bottom": null,
       "display": null,
       "flex": null,
       "flex_flow": null,
       "grid_area": null,
       "grid_auto_columns": null,
       "grid_auto_flow": null,
       "grid_auto_rows": null,
       "grid_column": null,
       "grid_gap": null,
       "grid_row": null,
       "grid_template_areas": null,
       "grid_template_columns": null,
       "grid_template_rows": null,
       "height": null,
       "justify_content": null,
       "justify_items": null,
       "left": null,
       "margin": null,
       "max_height": null,
       "max_width": null,
       "min_height": null,
       "min_width": null,
       "object_fit": null,
       "object_position": null,
       "order": null,
       "overflow": null,
       "padding": null,
       "right": null,
       "top": null,
       "visibility": null,
       "width": null
      }
     },
     "e922c65f1e0e435a9792715728f0a96a": {
      "model_module": "@jupyter-widgets/base",
      "model_module_version": "2.0.0",
      "model_name": "LayoutModel",
      "state": {
       "_model_module": "@jupyter-widgets/base",
       "_model_module_version": "2.0.0",
       "_model_name": "LayoutModel",
       "_view_count": null,
       "_view_module": "@jupyter-widgets/base",
       "_view_module_version": "2.0.0",
       "_view_name": "LayoutView",
       "align_content": null,
       "align_items": null,
       "align_self": null,
       "border_bottom": null,
       "border_left": null,
       "border_right": null,
       "border_top": null,
       "bottom": null,
       "display": null,
       "flex": null,
       "flex_flow": null,
       "grid_area": null,
       "grid_auto_columns": null,
       "grid_auto_flow": null,
       "grid_auto_rows": null,
       "grid_column": null,
       "grid_gap": null,
       "grid_row": null,
       "grid_template_areas": null,
       "grid_template_columns": null,
       "grid_template_rows": null,
       "height": null,
       "justify_content": null,
       "justify_items": null,
       "left": null,
       "margin": null,
       "max_height": null,
       "max_width": null,
       "min_height": null,
       "min_width": null,
       "object_fit": null,
       "object_position": null,
       "order": null,
       "overflow": null,
       "padding": null,
       "right": null,
       "top": null,
       "visibility": null,
       "width": null
      }
     },
     "e971326d9003488c81e9f77a450ff428": {
      "model_module": "@jupyter-widgets/base",
      "model_module_version": "2.0.0",
      "model_name": "LayoutModel",
      "state": {
       "_model_module": "@jupyter-widgets/base",
       "_model_module_version": "2.0.0",
       "_model_name": "LayoutModel",
       "_view_count": null,
       "_view_module": "@jupyter-widgets/base",
       "_view_module_version": "2.0.0",
       "_view_name": "LayoutView",
       "align_content": null,
       "align_items": null,
       "align_self": null,
       "border_bottom": null,
       "border_left": null,
       "border_right": null,
       "border_top": null,
       "bottom": null,
       "display": null,
       "flex": null,
       "flex_flow": null,
       "grid_area": null,
       "grid_auto_columns": null,
       "grid_auto_flow": null,
       "grid_auto_rows": null,
       "grid_column": null,
       "grid_gap": null,
       "grid_row": null,
       "grid_template_areas": null,
       "grid_template_columns": null,
       "grid_template_rows": null,
       "height": null,
       "justify_content": null,
       "justify_items": null,
       "left": null,
       "margin": null,
       "max_height": null,
       "max_width": null,
       "min_height": null,
       "min_width": null,
       "object_fit": null,
       "object_position": null,
       "order": null,
       "overflow": null,
       "padding": null,
       "right": null,
       "top": null,
       "visibility": null,
       "width": null
      }
     },
     "e9fce5235eb54ada8a56fe68069ef21d": {
      "model_module": "@jupyter-widgets/controls",
      "model_module_version": "2.0.0",
      "model_name": "HTMLModel",
      "state": {
       "_dom_classes": [],
       "_model_module": "@jupyter-widgets/controls",
       "_model_module_version": "2.0.0",
       "_model_name": "HTMLModel",
       "_view_count": null,
       "_view_module": "@jupyter-widgets/controls",
       "_view_module_version": "2.0.0",
       "_view_name": "HTMLView",
       "description": "",
       "description_allow_html": false,
       "layout": "IPY_MODEL_96bd143447114098b44833e1d4203eaa",
       "placeholder": "​",
       "style": "IPY_MODEL_f2f41d7b9e4f4c8a9ce5de4d6f92d2c2",
       "tabbable": null,
       "tooltip": null,
       "value": " 714M/714M [00:02&lt;00:00, 365MB/s]"
      }
     },
     "f2f41d7b9e4f4c8a9ce5de4d6f92d2c2": {
      "model_module": "@jupyter-widgets/controls",
      "model_module_version": "2.0.0",
      "model_name": "HTMLStyleModel",
      "state": {
       "_model_module": "@jupyter-widgets/controls",
       "_model_module_version": "2.0.0",
       "_model_name": "HTMLStyleModel",
       "_view_count": null,
       "_view_module": "@jupyter-widgets/base",
       "_view_module_version": "2.0.0",
       "_view_name": "StyleView",
       "background": null,
       "description_width": "",
       "font_size": null,
       "text_color": null
      }
     },
     "f64b40cdd178471e9730b8ce8b80e5bf": {
      "model_module": "@jupyter-widgets/controls",
      "model_module_version": "2.0.0",
      "model_name": "HTMLStyleModel",
      "state": {
       "_model_module": "@jupyter-widgets/controls",
       "_model_module_version": "2.0.0",
       "_model_name": "HTMLStyleModel",
       "_view_count": null,
       "_view_module": "@jupyter-widgets/base",
       "_view_module_version": "2.0.0",
       "_view_name": "StyleView",
       "background": null,
       "description_width": "",
       "font_size": null,
       "text_color": null
      }
     },
     "f78074e552e3496dbf04b5e785b2a485": {
      "model_module": "@jupyter-widgets/controls",
      "model_module_version": "2.0.0",
      "model_name": "FloatProgressModel",
      "state": {
       "_dom_classes": [],
       "_model_module": "@jupyter-widgets/controls",
       "_model_module_version": "2.0.0",
       "_model_name": "FloatProgressModel",
       "_view_count": null,
       "_view_module": "@jupyter-widgets/controls",
       "_view_module_version": "2.0.0",
       "_view_name": "ProgressView",
       "bar_style": "success",
       "description": "",
       "description_allow_html": false,
       "layout": "IPY_MODEL_40b3a2aafc7a436eb747e56acd095e08",
       "max": 625.0,
       "min": 0.0,
       "orientation": "horizontal",
       "style": "IPY_MODEL_fbb4436ef2804f9eb58eba66ea5e967f",
       "tabbable": null,
       "tooltip": null,
       "value": 625.0
      }
     },
     "fbb4436ef2804f9eb58eba66ea5e967f": {
      "model_module": "@jupyter-widgets/controls",
      "model_module_version": "2.0.0",
      "model_name": "ProgressStyleModel",
      "state": {
       "_model_module": "@jupyter-widgets/controls",
       "_model_module_version": "2.0.0",
       "_model_name": "ProgressStyleModel",
       "_view_count": null,
       "_view_module": "@jupyter-widgets/base",
       "_view_module_version": "2.0.0",
       "_view_name": "StyleView",
       "bar_color": null,
       "description_width": ""
      }
     },
     "fd5e5d8425ff47a2bfba25a18aef56f8": {
      "model_module": "@jupyter-widgets/controls",
      "model_module_version": "2.0.0",
      "model_name": "HTMLModel",
      "state": {
       "_dom_classes": [],
       "_model_module": "@jupyter-widgets/controls",
       "_model_module_version": "2.0.0",
       "_model_name": "HTMLModel",
       "_view_count": null,
       "_view_module": "@jupyter-widgets/controls",
       "_view_module_version": "2.0.0",
       "_view_name": "HTMLView",
       "description": "",
       "description_allow_html": false,
       "layout": "IPY_MODEL_fea67dc18e054114b48ed1cedd7dd4b7",
       "placeholder": "​",
       "style": "IPY_MODEL_cd3a5af5232e41149203d9d56667d0e9",
       "tabbable": null,
       "tooltip": null,
       "value": " 49.0/49.0 [00:00&lt;00:00, 5.26kB/s]"
      }
     },
     "fe03b82d8bdc43febfce8f0a40b52412": {
      "model_module": "@jupyter-widgets/base",
      "model_module_version": "2.0.0",
      "model_name": "LayoutModel",
      "state": {
       "_model_module": "@jupyter-widgets/base",
       "_model_module_version": "2.0.0",
       "_model_name": "LayoutModel",
       "_view_count": null,
       "_view_module": "@jupyter-widgets/base",
       "_view_module_version": "2.0.0",
       "_view_name": "LayoutView",
       "align_content": null,
       "align_items": null,
       "align_self": null,
       "border_bottom": null,
       "border_left": null,
       "border_right": null,
       "border_top": null,
       "bottom": null,
       "display": null,
       "flex": null,
       "flex_flow": null,
       "grid_area": null,
       "grid_auto_columns": null,
       "grid_auto_flow": null,
       "grid_auto_rows": null,
       "grid_column": null,
       "grid_gap": null,
       "grid_row": null,
       "grid_template_areas": null,
       "grid_template_columns": null,
       "grid_template_rows": null,
       "height": null,
       "justify_content": null,
       "justify_items": null,
       "left": null,
       "margin": null,
       "max_height": null,
       "max_width": null,
       "min_height": null,
       "min_width": null,
       "object_fit": null,
       "object_position": null,
       "order": null,
       "overflow": null,
       "padding": null,
       "right": null,
       "top": null,
       "visibility": null,
       "width": null
      }
     },
     "fe845ea8a14f4defa4dd9972a8ab369f": {
      "model_module": "@jupyter-widgets/controls",
      "model_module_version": "2.0.0",
      "model_name": "FloatProgressModel",
      "state": {
       "_dom_classes": [],
       "_model_module": "@jupyter-widgets/controls",
       "_model_module_version": "2.0.0",
       "_model_name": "FloatProgressModel",
       "_view_count": null,
       "_view_module": "@jupyter-widgets/controls",
       "_view_module_version": "2.0.0",
       "_view_name": "ProgressView",
       "bar_style": "success",
       "description": "",
       "description_allow_html": false,
       "layout": "IPY_MODEL_70a0945156c145a2a0e1894966161163",
       "max": 714290682.0,
       "min": 0.0,
       "orientation": "horizontal",
       "style": "IPY_MODEL_e187e24d432f4ba38adf49e7d455b66e",
       "tabbable": null,
       "tooltip": null,
       "value": 714290682.0
      }
     },
     "fea67dc18e054114b48ed1cedd7dd4b7": {
      "model_module": "@jupyter-widgets/base",
      "model_module_version": "2.0.0",
      "model_name": "LayoutModel",
      "state": {
       "_model_module": "@jupyter-widgets/base",
       "_model_module_version": "2.0.0",
       "_model_name": "LayoutModel",
       "_view_count": null,
       "_view_module": "@jupyter-widgets/base",
       "_view_module_version": "2.0.0",
       "_view_name": "LayoutView",
       "align_content": null,
       "align_items": null,
       "align_self": null,
       "border_bottom": null,
       "border_left": null,
       "border_right": null,
       "border_top": null,
       "bottom": null,
       "display": null,
       "flex": null,
       "flex_flow": null,
       "grid_area": null,
       "grid_auto_columns": null,
       "grid_auto_flow": null,
       "grid_auto_rows": null,
       "grid_column": null,
       "grid_gap": null,
       "grid_row": null,
       "grid_template_areas": null,
       "grid_template_columns": null,
       "grid_template_rows": null,
       "height": null,
       "justify_content": null,
       "justify_items": null,
       "left": null,
       "margin": null,
       "max_height": null,
       "max_width": null,
       "min_height": null,
       "min_width": null,
       "object_fit": null,
       "object_position": null,
       "order": null,
       "overflow": null,
       "padding": null,
       "right": null,
       "top": null,
       "visibility": null,
       "width": null
      }
     }
    },
    "version_major": 2,
    "version_minor": 0
   }
  }
 },
 "nbformat": 4,
 "nbformat_minor": 5
}
